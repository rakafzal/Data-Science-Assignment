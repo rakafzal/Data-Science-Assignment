{
 "cells": [
  {
   "cell_type": "code",
   "execution_count": 192,
   "id": "d8f85048",
   "metadata": {},
   "outputs": [],
   "source": [
    "import pandas as pd\n",
    "import numpy as np\n",
    "import seaborn as sns\n",
    "import matplotlib.pyplot as plt\n",
    "from sklearn.linear_model import LinearRegression\n",
    "from sklearn.model_selection import train_test_split,cross_val_score\n",
    "from sklearn.preprocessing import RobustScaler,StandardScaler,MinMaxScaler\n",
    "from sklearn.metrics import r2_score\n",
    "import statsmodels.formula.api as sm\n",
    "import scipy.stats as stat\n",
    "import statsmodels.formula.api as smf\n",
    "from sklearn.decomposition import PCA\n",
    "from sklearn.metrics import mean_squared_error\n",
    "from statsmodels.stats.outliers_influence import variance_inflation_factor\n",
    "from statsmodels.graphics.regressionplots import influence_plot"
   ]
  },
  {
   "cell_type": "code",
   "execution_count": 2,
   "id": "dbdf7822",
   "metadata": {},
   "outputs": [
    {
     "data": {
      "text/html": [
       "<div>\n",
       "<style scoped>\n",
       "    .dataframe tbody tr th:only-of-type {\n",
       "        vertical-align: middle;\n",
       "    }\n",
       "\n",
       "    .dataframe tbody tr th {\n",
       "        vertical-align: top;\n",
       "    }\n",
       "\n",
       "    .dataframe thead th {\n",
       "        text-align: right;\n",
       "    }\n",
       "</style>\n",
       "<table border=\"1\" class=\"dataframe\">\n",
       "  <thead>\n",
       "    <tr style=\"text-align: right;\">\n",
       "      <th></th>\n",
       "      <th>Id</th>\n",
       "      <th>Model</th>\n",
       "      <th>Price</th>\n",
       "      <th>Age_08_04</th>\n",
       "      <th>Mfg_Month</th>\n",
       "      <th>Mfg_Year</th>\n",
       "      <th>KM</th>\n",
       "      <th>Fuel_Type</th>\n",
       "      <th>HP</th>\n",
       "      <th>Met_Color</th>\n",
       "      <th>...</th>\n",
       "      <th>Central_Lock</th>\n",
       "      <th>Powered_Windows</th>\n",
       "      <th>Power_Steering</th>\n",
       "      <th>Radio</th>\n",
       "      <th>Mistlamps</th>\n",
       "      <th>Sport_Model</th>\n",
       "      <th>Backseat_Divider</th>\n",
       "      <th>Metallic_Rim</th>\n",
       "      <th>Radio_cassette</th>\n",
       "      <th>Tow_Bar</th>\n",
       "    </tr>\n",
       "  </thead>\n",
       "  <tbody>\n",
       "    <tr>\n",
       "      <th>0</th>\n",
       "      <td>1</td>\n",
       "      <td>TOYOTA Corolla 2.0 D4D HATCHB TERRA 2/3-Doors</td>\n",
       "      <td>13500</td>\n",
       "      <td>23</td>\n",
       "      <td>10</td>\n",
       "      <td>2002</td>\n",
       "      <td>46986</td>\n",
       "      <td>Diesel</td>\n",
       "      <td>90</td>\n",
       "      <td>1</td>\n",
       "      <td>...</td>\n",
       "      <td>1</td>\n",
       "      <td>1</td>\n",
       "      <td>1</td>\n",
       "      <td>0</td>\n",
       "      <td>0</td>\n",
       "      <td>0</td>\n",
       "      <td>1</td>\n",
       "      <td>0</td>\n",
       "      <td>0</td>\n",
       "      <td>0</td>\n",
       "    </tr>\n",
       "    <tr>\n",
       "      <th>1</th>\n",
       "      <td>2</td>\n",
       "      <td>TOYOTA Corolla 2.0 D4D HATCHB TERRA 2/3-Doors</td>\n",
       "      <td>13750</td>\n",
       "      <td>23</td>\n",
       "      <td>10</td>\n",
       "      <td>2002</td>\n",
       "      <td>72937</td>\n",
       "      <td>Diesel</td>\n",
       "      <td>90</td>\n",
       "      <td>1</td>\n",
       "      <td>...</td>\n",
       "      <td>1</td>\n",
       "      <td>0</td>\n",
       "      <td>1</td>\n",
       "      <td>0</td>\n",
       "      <td>0</td>\n",
       "      <td>0</td>\n",
       "      <td>1</td>\n",
       "      <td>0</td>\n",
       "      <td>0</td>\n",
       "      <td>0</td>\n",
       "    </tr>\n",
       "    <tr>\n",
       "      <th>2</th>\n",
       "      <td>3</td>\n",
       "      <td>TOYOTA Corolla 2.0 D4D HATCHB TERRA 2/3-Doors</td>\n",
       "      <td>13950</td>\n",
       "      <td>24</td>\n",
       "      <td>9</td>\n",
       "      <td>2002</td>\n",
       "      <td>41711</td>\n",
       "      <td>Diesel</td>\n",
       "      <td>90</td>\n",
       "      <td>1</td>\n",
       "      <td>...</td>\n",
       "      <td>0</td>\n",
       "      <td>0</td>\n",
       "      <td>1</td>\n",
       "      <td>0</td>\n",
       "      <td>0</td>\n",
       "      <td>0</td>\n",
       "      <td>1</td>\n",
       "      <td>0</td>\n",
       "      <td>0</td>\n",
       "      <td>0</td>\n",
       "    </tr>\n",
       "    <tr>\n",
       "      <th>3</th>\n",
       "      <td>4</td>\n",
       "      <td>TOYOTA Corolla 2.0 D4D HATCHB TERRA 2/3-Doors</td>\n",
       "      <td>14950</td>\n",
       "      <td>26</td>\n",
       "      <td>7</td>\n",
       "      <td>2002</td>\n",
       "      <td>48000</td>\n",
       "      <td>Diesel</td>\n",
       "      <td>90</td>\n",
       "      <td>0</td>\n",
       "      <td>...</td>\n",
       "      <td>0</td>\n",
       "      <td>0</td>\n",
       "      <td>1</td>\n",
       "      <td>0</td>\n",
       "      <td>0</td>\n",
       "      <td>0</td>\n",
       "      <td>1</td>\n",
       "      <td>0</td>\n",
       "      <td>0</td>\n",
       "      <td>0</td>\n",
       "    </tr>\n",
       "    <tr>\n",
       "      <th>4</th>\n",
       "      <td>5</td>\n",
       "      <td>TOYOTA Corolla 2.0 D4D HATCHB SOL 2/3-Doors</td>\n",
       "      <td>13750</td>\n",
       "      <td>30</td>\n",
       "      <td>3</td>\n",
       "      <td>2002</td>\n",
       "      <td>38500</td>\n",
       "      <td>Diesel</td>\n",
       "      <td>90</td>\n",
       "      <td>0</td>\n",
       "      <td>...</td>\n",
       "      <td>1</td>\n",
       "      <td>1</td>\n",
       "      <td>1</td>\n",
       "      <td>0</td>\n",
       "      <td>1</td>\n",
       "      <td>0</td>\n",
       "      <td>1</td>\n",
       "      <td>0</td>\n",
       "      <td>0</td>\n",
       "      <td>0</td>\n",
       "    </tr>\n",
       "    <tr>\n",
       "      <th>...</th>\n",
       "      <td>...</td>\n",
       "      <td>...</td>\n",
       "      <td>...</td>\n",
       "      <td>...</td>\n",
       "      <td>...</td>\n",
       "      <td>...</td>\n",
       "      <td>...</td>\n",
       "      <td>...</td>\n",
       "      <td>...</td>\n",
       "      <td>...</td>\n",
       "      <td>...</td>\n",
       "      <td>...</td>\n",
       "      <td>...</td>\n",
       "      <td>...</td>\n",
       "      <td>...</td>\n",
       "      <td>...</td>\n",
       "      <td>...</td>\n",
       "      <td>...</td>\n",
       "      <td>...</td>\n",
       "      <td>...</td>\n",
       "      <td>...</td>\n",
       "    </tr>\n",
       "    <tr>\n",
       "      <th>1431</th>\n",
       "      <td>1438</td>\n",
       "      <td>TOYOTA Corolla 1.3 16V HATCHB G6 2/3-Doors</td>\n",
       "      <td>7500</td>\n",
       "      <td>69</td>\n",
       "      <td>12</td>\n",
       "      <td>1998</td>\n",
       "      <td>20544</td>\n",
       "      <td>Petrol</td>\n",
       "      <td>86</td>\n",
       "      <td>1</td>\n",
       "      <td>...</td>\n",
       "      <td>1</td>\n",
       "      <td>1</td>\n",
       "      <td>1</td>\n",
       "      <td>0</td>\n",
       "      <td>1</td>\n",
       "      <td>1</td>\n",
       "      <td>1</td>\n",
       "      <td>0</td>\n",
       "      <td>0</td>\n",
       "      <td>0</td>\n",
       "    </tr>\n",
       "    <tr>\n",
       "      <th>1432</th>\n",
       "      <td>1439</td>\n",
       "      <td>TOYOTA Corolla 1.3 16V HATCHB LINEA TERRA 2/3-...</td>\n",
       "      <td>10845</td>\n",
       "      <td>72</td>\n",
       "      <td>9</td>\n",
       "      <td>1998</td>\n",
       "      <td>19000</td>\n",
       "      <td>Petrol</td>\n",
       "      <td>86</td>\n",
       "      <td>0</td>\n",
       "      <td>...</td>\n",
       "      <td>0</td>\n",
       "      <td>0</td>\n",
       "      <td>1</td>\n",
       "      <td>0</td>\n",
       "      <td>0</td>\n",
       "      <td>1</td>\n",
       "      <td>1</td>\n",
       "      <td>0</td>\n",
       "      <td>0</td>\n",
       "      <td>0</td>\n",
       "    </tr>\n",
       "    <tr>\n",
       "      <th>1433</th>\n",
       "      <td>1440</td>\n",
       "      <td>TOYOTA Corolla 1.3 16V HATCHB LINEA TERRA 2/3-...</td>\n",
       "      <td>8500</td>\n",
       "      <td>71</td>\n",
       "      <td>10</td>\n",
       "      <td>1998</td>\n",
       "      <td>17016</td>\n",
       "      <td>Petrol</td>\n",
       "      <td>86</td>\n",
       "      <td>0</td>\n",
       "      <td>...</td>\n",
       "      <td>0</td>\n",
       "      <td>0</td>\n",
       "      <td>1</td>\n",
       "      <td>0</td>\n",
       "      <td>0</td>\n",
       "      <td>0</td>\n",
       "      <td>1</td>\n",
       "      <td>0</td>\n",
       "      <td>0</td>\n",
       "      <td>0</td>\n",
       "    </tr>\n",
       "    <tr>\n",
       "      <th>1434</th>\n",
       "      <td>1441</td>\n",
       "      <td>TOYOTA Corolla 1.3 16V HATCHB LINEA TERRA 2/3-...</td>\n",
       "      <td>7250</td>\n",
       "      <td>70</td>\n",
       "      <td>11</td>\n",
       "      <td>1998</td>\n",
       "      <td>16916</td>\n",
       "      <td>Petrol</td>\n",
       "      <td>86</td>\n",
       "      <td>1</td>\n",
       "      <td>...</td>\n",
       "      <td>0</td>\n",
       "      <td>0</td>\n",
       "      <td>0</td>\n",
       "      <td>0</td>\n",
       "      <td>0</td>\n",
       "      <td>0</td>\n",
       "      <td>1</td>\n",
       "      <td>0</td>\n",
       "      <td>0</td>\n",
       "      <td>0</td>\n",
       "    </tr>\n",
       "    <tr>\n",
       "      <th>1435</th>\n",
       "      <td>1442</td>\n",
       "      <td>TOYOTA Corolla 1.6 LB LINEA TERRA 4/5-Doors</td>\n",
       "      <td>6950</td>\n",
       "      <td>76</td>\n",
       "      <td>5</td>\n",
       "      <td>1998</td>\n",
       "      <td>1</td>\n",
       "      <td>Petrol</td>\n",
       "      <td>110</td>\n",
       "      <td>0</td>\n",
       "      <td>...</td>\n",
       "      <td>0</td>\n",
       "      <td>0</td>\n",
       "      <td>1</td>\n",
       "      <td>0</td>\n",
       "      <td>0</td>\n",
       "      <td>0</td>\n",
       "      <td>0</td>\n",
       "      <td>0</td>\n",
       "      <td>0</td>\n",
       "      <td>0</td>\n",
       "    </tr>\n",
       "  </tbody>\n",
       "</table>\n",
       "<p>1436 rows × 38 columns</p>\n",
       "</div>"
      ],
      "text/plain": [
       "        Id                                              Model  Price  \\\n",
       "0        1      TOYOTA Corolla 2.0 D4D HATCHB TERRA 2/3-Doors  13500   \n",
       "1        2      TOYOTA Corolla 2.0 D4D HATCHB TERRA 2/3-Doors  13750   \n",
       "2        3      TOYOTA Corolla 2.0 D4D HATCHB TERRA 2/3-Doors  13950   \n",
       "3        4      TOYOTA Corolla 2.0 D4D HATCHB TERRA 2/3-Doors  14950   \n",
       "4        5        TOYOTA Corolla 2.0 D4D HATCHB SOL 2/3-Doors  13750   \n",
       "...    ...                                                ...    ...   \n",
       "1431  1438         TOYOTA Corolla 1.3 16V HATCHB G6 2/3-Doors   7500   \n",
       "1432  1439  TOYOTA Corolla 1.3 16V HATCHB LINEA TERRA 2/3-...  10845   \n",
       "1433  1440  TOYOTA Corolla 1.3 16V HATCHB LINEA TERRA 2/3-...   8500   \n",
       "1434  1441  TOYOTA Corolla 1.3 16V HATCHB LINEA TERRA 2/3-...   7250   \n",
       "1435  1442        TOYOTA Corolla 1.6 LB LINEA TERRA 4/5-Doors   6950   \n",
       "\n",
       "      Age_08_04  Mfg_Month  Mfg_Year     KM Fuel_Type   HP  Met_Color  ...  \\\n",
       "0            23         10      2002  46986    Diesel   90          1  ...   \n",
       "1            23         10      2002  72937    Diesel   90          1  ...   \n",
       "2            24          9      2002  41711    Diesel   90          1  ...   \n",
       "3            26          7      2002  48000    Diesel   90          0  ...   \n",
       "4            30          3      2002  38500    Diesel   90          0  ...   \n",
       "...         ...        ...       ...    ...       ...  ...        ...  ...   \n",
       "1431         69         12      1998  20544    Petrol   86          1  ...   \n",
       "1432         72          9      1998  19000    Petrol   86          0  ...   \n",
       "1433         71         10      1998  17016    Petrol   86          0  ...   \n",
       "1434         70         11      1998  16916    Petrol   86          1  ...   \n",
       "1435         76          5      1998      1    Petrol  110          0  ...   \n",
       "\n",
       "     Central_Lock  Powered_Windows  Power_Steering  Radio  Mistlamps  \\\n",
       "0               1                1               1      0          0   \n",
       "1               1                0               1      0          0   \n",
       "2               0                0               1      0          0   \n",
       "3               0                0               1      0          0   \n",
       "4               1                1               1      0          1   \n",
       "...           ...              ...             ...    ...        ...   \n",
       "1431            1                1               1      0          1   \n",
       "1432            0                0               1      0          0   \n",
       "1433            0                0               1      0          0   \n",
       "1434            0                0               0      0          0   \n",
       "1435            0                0               1      0          0   \n",
       "\n",
       "      Sport_Model  Backseat_Divider  Metallic_Rim  Radio_cassette  Tow_Bar  \n",
       "0               0                 1             0               0        0  \n",
       "1               0                 1             0               0        0  \n",
       "2               0                 1             0               0        0  \n",
       "3               0                 1             0               0        0  \n",
       "4               0                 1             0               0        0  \n",
       "...           ...               ...           ...             ...      ...  \n",
       "1431            1                 1             0               0        0  \n",
       "1432            1                 1             0               0        0  \n",
       "1433            0                 1             0               0        0  \n",
       "1434            0                 1             0               0        0  \n",
       "1435            0                 0             0               0        0  \n",
       "\n",
       "[1436 rows x 38 columns]"
      ]
     },
     "execution_count": 2,
     "metadata": {},
     "output_type": "execute_result"
    }
   ],
   "source": [
    "raw_data=pd.read_csv('ToyotaCorolla.csv',encoding='latin1')\n",
    "raw_data"
   ]
  },
  {
   "cell_type": "code",
   "execution_count": 3,
   "id": "7c41a825",
   "metadata": {},
   "outputs": [
    {
     "data": {
      "text/plain": [
       "(1436, 38)"
      ]
     },
     "execution_count": 3,
     "metadata": {},
     "output_type": "execute_result"
    }
   ],
   "source": [
    "raw_data.shape"
   ]
  },
  {
   "cell_type": "code",
   "execution_count": 6,
   "id": "d5567c40",
   "metadata": {},
   "outputs": [
    {
     "data": {
      "text/plain": [
       "False"
      ]
     },
     "execution_count": 6,
     "metadata": {},
     "output_type": "execute_result"
    }
   ],
   "source": [
    "raw_data.duplicated().any()"
   ]
  },
  {
   "cell_type": "code",
   "execution_count": 12,
   "id": "87e34a31",
   "metadata": {},
   "outputs": [
    {
     "data": {
      "text/plain": [
       "Index(['Price', 'Age_08_04', 'KM', 'HP', 'cc', 'Doors', 'Gears',\n",
       "       'Quarterly_Tax', 'Weight'],\n",
       "      dtype='object')"
      ]
     },
     "execution_count": 12,
     "metadata": {},
     "output_type": "execute_result"
    }
   ],
   "source": [
    "raw_data.columns"
   ]
  },
  {
   "cell_type": "code",
   "execution_count": 13,
   "id": "0625e8a4",
   "metadata": {},
   "outputs": [
    {
     "data": {
      "text/html": [
       "<div>\n",
       "<style scoped>\n",
       "    .dataframe tbody tr th:only-of-type {\n",
       "        vertical-align: middle;\n",
       "    }\n",
       "\n",
       "    .dataframe tbody tr th {\n",
       "        vertical-align: top;\n",
       "    }\n",
       "\n",
       "    .dataframe thead th {\n",
       "        text-align: right;\n",
       "    }\n",
       "</style>\n",
       "<table border=\"1\" class=\"dataframe\">\n",
       "  <thead>\n",
       "    <tr style=\"text-align: right;\">\n",
       "      <th></th>\n",
       "      <th>Price</th>\n",
       "      <th>Age_08_04</th>\n",
       "      <th>KM</th>\n",
       "      <th>HP</th>\n",
       "      <th>cc</th>\n",
       "      <th>Doors</th>\n",
       "      <th>Gears</th>\n",
       "      <th>Quarterly_Tax</th>\n",
       "      <th>Weight</th>\n",
       "    </tr>\n",
       "  </thead>\n",
       "  <tbody>\n",
       "    <tr>\n",
       "      <th>0</th>\n",
       "      <td>13500</td>\n",
       "      <td>23</td>\n",
       "      <td>46986</td>\n",
       "      <td>90</td>\n",
       "      <td>2000</td>\n",
       "      <td>3</td>\n",
       "      <td>5</td>\n",
       "      <td>210</td>\n",
       "      <td>1165</td>\n",
       "    </tr>\n",
       "    <tr>\n",
       "      <th>1</th>\n",
       "      <td>13750</td>\n",
       "      <td>23</td>\n",
       "      <td>72937</td>\n",
       "      <td>90</td>\n",
       "      <td>2000</td>\n",
       "      <td>3</td>\n",
       "      <td>5</td>\n",
       "      <td>210</td>\n",
       "      <td>1165</td>\n",
       "    </tr>\n",
       "    <tr>\n",
       "      <th>2</th>\n",
       "      <td>13950</td>\n",
       "      <td>24</td>\n",
       "      <td>41711</td>\n",
       "      <td>90</td>\n",
       "      <td>2000</td>\n",
       "      <td>3</td>\n",
       "      <td>5</td>\n",
       "      <td>210</td>\n",
       "      <td>1165</td>\n",
       "    </tr>\n",
       "    <tr>\n",
       "      <th>3</th>\n",
       "      <td>14950</td>\n",
       "      <td>26</td>\n",
       "      <td>48000</td>\n",
       "      <td>90</td>\n",
       "      <td>2000</td>\n",
       "      <td>3</td>\n",
       "      <td>5</td>\n",
       "      <td>210</td>\n",
       "      <td>1165</td>\n",
       "    </tr>\n",
       "    <tr>\n",
       "      <th>4</th>\n",
       "      <td>13750</td>\n",
       "      <td>30</td>\n",
       "      <td>38500</td>\n",
       "      <td>90</td>\n",
       "      <td>2000</td>\n",
       "      <td>3</td>\n",
       "      <td>5</td>\n",
       "      <td>210</td>\n",
       "      <td>1170</td>\n",
       "    </tr>\n",
       "    <tr>\n",
       "      <th>...</th>\n",
       "      <td>...</td>\n",
       "      <td>...</td>\n",
       "      <td>...</td>\n",
       "      <td>...</td>\n",
       "      <td>...</td>\n",
       "      <td>...</td>\n",
       "      <td>...</td>\n",
       "      <td>...</td>\n",
       "      <td>...</td>\n",
       "    </tr>\n",
       "    <tr>\n",
       "      <th>1431</th>\n",
       "      <td>7500</td>\n",
       "      <td>69</td>\n",
       "      <td>20544</td>\n",
       "      <td>86</td>\n",
       "      <td>1300</td>\n",
       "      <td>3</td>\n",
       "      <td>5</td>\n",
       "      <td>69</td>\n",
       "      <td>1025</td>\n",
       "    </tr>\n",
       "    <tr>\n",
       "      <th>1432</th>\n",
       "      <td>10845</td>\n",
       "      <td>72</td>\n",
       "      <td>19000</td>\n",
       "      <td>86</td>\n",
       "      <td>1300</td>\n",
       "      <td>3</td>\n",
       "      <td>5</td>\n",
       "      <td>69</td>\n",
       "      <td>1015</td>\n",
       "    </tr>\n",
       "    <tr>\n",
       "      <th>1433</th>\n",
       "      <td>8500</td>\n",
       "      <td>71</td>\n",
       "      <td>17016</td>\n",
       "      <td>86</td>\n",
       "      <td>1300</td>\n",
       "      <td>3</td>\n",
       "      <td>5</td>\n",
       "      <td>69</td>\n",
       "      <td>1015</td>\n",
       "    </tr>\n",
       "    <tr>\n",
       "      <th>1434</th>\n",
       "      <td>7250</td>\n",
       "      <td>70</td>\n",
       "      <td>16916</td>\n",
       "      <td>86</td>\n",
       "      <td>1300</td>\n",
       "      <td>3</td>\n",
       "      <td>5</td>\n",
       "      <td>69</td>\n",
       "      <td>1015</td>\n",
       "    </tr>\n",
       "    <tr>\n",
       "      <th>1435</th>\n",
       "      <td>6950</td>\n",
       "      <td>76</td>\n",
       "      <td>1</td>\n",
       "      <td>110</td>\n",
       "      <td>1600</td>\n",
       "      <td>5</td>\n",
       "      <td>5</td>\n",
       "      <td>19</td>\n",
       "      <td>1114</td>\n",
       "    </tr>\n",
       "  </tbody>\n",
       "</table>\n",
       "<p>1436 rows × 9 columns</p>\n",
       "</div>"
      ],
      "text/plain": [
       "      Price  Age_08_04     KM   HP    cc  Doors  Gears  Quarterly_Tax  Weight\n",
       "0     13500         23  46986   90  2000      3      5            210    1165\n",
       "1     13750         23  72937   90  2000      3      5            210    1165\n",
       "2     13950         24  41711   90  2000      3      5            210    1165\n",
       "3     14950         26  48000   90  2000      3      5            210    1165\n",
       "4     13750         30  38500   90  2000      3      5            210    1170\n",
       "...     ...        ...    ...  ...   ...    ...    ...            ...     ...\n",
       "1431   7500         69  20544   86  1300      3      5             69    1025\n",
       "1432  10845         72  19000   86  1300      3      5             69    1015\n",
       "1433   8500         71  17016   86  1300      3      5             69    1015\n",
       "1434   7250         70  16916   86  1300      3      5             69    1015\n",
       "1435   6950         76      1  110  1600      5      5             19    1114\n",
       "\n",
       "[1436 rows x 9 columns]"
      ]
     },
     "execution_count": 13,
     "metadata": {},
     "output_type": "execute_result"
    }
   ],
   "source": [
    "raw_data = raw_data[[\"Price\",\"Age_08_04\",\"KM\",\"HP\",\"cc\",\"Doors\",\"Gears\",\"Quarterly_Tax\",\"Weight\"]]\n",
    "raw_data"
   ]
  },
  {
   "cell_type": "code",
   "execution_count": 14,
   "id": "d9f7f0ae",
   "metadata": {},
   "outputs": [
    {
     "data": {
      "text/html": [
       "<div>\n",
       "<style scoped>\n",
       "    .dataframe tbody tr th:only-of-type {\n",
       "        vertical-align: middle;\n",
       "    }\n",
       "\n",
       "    .dataframe tbody tr th {\n",
       "        vertical-align: top;\n",
       "    }\n",
       "\n",
       "    .dataframe thead th {\n",
       "        text-align: right;\n",
       "    }\n",
       "</style>\n",
       "<table border=\"1\" class=\"dataframe\">\n",
       "  <thead>\n",
       "    <tr style=\"text-align: right;\">\n",
       "      <th></th>\n",
       "      <th>Price</th>\n",
       "      <th>Age_08_04</th>\n",
       "      <th>KM</th>\n",
       "      <th>HP</th>\n",
       "      <th>cc</th>\n",
       "      <th>Doors</th>\n",
       "      <th>Gears</th>\n",
       "      <th>Quarterly_Tax</th>\n",
       "      <th>Weight</th>\n",
       "    </tr>\n",
       "  </thead>\n",
       "  <tbody>\n",
       "    <tr>\n",
       "      <th>count</th>\n",
       "      <td>1436.000000</td>\n",
       "      <td>1436.000000</td>\n",
       "      <td>1436.000000</td>\n",
       "      <td>1436.000000</td>\n",
       "      <td>1436.00000</td>\n",
       "      <td>1436.000000</td>\n",
       "      <td>1436.000000</td>\n",
       "      <td>1436.000000</td>\n",
       "      <td>1436.00000</td>\n",
       "    </tr>\n",
       "    <tr>\n",
       "      <th>mean</th>\n",
       "      <td>10730.824513</td>\n",
       "      <td>55.947075</td>\n",
       "      <td>68533.259749</td>\n",
       "      <td>101.502089</td>\n",
       "      <td>1576.85585</td>\n",
       "      <td>4.033426</td>\n",
       "      <td>5.026462</td>\n",
       "      <td>87.122563</td>\n",
       "      <td>1072.45961</td>\n",
       "    </tr>\n",
       "    <tr>\n",
       "      <th>std</th>\n",
       "      <td>3626.964585</td>\n",
       "      <td>18.599988</td>\n",
       "      <td>37506.448872</td>\n",
       "      <td>14.981080</td>\n",
       "      <td>424.38677</td>\n",
       "      <td>0.952677</td>\n",
       "      <td>0.188510</td>\n",
       "      <td>41.128611</td>\n",
       "      <td>52.64112</td>\n",
       "    </tr>\n",
       "    <tr>\n",
       "      <th>min</th>\n",
       "      <td>4350.000000</td>\n",
       "      <td>1.000000</td>\n",
       "      <td>1.000000</td>\n",
       "      <td>69.000000</td>\n",
       "      <td>1300.00000</td>\n",
       "      <td>2.000000</td>\n",
       "      <td>3.000000</td>\n",
       "      <td>19.000000</td>\n",
       "      <td>1000.00000</td>\n",
       "    </tr>\n",
       "    <tr>\n",
       "      <th>25%</th>\n",
       "      <td>8450.000000</td>\n",
       "      <td>44.000000</td>\n",
       "      <td>43000.000000</td>\n",
       "      <td>90.000000</td>\n",
       "      <td>1400.00000</td>\n",
       "      <td>3.000000</td>\n",
       "      <td>5.000000</td>\n",
       "      <td>69.000000</td>\n",
       "      <td>1040.00000</td>\n",
       "    </tr>\n",
       "    <tr>\n",
       "      <th>50%</th>\n",
       "      <td>9900.000000</td>\n",
       "      <td>61.000000</td>\n",
       "      <td>63389.500000</td>\n",
       "      <td>110.000000</td>\n",
       "      <td>1600.00000</td>\n",
       "      <td>4.000000</td>\n",
       "      <td>5.000000</td>\n",
       "      <td>85.000000</td>\n",
       "      <td>1070.00000</td>\n",
       "    </tr>\n",
       "    <tr>\n",
       "      <th>75%</th>\n",
       "      <td>11950.000000</td>\n",
       "      <td>70.000000</td>\n",
       "      <td>87020.750000</td>\n",
       "      <td>110.000000</td>\n",
       "      <td>1600.00000</td>\n",
       "      <td>5.000000</td>\n",
       "      <td>5.000000</td>\n",
       "      <td>85.000000</td>\n",
       "      <td>1085.00000</td>\n",
       "    </tr>\n",
       "    <tr>\n",
       "      <th>max</th>\n",
       "      <td>32500.000000</td>\n",
       "      <td>80.000000</td>\n",
       "      <td>243000.000000</td>\n",
       "      <td>192.000000</td>\n",
       "      <td>16000.00000</td>\n",
       "      <td>5.000000</td>\n",
       "      <td>6.000000</td>\n",
       "      <td>283.000000</td>\n",
       "      <td>1615.00000</td>\n",
       "    </tr>\n",
       "  </tbody>\n",
       "</table>\n",
       "</div>"
      ],
      "text/plain": [
       "              Price    Age_08_04             KM           HP           cc  \\\n",
       "count   1436.000000  1436.000000    1436.000000  1436.000000   1436.00000   \n",
       "mean   10730.824513    55.947075   68533.259749   101.502089   1576.85585   \n",
       "std     3626.964585    18.599988   37506.448872    14.981080    424.38677   \n",
       "min     4350.000000     1.000000       1.000000    69.000000   1300.00000   \n",
       "25%     8450.000000    44.000000   43000.000000    90.000000   1400.00000   \n",
       "50%     9900.000000    61.000000   63389.500000   110.000000   1600.00000   \n",
       "75%    11950.000000    70.000000   87020.750000   110.000000   1600.00000   \n",
       "max    32500.000000    80.000000  243000.000000   192.000000  16000.00000   \n",
       "\n",
       "             Doors        Gears  Quarterly_Tax      Weight  \n",
       "count  1436.000000  1436.000000    1436.000000  1436.00000  \n",
       "mean      4.033426     5.026462      87.122563  1072.45961  \n",
       "std       0.952677     0.188510      41.128611    52.64112  \n",
       "min       2.000000     3.000000      19.000000  1000.00000  \n",
       "25%       3.000000     5.000000      69.000000  1040.00000  \n",
       "50%       4.000000     5.000000      85.000000  1070.00000  \n",
       "75%       5.000000     5.000000      85.000000  1085.00000  \n",
       "max       5.000000     6.000000     283.000000  1615.00000  "
      ]
     },
     "execution_count": 14,
     "metadata": {},
     "output_type": "execute_result"
    }
   ],
   "source": [
    "raw_data.describe()"
   ]
  },
  {
   "cell_type": "code",
   "execution_count": 15,
   "id": "3f6506ec",
   "metadata": {},
   "outputs": [
    {
     "name": "stdout",
     "output_type": "stream",
     "text": [
      "<class 'pandas.core.frame.DataFrame'>\n",
      "RangeIndex: 1436 entries, 0 to 1435\n",
      "Data columns (total 9 columns):\n",
      " #   Column         Non-Null Count  Dtype\n",
      "---  ------         --------------  -----\n",
      " 0   Price          1436 non-null   int64\n",
      " 1   Age_08_04      1436 non-null   int64\n",
      " 2   KM             1436 non-null   int64\n",
      " 3   HP             1436 non-null   int64\n",
      " 4   cc             1436 non-null   int64\n",
      " 5   Doors          1436 non-null   int64\n",
      " 6   Gears          1436 non-null   int64\n",
      " 7   Quarterly_Tax  1436 non-null   int64\n",
      " 8   Weight         1436 non-null   int64\n",
      "dtypes: int64(9)\n",
      "memory usage: 101.1 KB\n"
     ]
    }
   ],
   "source": [
    "raw_data.info()"
   ]
  },
  {
   "cell_type": "code",
   "execution_count": 16,
   "id": "fff20341",
   "metadata": {},
   "outputs": [
    {
     "data": {
      "text/html": [
       "<div>\n",
       "<style scoped>\n",
       "    .dataframe tbody tr th:only-of-type {\n",
       "        vertical-align: middle;\n",
       "    }\n",
       "\n",
       "    .dataframe tbody tr th {\n",
       "        vertical-align: top;\n",
       "    }\n",
       "\n",
       "    .dataframe thead th {\n",
       "        text-align: right;\n",
       "    }\n",
       "</style>\n",
       "<table border=\"1\" class=\"dataframe\">\n",
       "  <thead>\n",
       "    <tr style=\"text-align: right;\">\n",
       "      <th></th>\n",
       "      <th>Price</th>\n",
       "      <th>Age</th>\n",
       "      <th>KM</th>\n",
       "      <th>HP</th>\n",
       "      <th>CC</th>\n",
       "      <th>Doors</th>\n",
       "      <th>Gears</th>\n",
       "      <th>QT</th>\n",
       "      <th>Weight</th>\n",
       "    </tr>\n",
       "  </thead>\n",
       "  <tbody>\n",
       "    <tr>\n",
       "      <th>0</th>\n",
       "      <td>13500</td>\n",
       "      <td>23</td>\n",
       "      <td>46986</td>\n",
       "      <td>90</td>\n",
       "      <td>2000</td>\n",
       "      <td>3</td>\n",
       "      <td>5</td>\n",
       "      <td>210</td>\n",
       "      <td>1165</td>\n",
       "    </tr>\n",
       "    <tr>\n",
       "      <th>1</th>\n",
       "      <td>13750</td>\n",
       "      <td>23</td>\n",
       "      <td>72937</td>\n",
       "      <td>90</td>\n",
       "      <td>2000</td>\n",
       "      <td>3</td>\n",
       "      <td>5</td>\n",
       "      <td>210</td>\n",
       "      <td>1165</td>\n",
       "    </tr>\n",
       "    <tr>\n",
       "      <th>2</th>\n",
       "      <td>13950</td>\n",
       "      <td>24</td>\n",
       "      <td>41711</td>\n",
       "      <td>90</td>\n",
       "      <td>2000</td>\n",
       "      <td>3</td>\n",
       "      <td>5</td>\n",
       "      <td>210</td>\n",
       "      <td>1165</td>\n",
       "    </tr>\n",
       "    <tr>\n",
       "      <th>3</th>\n",
       "      <td>14950</td>\n",
       "      <td>26</td>\n",
       "      <td>48000</td>\n",
       "      <td>90</td>\n",
       "      <td>2000</td>\n",
       "      <td>3</td>\n",
       "      <td>5</td>\n",
       "      <td>210</td>\n",
       "      <td>1165</td>\n",
       "    </tr>\n",
       "    <tr>\n",
       "      <th>4</th>\n",
       "      <td>13750</td>\n",
       "      <td>30</td>\n",
       "      <td>38500</td>\n",
       "      <td>90</td>\n",
       "      <td>2000</td>\n",
       "      <td>3</td>\n",
       "      <td>5</td>\n",
       "      <td>210</td>\n",
       "      <td>1170</td>\n",
       "    </tr>\n",
       "  </tbody>\n",
       "</table>\n",
       "</div>"
      ],
      "text/plain": [
       "   Price  Age     KM  HP    CC  Doors  Gears   QT  Weight\n",
       "0  13500   23  46986  90  2000      3      5  210    1165\n",
       "1  13750   23  72937  90  2000      3      5  210    1165\n",
       "2  13950   24  41711  90  2000      3      5  210    1165\n",
       "3  14950   26  48000  90  2000      3      5  210    1165\n",
       "4  13750   30  38500  90  2000      3      5  210    1170"
      ]
     },
     "execution_count": 16,
     "metadata": {},
     "output_type": "execute_result"
    }
   ],
   "source": [
    "toyota_corolla = raw_data.rename({'Age_08_04':'Age','cc':'CC','Quarterly_Tax':'QT'},axis=1)\n",
    "toyota_corolla.head()"
   ]
  },
  {
   "cell_type": "code",
   "execution_count": 22,
   "id": "30d7a52e",
   "metadata": {},
   "outputs": [
    {
     "data": {
      "text/plain": [
       "Price     0\n",
       "Age       0\n",
       "KM        0\n",
       "HP        0\n",
       "CC        0\n",
       "Doors     0\n",
       "Gears     0\n",
       "QT        0\n",
       "Weight    0\n",
       "dtype: int64"
      ]
     },
     "execution_count": 22,
     "metadata": {},
     "output_type": "execute_result"
    }
   ],
   "source": [
    "toyota_corolla.isnull().sum()"
   ]
  },
  {
   "cell_type": "code",
   "execution_count": 25,
   "id": "35721bf7",
   "metadata": {},
   "outputs": [
    {
     "data": {
      "text/plain": [
       "(1, 9)"
      ]
     },
     "execution_count": 25,
     "metadata": {},
     "output_type": "execute_result"
    }
   ],
   "source": [
    "toyota_corolla[toyota_corolla.duplicated()].shape"
   ]
  },
  {
   "cell_type": "code",
   "execution_count": 26,
   "id": "68860df8",
   "metadata": {},
   "outputs": [
    {
     "data": {
      "text/html": [
       "<div>\n",
       "<style scoped>\n",
       "    .dataframe tbody tr th:only-of-type {\n",
       "        vertical-align: middle;\n",
       "    }\n",
       "\n",
       "    .dataframe tbody tr th {\n",
       "        vertical-align: top;\n",
       "    }\n",
       "\n",
       "    .dataframe thead th {\n",
       "        text-align: right;\n",
       "    }\n",
       "</style>\n",
       "<table border=\"1\" class=\"dataframe\">\n",
       "  <thead>\n",
       "    <tr style=\"text-align: right;\">\n",
       "      <th></th>\n",
       "      <th>Price</th>\n",
       "      <th>Age</th>\n",
       "      <th>KM</th>\n",
       "      <th>HP</th>\n",
       "      <th>CC</th>\n",
       "      <th>Doors</th>\n",
       "      <th>Gears</th>\n",
       "      <th>QT</th>\n",
       "      <th>Weight</th>\n",
       "    </tr>\n",
       "  </thead>\n",
       "  <tbody>\n",
       "    <tr>\n",
       "      <th>113</th>\n",
       "      <td>24950</td>\n",
       "      <td>8</td>\n",
       "      <td>13253</td>\n",
       "      <td>116</td>\n",
       "      <td>2000</td>\n",
       "      <td>5</td>\n",
       "      <td>5</td>\n",
       "      <td>234</td>\n",
       "      <td>1320</td>\n",
       "    </tr>\n",
       "  </tbody>\n",
       "</table>\n",
       "</div>"
      ],
      "text/plain": [
       "     Price  Age     KM   HP    CC  Doors  Gears   QT  Weight\n",
       "113  24950    8  13253  116  2000      5      5  234    1320"
      ]
     },
     "execution_count": 26,
     "metadata": {},
     "output_type": "execute_result"
    }
   ],
   "source": [
    "toyota_corolla[toyota_corolla.duplicated()]"
   ]
  },
  {
   "cell_type": "code",
   "execution_count": 27,
   "id": "30280ba0",
   "metadata": {},
   "outputs": [
    {
     "data": {
      "text/html": [
       "<div>\n",
       "<style scoped>\n",
       "    .dataframe tbody tr th:only-of-type {\n",
       "        vertical-align: middle;\n",
       "    }\n",
       "\n",
       "    .dataframe tbody tr th {\n",
       "        vertical-align: top;\n",
       "    }\n",
       "\n",
       "    .dataframe thead th {\n",
       "        text-align: right;\n",
       "    }\n",
       "</style>\n",
       "<table border=\"1\" class=\"dataframe\">\n",
       "  <thead>\n",
       "    <tr style=\"text-align: right;\">\n",
       "      <th></th>\n",
       "      <th>Price</th>\n",
       "      <th>Age</th>\n",
       "      <th>KM</th>\n",
       "      <th>HP</th>\n",
       "      <th>CC</th>\n",
       "      <th>Doors</th>\n",
       "      <th>Gears</th>\n",
       "      <th>QT</th>\n",
       "      <th>Weight</th>\n",
       "    </tr>\n",
       "  </thead>\n",
       "  <tbody>\n",
       "  </tbody>\n",
       "</table>\n",
       "</div>"
      ],
      "text/plain": [
       "Empty DataFrame\n",
       "Columns: [Price, Age, KM, HP, CC, Doors, Gears, QT, Weight]\n",
       "Index: []"
      ]
     },
     "execution_count": 27,
     "metadata": {},
     "output_type": "execute_result"
    }
   ],
   "source": [
    "\n",
    "toyota_corolla = toyota_corolla.drop_duplicates().reset_index(drop=True)\n",
    "toyota_corolla[toyota_corolla.duplicated()]"
   ]
  },
  {
   "cell_type": "code",
   "execution_count": 28,
   "id": "5d4ab714",
   "metadata": {},
   "outputs": [
    {
     "name": "stdout",
     "output_type": "stream",
     "text": [
      "Discrete Variables Count: 5\n"
     ]
    }
   ],
   "source": [
    "discrete_feature = [feature for feature in toyota_corolla.columns if len(toyota_corolla[feature].unique())<20 and feature]\n",
    "print('Discrete Variables Count: {}'.format(len(discrete_feature)))"
   ]
  },
  {
   "cell_type": "code",
   "execution_count": 29,
   "id": "5271eace",
   "metadata": {},
   "outputs": [
    {
     "name": "stdout",
     "output_type": "stream",
     "text": [
      "Continuous Feature Count 4\n"
     ]
    }
   ],
   "source": [
    "continuous_feature = [feature for feature in toyota_corolla.columns if toyota_corolla[feature].dtype!='O' and feature not in discrete_feature]\n",
    "print('Continuous Feature Count {}'.format(len(continuous_feature)))"
   ]
  },
  {
   "cell_type": "code",
   "execution_count": 36,
   "id": "12caac64",
   "metadata": {},
   "outputs": [],
   "source": [
    "import pylab\n",
    "def plot_data(data,feature):\n",
    "    plt.figure(figsize=(8,5))\n",
    "    plt.subplot(1,2,1)\n",
    "    data[feature].hist()\n",
    "    plt.subplot(1,2,2)\n",
    "    stat.probplot(data[feature],dist='norm', plot=pylab)"
   ]
  },
  {
   "cell_type": "code",
   "execution_count": 37,
   "id": "a94f1014",
   "metadata": {},
   "outputs": [
    {
     "data": {
      "image/png": "[encoded data removed]",
      "text/plain": [
       "<Figure size 800x500 with 2 Axes>"
      ]
     },
     "metadata": {},
     "output_type": "display_data"
    },
    {
     "data": {
      "image/png": "[encoded data removed]",
      "text/plain": [
       "<Figure size 800x500 with 2 Axes>"
      ]
     },
     "metadata": {},
     "output_type": "display_data"
    },
    {
     "data": {
      "image/png": "[encoded data removed]",
      "text/plain": [
       "<Figure size 800x500 with 2 Axes>"
      ]
     },
     "metadata": {},
     "output_type": "display_data"
    },
    {
     "data": {
      "image/png": "[encoded data removed]",
      "text/plain": [
       "<Figure size 800x500 with 2 Axes>"
      ]
     },
     "metadata": {},
     "output_type": "display_data"
    }
   ],
   "source": [
    "plot_data(toyota_corolla,'Price')\n",
    "plt.title('Price')\n",
    "plot_data(toyota_corolla,'Age')\n",
    "plt.title('Age')\n",
    "plot_data(toyota_corolla,'KM')\n",
    "plt.title('KM')\n",
    "plot_data(toyota_corolla,'Weight')\n",
    "plt.title('Weight')\n",
    "plt.show()"
   ]
  },
  {
   "cell_type": "code",
   "execution_count": 38,
   "id": "88791dd9",
   "metadata": {},
   "outputs": [
    {
     "data": {
      "text/plain": [
       "Index(['Price', 'Age', 'KM', 'HP', 'CC', 'Doors', 'Gears', 'QT', 'Weight'], dtype='object')"
      ]
     },
     "execution_count": 38,
     "metadata": {},
     "output_type": "execute_result"
    }
   ],
   "source": [
    "toyota_corolla.columns"
   ]
  },
  {
   "cell_type": "code",
   "execution_count": 39,
   "id": "8afcd32e",
   "metadata": {},
   "outputs": [],
   "source": [
    "from scipy.stats import shapiro"
   ]
  },
  {
   "cell_type": "code",
   "execution_count": 40,
   "id": "8f150f10",
   "metadata": {},
   "outputs": [
    {
     "name": "stdout",
     "output_type": "stream",
     "text": [
      "Price feature  : ShapiroResult(statistic=0.8534729480743408, pvalue=1.5960294063332542e-34) \n",
      "Age feature    : ShapiroResult(statistic=0.926694929599762, pvalue=6.738004885543532e-26) \n",
      "Weight feature : ShapiroResult(statistic=0.7825542688369751, pvalue=5.042796731627146e-40) \n",
      "KM feature     : ShapiroResult(statistic=0.9475831389427185, pvalue=3.444094263209402e-22)\n"
     ]
    }
   ],
   "source": [
    "print('Price feature  :',shapiro(toyota_corolla.Price),'\\n'\n",
    "      'Age feature    :',shapiro(toyota_corolla.Age),'\\n'\n",
    "      'Weight feature :',shapiro(toyota_corolla.Weight),'\\n'\n",
    "      'KM feature     :',shapiro(toyota_corolla.KM))"
   ]
  },
  {
   "cell_type": "code",
   "execution_count": 42,
   "id": "94cceafc",
   "metadata": {},
   "outputs": [
    {
     "data": {
      "image/png": "[encoded data removed]",
      "text/plain": [
       "<Figure size 640x480 with 1 Axes>"
      ]
     },
     "metadata": {},
     "output_type": "display_data"
    }
   ],
   "source": [
    "toyota_corolla4 = toyota_corolla.copy()\n",
    "for i in toyota_corolla['Price']:\n",
    "    q1 = np.quantile(toyota_corolla4.Price,0.25)\n",
    "    q3 = np.quantile(toyota_corolla4.Price,0.75)\n",
    "    med = np.median(toyota_corolla4.Price)\n",
    "    iqr = q3 - q1\n",
    "    upper_bound = q3+(1.5*iqr)\n",
    "    lower_bound = q1-(1.5*iqr)\n",
    "    if i > upper_bound or i < lower_bound:\n",
    "        toyota_corolla4['Price'] = toyota_corolla4['Price'].replace(i, np.median(toyota_corolla4['Price']))\n",
    "sns.boxplot(toyota_corolla4['Price'])\n",
    "plt.title('Price after median imputation')\n",
    "plt.show()"
   ]
  },
  {
   "cell_type": "code",
   "execution_count": 43,
   "id": "3f8f4c54",
   "metadata": {},
   "outputs": [],
   "source": [
    "median_imputation_model = smf.ols(\"Price ~ Age + KM + Weight\", data = toyota_corolla4).fit()"
   ]
  },
  {
   "cell_type": "code",
   "execution_count": 44,
   "id": "707b7312",
   "metadata": {},
   "outputs": [
    {
     "name": "stdout",
     "output_type": "stream",
     "text": [
      "R-squared     : 0.365\n",
      "Adj.R-squared : 0.364\n"
     ]
    }
   ],
   "source": [
    "print('R-squared     :',median_imputation_model.rsquared.round(3))\n",
    "print('Adj.R-squared :',median_imputation_model.rsquared_adj.round(3))"
   ]
  },
  {
   "cell_type": "code",
   "execution_count": 45,
   "id": "8d5d9e99",
   "metadata": {},
   "outputs": [
    {
     "data": {
      "image/png": "[encoded data removed]",
      "text/plain": [
       "<Figure size 640x480 with 1 Axes>"
      ]
     },
     "metadata": {},
     "output_type": "display_data"
    }
   ],
   "source": [
    "toyota_corolla5 = toyota_corolla.copy()\n",
    "for i in toyota_corolla['Price']:\n",
    "    q1 = np.quantile(toyota_corolla5.Price,0.25)\n",
    "    q3 = np.quantile(toyota_corolla5.Price,0.75)\n",
    "    med = np.median(toyota_corolla5.Price)\n",
    "    iqr = q3 - q1\n",
    "    upper_bound = q3+(1.5*iqr)\n",
    "    lower_bound = q1-(1.5*iqr)\n",
    "    if i > upper_bound or i < lower_bound:\n",
    "        toyota_corolla5['Price'] = toyota_corolla5['Price'].replace(i, np.mean(toyota_corolla5['Price']))\n",
    "sns.boxplot(toyota_corolla5['Price'])\n",
    "plt.title('Price after mean imputation')\n",
    "plt.show()"
   ]
  },
  {
   "cell_type": "code",
   "execution_count": 46,
   "id": "7e411c45",
   "metadata": {},
   "outputs": [],
   "source": [
    "mean_imputation_model = smf.ols(\"Price ~ Age + KM + Weight\", data = toyota_corolla5).fit()"
   ]
  },
  {
   "cell_type": "code",
   "execution_count": 47,
   "id": "92952b23",
   "metadata": {},
   "outputs": [
    {
     "name": "stdout",
     "output_type": "stream",
     "text": [
      "R-squared     : 0.407\n",
      "Adj.R-squared : 0.406\n"
     ]
    }
   ],
   "source": [
    "print('R-squared     :',mean_imputation_model.rsquared.round(3))\n",
    "print('Adj.R-squared :',mean_imputation_model.rsquared_adj.round(3))"
   ]
  },
  {
   "cell_type": "code",
   "execution_count": 48,
   "id": "942daf41",
   "metadata": {},
   "outputs": [],
   "source": [
    "toyota_corolla6 = toyota_corolla.copy()\n",
    "def drop_outliers(data, field_name):\n",
    "    iqr = 1.5*(np.percentile(data[field_name], 75) - np.percentile(data[field_name], 25))\n",
    "    data.drop(data[data[field_name] > (iqr + np.percentile(data[field_name], 75))].index, inplace=True)\n",
    "    data.drop(data[data[field_name] < (np.percentile(data[field_name], 25) - iqr)].index, inplace=True)"
   ]
  },
  {
   "cell_type": "code",
   "execution_count": 49,
   "id": "63ecd8d7",
   "metadata": {},
   "outputs": [
    {
     "data": {
      "image/png": "[encoded data removed]",
      "text/plain": [
       "<Figure size 640x480 with 1 Axes>"
      ]
     },
     "metadata": {},
     "output_type": "display_data"
    }
   ],
   "source": [
    "drop_outliers(toyota_corolla6, 'Price')\n",
    "sns.boxplot(toyota_corolla6.Price)\n",
    "plt.title('Price after removing outliers')\n",
    "plt.show()"
   ]
  },
  {
   "cell_type": "code",
   "execution_count": 50,
   "id": "c6770e52",
   "metadata": {},
   "outputs": [],
   "source": [
    "removed_outlier_model = smf.ols(\"Price ~ Age + KM + Weight\", data = toyota_corolla6).fit()"
   ]
  },
  {
   "cell_type": "code",
   "execution_count": 51,
   "id": "c142d5bd",
   "metadata": {},
   "outputs": [
    {
     "name": "stdout",
     "output_type": "stream",
     "text": [
      "R-squared     : 0.773\n",
      "Adj.R-squared : 0.773\n"
     ]
    }
   ],
   "source": [
    "print('R-squared     :',removed_outlier_model.rsquared.round(3))\n",
    "print('Adj.R-squared :',removed_outlier_model.rsquared_adj.round(3))"
   ]
  },
  {
   "cell_type": "code",
   "execution_count": 52,
   "id": "c1e51200",
   "metadata": {},
   "outputs": [
    {
     "data": {
      "text/plain": [
       "1127.376058284516"
      ]
     },
     "execution_count": 52,
     "metadata": {},
     "output_type": "execute_result"
    }
   ],
   "source": [
    "np.sqrt(removed_outlier_model.mse_resid)"
   ]
  },
  {
   "cell_type": "code",
   "execution_count": 53,
   "id": "67e6f44e",
   "metadata": {},
   "outputs": [],
   "source": [
    "cube_root_transfomed = toyota_corolla.copy()\n",
    "cube_root_transfomed[continuous_feature]=np.cbrt(cube_root_transfomed[continuous_feature])\n",
    "cube_root_transformed_model = smf.ols(\"Price ~ Age + KM + Weight\", data = cube_root_transfomed).fit()"
   ]
  },
  {
   "cell_type": "code",
   "execution_count": 54,
   "id": "b1d0624e",
   "metadata": {},
   "outputs": [
    {
     "name": "stdout",
     "output_type": "stream",
     "text": [
      "R-squared     : 0.815\n",
      "Adj.R-squared : 0.814\n"
     ]
    }
   ],
   "source": [
    "print('R-squared     :',cube_root_transformed_model.rsquared.round(3))\n",
    "print('Adj.R-squared :',cube_root_transformed_model.rsquared_adj.round(3))"
   ]
  },
  {
   "cell_type": "code",
   "execution_count": 55,
   "id": "a730a408",
   "metadata": {},
   "outputs": [
    {
     "data": {
      "text/plain": [
       "Index(['Price', 'Age', 'KM', 'HP', 'CC', 'Doors', 'Gears', 'QT', 'Weight'], dtype='object')"
      ]
     },
     "execution_count": 55,
     "metadata": {},
     "output_type": "execute_result"
    }
   ],
   "source": [
    "toyota_corolla.columns"
   ]
  },
  {
   "cell_type": "code",
   "execution_count": 57,
   "id": "36a27bf0",
   "metadata": {},
   "outputs": [],
   "source": [
    "raw_data_model = smf.ols(\"Price ~ Age + KM + Weight + HP + CC + Gears + QT + Doors\", data = toyota_corolla).fit()"
   ]
  },
  {
   "cell_type": "code",
   "execution_count": 58,
   "id": "eaa2319c",
   "metadata": {},
   "outputs": [
    {
     "name": "stdout",
     "output_type": "stream",
     "text": [
      "R-squared     : 0.863\n",
      "Adj.R-squared : 0.862\n"
     ]
    }
   ],
   "source": [
    "print('R-squared     :',raw_data_model.rsquared.round(3))\n",
    "print('Adj.R-squared :',raw_data_model.rsquared_adj.round(3))"
   ]
  },
  {
   "cell_type": "code",
   "execution_count": 59,
   "id": "4b940d73",
   "metadata": {},
   "outputs": [
    {
     "data": {
      "text/plain": [
       "1341.8046186938675"
      ]
     },
     "execution_count": 59,
     "metadata": {},
     "output_type": "execute_result"
    }
   ],
   "source": [
    "np.sqrt(raw_data_model.mse_resid)"
   ]
  },
  {
   "cell_type": "code",
   "execution_count": 60,
   "id": "96ec58e5",
   "metadata": {},
   "outputs": [
    {
     "data": {
      "text/plain": [
       "(array([7.22221054e-03, 3.94547973e-03, 5.44224039e-03, ...,\n",
       "        8.04110550e-07, 6.99854767e-04, 1.08408002e-02]),\n",
       " array([1.        , 1.        , 1.        , ..., 1.        , 1.        ,\n",
       "        0.99999998]))"
      ]
     },
     "execution_count": 60,
     "metadata": {},
     "output_type": "execute_result"
    }
   ],
   "source": [
    "influence_points = raw_data_model.get_influence()\n",
    "c, p_value = influence_points.cooks_distance\n",
    "c, p_value"
   ]
  },
  {
   "cell_type": "code",
   "execution_count": 61,
   "id": "05b6ab87",
   "metadata": {},
   "outputs": [
    {
     "name": "stdout",
     "output_type": "stream",
     "text": [
      "Cut-off line at 0.021\n"
     ]
    }
   ],
   "source": [
    "k = toyota_corolla.shape[1]\n",
    "n = toyota_corolla.shape[0]\n",
    "leverage_cutoff = (3*(k+1))/n\n",
    "print('Cut-off line at',np.round(leverage_cutoff,3))"
   ]
  },
  {
   "cell_type": "code",
   "execution_count": 62,
   "id": "dd065a81",
   "metadata": {},
   "outputs": [
    {
     "data": {
      "text/plain": [
       "(80, 78.7295058224947)"
      ]
     },
     "execution_count": 62,
     "metadata": {},
     "output_type": "execute_result"
    }
   ],
   "source": [
    "np.argmax(c), np.max(c)"
   ]
  },
  {
   "cell_type": "code",
   "execution_count": 63,
   "id": "b5d0ec36",
   "metadata": {},
   "outputs": [
    {
     "data": {
      "text/html": [
       "<div>\n",
       "<style scoped>\n",
       "    .dataframe tbody tr th:only-of-type {\n",
       "        vertical-align: middle;\n",
       "    }\n",
       "\n",
       "    .dataframe tbody tr th {\n",
       "        vertical-align: top;\n",
       "    }\n",
       "\n",
       "    .dataframe thead th {\n",
       "        text-align: right;\n",
       "    }\n",
       "</style>\n",
       "<table border=\"1\" class=\"dataframe\">\n",
       "  <thead>\n",
       "    <tr style=\"text-align: right;\">\n",
       "      <th></th>\n",
       "      <th>Price</th>\n",
       "      <th>Age</th>\n",
       "      <th>KM</th>\n",
       "      <th>HP</th>\n",
       "      <th>CC</th>\n",
       "      <th>Doors</th>\n",
       "      <th>Gears</th>\n",
       "      <th>QT</th>\n",
       "      <th>Weight</th>\n",
       "    </tr>\n",
       "  </thead>\n",
       "  <tbody>\n",
       "    <tr>\n",
       "      <th>80</th>\n",
       "      <td>18950</td>\n",
       "      <td>25</td>\n",
       "      <td>20019</td>\n",
       "      <td>110</td>\n",
       "      <td>16000</td>\n",
       "      <td>5</td>\n",
       "      <td>5</td>\n",
       "      <td>100</td>\n",
       "      <td>1180</td>\n",
       "    </tr>\n",
       "  </tbody>\n",
       "</table>\n",
       "</div>"
      ],
      "text/plain": [
       "    Price  Age     KM   HP     CC  Doors  Gears   QT  Weight\n",
       "80  18950   25  20019  110  16000      5      5  100    1180"
      ]
     },
     "execution_count": 63,
     "metadata": {},
     "output_type": "execute_result"
    }
   ],
   "source": [
    "toyota_corolla[toyota_corolla.index.isin([80])] "
   ]
  },
  {
   "cell_type": "code",
   "execution_count": 64,
   "id": "12416139",
   "metadata": {},
   "outputs": [
    {
     "data": {
      "text/html": [
       "<div>\n",
       "<style scoped>\n",
       "    .dataframe tbody tr th:only-of-type {\n",
       "        vertical-align: middle;\n",
       "    }\n",
       "\n",
       "    .dataframe tbody tr th {\n",
       "        vertical-align: top;\n",
       "    }\n",
       "\n",
       "    .dataframe thead th {\n",
       "        text-align: right;\n",
       "    }\n",
       "</style>\n",
       "<table border=\"1\" class=\"dataframe\">\n",
       "  <thead>\n",
       "    <tr style=\"text-align: right;\">\n",
       "      <th></th>\n",
       "      <th>Price</th>\n",
       "      <th>Age</th>\n",
       "      <th>KM</th>\n",
       "      <th>HP</th>\n",
       "      <th>CC</th>\n",
       "      <th>Doors</th>\n",
       "      <th>Gears</th>\n",
       "      <th>QT</th>\n",
       "      <th>Weight</th>\n",
       "    </tr>\n",
       "  </thead>\n",
       "  <tbody>\n",
       "    <tr>\n",
       "      <th>0</th>\n",
       "      <td>13500</td>\n",
       "      <td>23</td>\n",
       "      <td>46986</td>\n",
       "      <td>90</td>\n",
       "      <td>2000</td>\n",
       "      <td>3</td>\n",
       "      <td>5</td>\n",
       "      <td>210</td>\n",
       "      <td>1165</td>\n",
       "    </tr>\n",
       "    <tr>\n",
       "      <th>1</th>\n",
       "      <td>13750</td>\n",
       "      <td>23</td>\n",
       "      <td>72937</td>\n",
       "      <td>90</td>\n",
       "      <td>2000</td>\n",
       "      <td>3</td>\n",
       "      <td>5</td>\n",
       "      <td>210</td>\n",
       "      <td>1165</td>\n",
       "    </tr>\n",
       "    <tr>\n",
       "      <th>2</th>\n",
       "      <td>13950</td>\n",
       "      <td>24</td>\n",
       "      <td>41711</td>\n",
       "      <td>90</td>\n",
       "      <td>2000</td>\n",
       "      <td>3</td>\n",
       "      <td>5</td>\n",
       "      <td>210</td>\n",
       "      <td>1165</td>\n",
       "    </tr>\n",
       "    <tr>\n",
       "      <th>3</th>\n",
       "      <td>14950</td>\n",
       "      <td>26</td>\n",
       "      <td>48000</td>\n",
       "      <td>90</td>\n",
       "      <td>2000</td>\n",
       "      <td>3</td>\n",
       "      <td>5</td>\n",
       "      <td>210</td>\n",
       "      <td>1165</td>\n",
       "    </tr>\n",
       "    <tr>\n",
       "      <th>4</th>\n",
       "      <td>13750</td>\n",
       "      <td>30</td>\n",
       "      <td>38500</td>\n",
       "      <td>90</td>\n",
       "      <td>2000</td>\n",
       "      <td>3</td>\n",
       "      <td>5</td>\n",
       "      <td>210</td>\n",
       "      <td>1170</td>\n",
       "    </tr>\n",
       "  </tbody>\n",
       "</table>\n",
       "</div>"
      ],
      "text/plain": [
       "   Price  Age     KM  HP    CC  Doors  Gears   QT  Weight\n",
       "0  13500   23  46986  90  2000      3      5  210    1165\n",
       "1  13750   23  72937  90  2000      3      5  210    1165\n",
       "2  13950   24  41711  90  2000      3      5  210    1165\n",
       "3  14950   26  48000  90  2000      3      5  210    1165\n",
       "4  13750   30  38500  90  2000      3      5  210    1170"
      ]
     },
     "execution_count": 64,
     "metadata": {},
     "output_type": "execute_result"
    }
   ],
   "source": [
    "dataframe = toyota_corolla.copy()\n",
    "dataframe = dataframe.drop(dataframe.index[[80]],axis=0).reset_index(drop=True)\n",
    "dataframe.head()"
   ]
  },
  {
   "cell_type": "code",
   "execution_count": 66,
   "id": "10a4c2aa",
   "metadata": {},
   "outputs": [
    {
     "data": {
      "text/plain": [
       "(1435, 9)"
      ]
     },
     "execution_count": 66,
     "metadata": {},
     "output_type": "execute_result"
    }
   ],
   "source": [
    "toyota_corolla.shape"
   ]
  },
  {
   "cell_type": "code",
   "execution_count": 68,
   "id": "87b4012a",
   "metadata": {},
   "outputs": [],
   "source": [
    "k = dataframe.shape[1]\n",
    "n = dataframe.shape[0]\n",
    "leverage_cutoff = (3*(k+1))/n"
   ]
  },
  {
   "cell_type": "code",
   "execution_count": 69,
   "id": "b0c2fda1",
   "metadata": {},
   "outputs": [
    {
     "name": "stdout",
     "output_type": "stream",
     "text": [
      "This model accuracy is improved to 0.8960864004304145\n"
     ]
    }
   ],
   "source": [
    "while np.max(c)>leverage_cutoff:\n",
    "    model = smf.ols('Price ~ Age + KM + HP + CC + Doors + Gears + QT + Weight', data=dataframe).fit()\n",
    "    (c,_) = model.get_influence().cooks_distance\n",
    "    c\n",
    "    np.argmax(c) , np.max(c)\n",
    "    dataframe = dataframe.drop(dataframe.index[[np.argmax(c)]],axis=0).reset_index(drop=True)\n",
    "    dataframe\n",
    "else:\n",
    "    final_model = smf.ols('Price ~ Age + KM + HP + CC + Doors + Gears + QT + Weight',data=dataframe).fit()\n",
    "    final_model.rsquared , final_model.aic\n",
    "    print(\"This model accuracy is improved to\",final_model.rsquared)"
   ]
  },
  {
   "cell_type": "code",
   "execution_count": 70,
   "id": "9c3c059e",
   "metadata": {},
   "outputs": [
    {
     "data": {
      "text/plain": [
       "(array([8.18666846e-03, 4.24327306e-03, 5.81580166e-03, ...,\n",
       "        3.22220537e-03, 2.45735541e-05, 1.47560469e-03]),\n",
       " array([0.99999999, 1.        , 1.        , ..., 1.        , 1.        ,\n",
       "        1.        ]))"
      ]
     },
     "execution_count": 70,
     "metadata": {},
     "output_type": "execute_result"
    }
   ],
   "source": [
    "influence_points = final_model.get_influence()\n",
    "c, p_value = influence_points.cooks_distance\n",
    "c, p_value"
   ]
  },
  {
   "cell_type": "code",
   "execution_count": 71,
   "id": "6201dccc",
   "metadata": {},
   "outputs": [
    {
     "data": {
      "text/plain": [
       "(1415, 9)"
      ]
     },
     "execution_count": 71,
     "metadata": {},
     "output_type": "execute_result"
    }
   ],
   "source": [
    "dataframe.shape"
   ]
  },
  {
   "cell_type": "code",
   "execution_count": 72,
   "id": "61d6663e",
   "metadata": {},
   "outputs": [
    {
     "data": {
      "text/html": [
       "<div>\n",
       "<style scoped>\n",
       "    .dataframe tbody tr th:only-of-type {\n",
       "        vertical-align: middle;\n",
       "    }\n",
       "\n",
       "    .dataframe tbody tr th {\n",
       "        vertical-align: top;\n",
       "    }\n",
       "\n",
       "    .dataframe thead th {\n",
       "        text-align: right;\n",
       "    }\n",
       "</style>\n",
       "<table border=\"1\" class=\"dataframe\">\n",
       "  <thead>\n",
       "    <tr style=\"text-align: right;\">\n",
       "      <th></th>\n",
       "      <th>Price</th>\n",
       "      <th>Age</th>\n",
       "      <th>KM</th>\n",
       "      <th>HP</th>\n",
       "      <th>CC</th>\n",
       "      <th>Doors</th>\n",
       "      <th>Gears</th>\n",
       "      <th>QT</th>\n",
       "      <th>Weight</th>\n",
       "    </tr>\n",
       "  </thead>\n",
       "  <tbody>\n",
       "    <tr>\n",
       "      <th>0</th>\n",
       "      <td>13500</td>\n",
       "      <td>23</td>\n",
       "      <td>46986</td>\n",
       "      <td>90</td>\n",
       "      <td>2000</td>\n",
       "      <td>3</td>\n",
       "      <td>5</td>\n",
       "      <td>210</td>\n",
       "      <td>1165</td>\n",
       "    </tr>\n",
       "    <tr>\n",
       "      <th>1</th>\n",
       "      <td>13750</td>\n",
       "      <td>23</td>\n",
       "      <td>72937</td>\n",
       "      <td>90</td>\n",
       "      <td>2000</td>\n",
       "      <td>3</td>\n",
       "      <td>5</td>\n",
       "      <td>210</td>\n",
       "      <td>1165</td>\n",
       "    </tr>\n",
       "    <tr>\n",
       "      <th>2</th>\n",
       "      <td>13950</td>\n",
       "      <td>24</td>\n",
       "      <td>41711</td>\n",
       "      <td>90</td>\n",
       "      <td>2000</td>\n",
       "      <td>3</td>\n",
       "      <td>5</td>\n",
       "      <td>210</td>\n",
       "      <td>1165</td>\n",
       "    </tr>\n",
       "    <tr>\n",
       "      <th>3</th>\n",
       "      <td>14950</td>\n",
       "      <td>26</td>\n",
       "      <td>48000</td>\n",
       "      <td>90</td>\n",
       "      <td>2000</td>\n",
       "      <td>3</td>\n",
       "      <td>5</td>\n",
       "      <td>210</td>\n",
       "      <td>1165</td>\n",
       "    </tr>\n",
       "    <tr>\n",
       "      <th>4</th>\n",
       "      <td>13750</td>\n",
       "      <td>30</td>\n",
       "      <td>38500</td>\n",
       "      <td>90</td>\n",
       "      <td>2000</td>\n",
       "      <td>3</td>\n",
       "      <td>5</td>\n",
       "      <td>210</td>\n",
       "      <td>1170</td>\n",
       "    </tr>\n",
       "    <tr>\n",
       "      <th>...</th>\n",
       "      <td>...</td>\n",
       "      <td>...</td>\n",
       "      <td>...</td>\n",
       "      <td>...</td>\n",
       "      <td>...</td>\n",
       "      <td>...</td>\n",
       "      <td>...</td>\n",
       "      <td>...</td>\n",
       "      <td>...</td>\n",
       "    </tr>\n",
       "    <tr>\n",
       "      <th>1410</th>\n",
       "      <td>8450</td>\n",
       "      <td>80</td>\n",
       "      <td>23000</td>\n",
       "      <td>86</td>\n",
       "      <td>1300</td>\n",
       "      <td>3</td>\n",
       "      <td>5</td>\n",
       "      <td>69</td>\n",
       "      <td>1015</td>\n",
       "    </tr>\n",
       "    <tr>\n",
       "      <th>1411</th>\n",
       "      <td>7500</td>\n",
       "      <td>69</td>\n",
       "      <td>20544</td>\n",
       "      <td>86</td>\n",
       "      <td>1300</td>\n",
       "      <td>3</td>\n",
       "      <td>5</td>\n",
       "      <td>69</td>\n",
       "      <td>1025</td>\n",
       "    </tr>\n",
       "    <tr>\n",
       "      <th>1412</th>\n",
       "      <td>10845</td>\n",
       "      <td>72</td>\n",
       "      <td>19000</td>\n",
       "      <td>86</td>\n",
       "      <td>1300</td>\n",
       "      <td>3</td>\n",
       "      <td>5</td>\n",
       "      <td>69</td>\n",
       "      <td>1015</td>\n",
       "    </tr>\n",
       "    <tr>\n",
       "      <th>1413</th>\n",
       "      <td>8500</td>\n",
       "      <td>71</td>\n",
       "      <td>17016</td>\n",
       "      <td>86</td>\n",
       "      <td>1300</td>\n",
       "      <td>3</td>\n",
       "      <td>5</td>\n",
       "      <td>69</td>\n",
       "      <td>1015</td>\n",
       "    </tr>\n",
       "    <tr>\n",
       "      <th>1414</th>\n",
       "      <td>7250</td>\n",
       "      <td>70</td>\n",
       "      <td>16916</td>\n",
       "      <td>86</td>\n",
       "      <td>1300</td>\n",
       "      <td>3</td>\n",
       "      <td>5</td>\n",
       "      <td>69</td>\n",
       "      <td>1015</td>\n",
       "    </tr>\n",
       "  </tbody>\n",
       "</table>\n",
       "<p>1415 rows × 9 columns</p>\n",
       "</div>"
      ],
      "text/plain": [
       "      Price  Age     KM  HP    CC  Doors  Gears   QT  Weight\n",
       "0     13500   23  46986  90  2000      3      5  210    1165\n",
       "1     13750   23  72937  90  2000      3      5  210    1165\n",
       "2     13950   24  41711  90  2000      3      5  210    1165\n",
       "3     14950   26  48000  90  2000      3      5  210    1165\n",
       "4     13750   30  38500  90  2000      3      5  210    1170\n",
       "...     ...  ...    ...  ..   ...    ...    ...  ...     ...\n",
       "1410   8450   80  23000  86  1300      3      5   69    1015\n",
       "1411   7500   69  20544  86  1300      3      5   69    1025\n",
       "1412  10845   72  19000  86  1300      3      5   69    1015\n",
       "1413   8500   71  17016  86  1300      3      5   69    1015\n",
       "1414   7250   70  16916  86  1300      3      5   69    1015\n",
       "\n",
       "[1415 rows x 9 columns]"
      ]
     },
     "execution_count": 72,
     "metadata": {},
     "output_type": "execute_result"
    }
   ],
   "source": [
    "dataframe"
   ]
  },
  {
   "cell_type": "code",
   "execution_count": 73,
   "id": "e4fe0b31",
   "metadata": {},
   "outputs": [
    {
     "name": "stdout",
     "output_type": "stream",
     "text": [
      "R-squared     : 0.896\n",
      "Adj.R-squared : 0.895\n",
      "AIC Value     : 23903.282\n",
      "BIC Value     : 23950.576\n",
      "P-Value       :\n",
      " Intercept     2.733015e-27\n",
      "Age          3.627978e-295\n",
      "KM            4.977130e-50\n",
      "HP            2.180827e-22\n",
      "CC            1.232179e-29\n",
      "Doors         8.605230e-05\n",
      "Gears         7.525499e-02\n",
      "QT            4.472354e-01\n",
      "Weight       1.706006e-118\n",
      "dtype: float64\n"
     ]
    }
   ],
   "source": [
    "print('R-squared     :',final_model.rsquared.round(3))\n",
    "print('Adj.R-squared :',final_model.rsquared_adj.round(3))\n",
    "print('AIC Value     :',final_model.aic.round(3))\n",
    "print('BIC Value     :',final_model.bic.round(3))\n",
    "print('P-Value       :\\n',final_model.pvalues)"
   ]
  },
  {
   "cell_type": "code",
   "execution_count": 74,
   "id": "36e9ba0b",
   "metadata": {},
   "outputs": [
    {
     "data": {
      "text/html": [
       "<div>\n",
       "<style scoped>\n",
       "    .dataframe tbody tr th:only-of-type {\n",
       "        vertical-align: middle;\n",
       "    }\n",
       "\n",
       "    .dataframe tbody tr th {\n",
       "        vertical-align: top;\n",
       "    }\n",
       "\n",
       "    .dataframe thead th {\n",
       "        text-align: right;\n",
       "    }\n",
       "</style>\n",
       "<table border=\"1\" class=\"dataframe\">\n",
       "  <thead>\n",
       "    <tr style=\"text-align: right;\">\n",
       "      <th></th>\n",
       "      <th>Age</th>\n",
       "      <th>Price</th>\n",
       "      <th>KM</th>\n",
       "      <th>Weight</th>\n",
       "      <th>CC</th>\n",
       "      <th>Doors</th>\n",
       "      <th>HP</th>\n",
       "    </tr>\n",
       "  </thead>\n",
       "  <tbody>\n",
       "    <tr>\n",
       "      <th>0</th>\n",
       "      <td>3.135494</td>\n",
       "      <td>9.510445</td>\n",
       "      <td>10.757605</td>\n",
       "      <td>7.060476</td>\n",
       "      <td>2000</td>\n",
       "      <td>3</td>\n",
       "      <td>90</td>\n",
       "    </tr>\n",
       "    <tr>\n",
       "      <th>1</th>\n",
       "      <td>3.135494</td>\n",
       "      <td>9.528794</td>\n",
       "      <td>11.197351</td>\n",
       "      <td>7.060476</td>\n",
       "      <td>2000</td>\n",
       "      <td>3</td>\n",
       "      <td>90</td>\n",
       "    </tr>\n",
       "    <tr>\n",
       "      <th>2</th>\n",
       "      <td>3.178054</td>\n",
       "      <td>9.543235</td>\n",
       "      <td>10.638520</td>\n",
       "      <td>7.060476</td>\n",
       "      <td>2000</td>\n",
       "      <td>3</td>\n",
       "      <td>90</td>\n",
       "    </tr>\n",
       "    <tr>\n",
       "      <th>3</th>\n",
       "      <td>3.258097</td>\n",
       "      <td>9.612467</td>\n",
       "      <td>10.778956</td>\n",
       "      <td>7.060476</td>\n",
       "      <td>2000</td>\n",
       "      <td>3</td>\n",
       "      <td>90</td>\n",
       "    </tr>\n",
       "    <tr>\n",
       "      <th>4</th>\n",
       "      <td>3.401197</td>\n",
       "      <td>9.528794</td>\n",
       "      <td>10.558414</td>\n",
       "      <td>7.064759</td>\n",
       "      <td>2000</td>\n",
       "      <td>3</td>\n",
       "      <td>90</td>\n",
       "    </tr>\n",
       "  </tbody>\n",
       "</table>\n",
       "</div>"
      ],
      "text/plain": [
       "        Age     Price         KM    Weight    CC  Doors  HP\n",
       "0  3.135494  9.510445  10.757605  7.060476  2000      3  90\n",
       "1  3.135494  9.528794  11.197351  7.060476  2000      3  90\n",
       "2  3.178054  9.543235  10.638520  7.060476  2000      3  90\n",
       "3  3.258097  9.612467  10.778956  7.060476  2000      3  90\n",
       "4  3.401197  9.528794  10.558414  7.064759  2000      3  90"
      ]
     },
     "execution_count": 74,
     "metadata": {},
     "output_type": "execute_result"
    }
   ],
   "source": [
    "log_scaled = pd.DataFrame()\n",
    "log_scaled['Age'] = np.log(dataframe.Age)\n",
    "log_scaled['Price'] = np.log(dataframe.Price)\n",
    "log_scaled['KM'] = np.log(dataframe.KM)\n",
    "log_scaled['Weight'] = np.log(dataframe.Weight)\n",
    "log_scaled['CC'] = dataframe['CC']\n",
    "log_scaled['Doors'] = dataframe['Doors']\n",
    "log_scaled['HP'] = dataframe['HP']\n",
    "log_scaled.head()"
   ]
  },
  {
   "cell_type": "code",
   "execution_count": 75,
   "id": "5ebcf908",
   "metadata": {},
   "outputs": [],
   "source": [
    "log_transformed_model = smf.ols(\"Price ~ Age + KM + HP + CC + Doors + Weight\", data = log_scaled).fit()"
   ]
  },
  {
   "cell_type": "code",
   "execution_count": 76,
   "id": "5325b590",
   "metadata": {},
   "outputs": [
    {
     "name": "stdout",
     "output_type": "stream",
     "text": [
      "R-squared     : 0.765\n",
      "Adj.R-squared : 0.764\n",
      "AIC Value     : -1548.485\n",
      "BIC Value     : -1511.7\n",
      "P-Value       :\n",
      " Intercept     8.493950e-02\n",
      "Age          4.981353e-161\n",
      "KM            2.952951e-02\n",
      "HP            8.599057e-38\n",
      "CC            8.884675e-14\n",
      "Doors         9.199160e-01\n",
      "Weight        4.433340e-24\n",
      "dtype: float64\n"
     ]
    }
   ],
   "source": [
    "print('R-squared     :',log_transformed_model.rsquared.round(3))\n",
    "print('Adj.R-squared :',log_transformed_model.rsquared_adj.round(3))\n",
    "print('AIC Value     :',log_transformed_model.aic.round(3))\n",
    "print('BIC Value     :',log_transformed_model.bic.round(3))\n",
    "print('P-Value       :\\n',log_transformed_model.pvalues)"
   ]
  },
  {
   "cell_type": "code",
   "execution_count": 77,
   "id": "19f5ba9f",
   "metadata": {},
   "outputs": [
    {
     "data": {
      "text/html": [
       "<div>\n",
       "<style scoped>\n",
       "    .dataframe tbody tr th:only-of-type {\n",
       "        vertical-align: middle;\n",
       "    }\n",
       "\n",
       "    .dataframe tbody tr th {\n",
       "        vertical-align: top;\n",
       "    }\n",
       "\n",
       "    .dataframe thead th {\n",
       "        text-align: right;\n",
       "    }\n",
       "</style>\n",
       "<table border=\"1\" class=\"dataframe\">\n",
       "  <thead>\n",
       "    <tr style=\"text-align: right;\">\n",
       "      <th></th>\n",
       "      <th>Age</th>\n",
       "      <th>Price</th>\n",
       "      <th>KM</th>\n",
       "      <th>Weight</th>\n",
       "      <th>CC</th>\n",
       "      <th>QT</th>\n",
       "      <th>Doors</th>\n",
       "      <th>Gears</th>\n",
       "      <th>HP</th>\n",
       "    </tr>\n",
       "  </thead>\n",
       "  <tbody>\n",
       "    <tr>\n",
       "      <th>0</th>\n",
       "      <td>2.843867</td>\n",
       "      <td>23.811016</td>\n",
       "      <td>36.084677</td>\n",
       "      <td>10.522251</td>\n",
       "      <td>2000</td>\n",
       "      <td>210</td>\n",
       "      <td>3</td>\n",
       "      <td>5</td>\n",
       "      <td>90</td>\n",
       "    </tr>\n",
       "    <tr>\n",
       "      <th>1</th>\n",
       "      <td>2.843867</td>\n",
       "      <td>23.957099</td>\n",
       "      <td>41.781366</td>\n",
       "      <td>10.522251</td>\n",
       "      <td>2000</td>\n",
       "      <td>210</td>\n",
       "      <td>3</td>\n",
       "      <td>5</td>\n",
       "      <td>90</td>\n",
       "    </tr>\n",
       "    <tr>\n",
       "      <th>2</th>\n",
       "      <td>2.884499</td>\n",
       "      <td>24.072696</td>\n",
       "      <td>34.680355</td>\n",
       "      <td>10.522251</td>\n",
       "      <td>2000</td>\n",
       "      <td>210</td>\n",
       "      <td>3</td>\n",
       "      <td>5</td>\n",
       "      <td>90</td>\n",
       "    </tr>\n",
       "    <tr>\n",
       "      <th>3</th>\n",
       "      <td>2.962496</td>\n",
       "      <td>24.634688</td>\n",
       "      <td>36.342412</td>\n",
       "      <td>10.522251</td>\n",
       "      <td>2000</td>\n",
       "      <td>210</td>\n",
       "      <td>3</td>\n",
       "      <td>5</td>\n",
       "      <td>90</td>\n",
       "    </tr>\n",
       "    <tr>\n",
       "      <th>4</th>\n",
       "      <td>3.107233</td>\n",
       "      <td>23.957099</td>\n",
       "      <td>33.766567</td>\n",
       "      <td>10.537282</td>\n",
       "      <td>2000</td>\n",
       "      <td>210</td>\n",
       "      <td>3</td>\n",
       "      <td>5</td>\n",
       "      <td>90</td>\n",
       "    </tr>\n",
       "  </tbody>\n",
       "</table>\n",
       "</div>"
      ],
      "text/plain": [
       "        Age      Price         KM     Weight    CC   QT  Doors  Gears  HP\n",
       "0  2.843867  23.811016  36.084677  10.522251  2000  210      3      5  90\n",
       "1  2.843867  23.957099  41.781366  10.522251  2000  210      3      5  90\n",
       "2  2.884499  24.072696  34.680355  10.522251  2000  210      3      5  90\n",
       "3  2.962496  24.634688  36.342412  10.522251  2000  210      3      5  90\n",
       "4  3.107233  23.957099  33.766567  10.537282  2000  210      3      5  90"
      ]
     },
     "execution_count": 77,
     "metadata": {},
     "output_type": "execute_result"
    }
   ],
   "source": [
    "cbrt_scaled = pd.DataFrame()\n",
    "cbrt_scaled['Age'] = np.cbrt(dataframe.Age)\n",
    "cbrt_scaled['Price'] = np.cbrt(dataframe.Price)\n",
    "cbrt_scaled['KM'] = np.cbrt(dataframe.KM)\n",
    "cbrt_scaled['Weight'] = np.cbrt(dataframe.Weight)\n",
    "cbrt_scaled['CC'] = dataframe['CC']\n",
    "cbrt_scaled['QT'] = dataframe['QT']\n",
    "cbrt_scaled['Doors'] = dataframe['Doors']\n",
    "cbrt_scaled['Gears'] = dataframe['Gears']\n",
    "cbrt_scaled['HP'] = dataframe['HP']\n",
    "cbrt_scaled.head()"
   ]
  },
  {
   "cell_type": "code",
   "execution_count": 78,
   "id": "9473d5f5",
   "metadata": {},
   "outputs": [],
   "source": [
    "cbrt_transformed_model = smf.ols(\"Price ~ Age + KM + HP + CC + Doors + Gears + QT + Weight\", data = cbrt_scaled).fit()"
   ]
  },
  {
   "cell_type": "code",
   "execution_count": 79,
   "id": "da8a428e",
   "metadata": {},
   "outputs": [
    {
     "name": "stdout",
     "output_type": "stream",
     "text": [
      "R-squared     : 0.86\n",
      "Adj.R-squared : 0.859\n",
      "AIC Value     : 3442.358\n",
      "BIC Value     : 3489.652\n",
      "P-Value       :\n",
      " Intercept     1.300129e-01\n",
      "Age          5.265030e-216\n",
      "KM            2.226937e-30\n",
      "HP            1.640337e-29\n",
      "CC            2.263728e-12\n",
      "Doors         6.747694e-01\n",
      "Gears         3.360293e-03\n",
      "QT            1.705222e-05\n",
      "Weight        5.008225e-27\n",
      "dtype: float64\n"
     ]
    }
   ],
   "source": [
    "print('R-squared     :',cbrt_transformed_model.rsquared.round(3))\n",
    "print('Adj.R-squared :',cbrt_transformed_model.rsquared_adj.round(3))\n",
    "print('AIC Value     :',cbrt_transformed_model.aic.round(3))\n",
    "print('BIC Value     :',cbrt_transformed_model.bic.round(3))\n",
    "print('P-Value       :\\n',cbrt_transformed_model.pvalues)"
   ]
  },
  {
   "cell_type": "code",
   "execution_count": 80,
   "id": "e64a7e96",
   "metadata": {},
   "outputs": [
    {
     "data": {
      "text/html": [
       "<div>\n",
       "<style scoped>\n",
       "    .dataframe tbody tr th:only-of-type {\n",
       "        vertical-align: middle;\n",
       "    }\n",
       "\n",
       "    .dataframe tbody tr th {\n",
       "        vertical-align: top;\n",
       "    }\n",
       "\n",
       "    .dataframe thead th {\n",
       "        text-align: right;\n",
       "    }\n",
       "</style>\n",
       "<table border=\"1\" class=\"dataframe\">\n",
       "  <thead>\n",
       "    <tr style=\"text-align: right;\">\n",
       "      <th></th>\n",
       "      <th>Age</th>\n",
       "      <th>Price</th>\n",
       "      <th>KM</th>\n",
       "      <th>Weight</th>\n",
       "      <th>CC</th>\n",
       "      <th>QT</th>\n",
       "      <th>Doors</th>\n",
       "      <th>Gears</th>\n",
       "      <th>HP</th>\n",
       "    </tr>\n",
       "  </thead>\n",
       "  <tbody>\n",
       "    <tr>\n",
       "      <th>0</th>\n",
       "      <td>4.795832</td>\n",
       "      <td>116.189500</td>\n",
       "      <td>216.762543</td>\n",
       "      <td>34.132096</td>\n",
       "      <td>2000</td>\n",
       "      <td>210</td>\n",
       "      <td>3</td>\n",
       "      <td>5</td>\n",
       "      <td>90</td>\n",
       "    </tr>\n",
       "    <tr>\n",
       "      <th>1</th>\n",
       "      <td>4.795832</td>\n",
       "      <td>117.260394</td>\n",
       "      <td>270.068510</td>\n",
       "      <td>34.132096</td>\n",
       "      <td>2000</td>\n",
       "      <td>210</td>\n",
       "      <td>3</td>\n",
       "      <td>5</td>\n",
       "      <td>90</td>\n",
       "    </tr>\n",
       "    <tr>\n",
       "      <th>2</th>\n",
       "      <td>4.898979</td>\n",
       "      <td>118.110118</td>\n",
       "      <td>204.232710</td>\n",
       "      <td>34.132096</td>\n",
       "      <td>2000</td>\n",
       "      <td>210</td>\n",
       "      <td>3</td>\n",
       "      <td>5</td>\n",
       "      <td>90</td>\n",
       "    </tr>\n",
       "    <tr>\n",
       "      <th>3</th>\n",
       "      <td>5.099020</td>\n",
       "      <td>122.270193</td>\n",
       "      <td>219.089023</td>\n",
       "      <td>34.132096</td>\n",
       "      <td>2000</td>\n",
       "      <td>210</td>\n",
       "      <td>3</td>\n",
       "      <td>5</td>\n",
       "      <td>90</td>\n",
       "    </tr>\n",
       "    <tr>\n",
       "      <th>4</th>\n",
       "      <td>5.477226</td>\n",
       "      <td>117.260394</td>\n",
       "      <td>196.214169</td>\n",
       "      <td>34.205263</td>\n",
       "      <td>2000</td>\n",
       "      <td>210</td>\n",
       "      <td>3</td>\n",
       "      <td>5</td>\n",
       "      <td>90</td>\n",
       "    </tr>\n",
       "  </tbody>\n",
       "</table>\n",
       "</div>"
      ],
      "text/plain": [
       "        Age       Price          KM     Weight    CC   QT  Doors  Gears  HP\n",
       "0  4.795832  116.189500  216.762543  34.132096  2000  210      3      5  90\n",
       "1  4.795832  117.260394  270.068510  34.132096  2000  210      3      5  90\n",
       "2  4.898979  118.110118  204.232710  34.132096  2000  210      3      5  90\n",
       "3  5.099020  122.270193  219.089023  34.132096  2000  210      3      5  90\n",
       "4  5.477226  117.260394  196.214169  34.205263  2000  210      3      5  90"
      ]
     },
     "execution_count": 80,
     "metadata": {},
     "output_type": "execute_result"
    }
   ],
   "source": [
    "sqrt_scaled = pd.DataFrame()\n",
    "sqrt_scaled['Age'] = np.sqrt(dataframe.Age)\n",
    "sqrt_scaled['Price'] = np.sqrt(dataframe.Price)\n",
    "sqrt_scaled['KM'] = np.sqrt(dataframe.KM)\n",
    "sqrt_scaled['Weight'] = np.sqrt(dataframe.Weight)\n",
    "sqrt_scaled['CC'] = dataframe['CC']\n",
    "sqrt_scaled['QT'] = dataframe['QT']\n",
    "sqrt_scaled['Doors'] = dataframe['Doors']\n",
    "sqrt_scaled['Gears'] = dataframe['Gears']\n",
    "sqrt_scaled['HP'] = dataframe['HP']\n",
    "sqrt_scaled.head()"
   ]
  },
  {
   "cell_type": "code",
   "execution_count": 81,
   "id": "4cbf4f8a",
   "metadata": {},
   "outputs": [],
   "source": [
    "sqrt_transformed_model = smf.ols(\"Price ~ Age + KM + HP + CC + Doors + Gears + QT + Weight\", data = sqrt_scaled).fit()"
   ]
  },
  {
   "cell_type": "code",
   "execution_count": 82,
   "id": "7d75eaa9",
   "metadata": {},
   "outputs": [
    {
     "name": "stdout",
     "output_type": "stream",
     "text": [
      "R-squared     : 0.884\n",
      "Adj.R-squared : 0.883\n",
      "AIC Value     : 8754.336\n",
      "BIC Value     : 8801.63\n",
      "P-Value       :\n",
      " Intercept     6.398002e-04\n",
      "Age          5.612813e-260\n",
      "KM            6.195481e-45\n",
      "HP            5.599709e-28\n",
      "CC            5.544674e-14\n",
      "Doors         7.805591e-01\n",
      "Gears         2.408792e-03\n",
      "QT            1.687698e-04\n",
      "Weight        8.644974e-42\n",
      "dtype: float64\n"
     ]
    }
   ],
   "source": [
    "print('R-squared     :',sqrt_transformed_model.rsquared.round(3))\n",
    "print('Adj.R-squared :',sqrt_transformed_model.rsquared_adj.round(3))\n",
    "print('AIC Value     :',sqrt_transformed_model.aic.round(3))\n",
    "print('BIC Value     :',sqrt_transformed_model.bic.round(3))\n",
    "print('P-Value       :\\n',sqrt_transformed_model.pvalues)"
   ]
  },
  {
   "cell_type": "code",
   "execution_count": 83,
   "id": "14777405",
   "metadata": {},
   "outputs": [],
   "source": [
    "robust_scaled = dataframe.copy()\n",
    "columns= ['Price','Age','KM','Weight']\n",
    "features = robust_scaled[columns]"
   ]
  },
  {
   "cell_type": "code",
   "execution_count": 84,
   "id": "157b660e",
   "metadata": {},
   "outputs": [],
   "source": [
    "scaler=RobustScaler()"
   ]
  },
  {
   "cell_type": "code",
   "execution_count": 86,
   "id": "f92fccb7",
   "metadata": {},
   "outputs": [
    {
     "data": {
      "text/html": [
       "<div>\n",
       "<style scoped>\n",
       "    .dataframe tbody tr th:only-of-type {\n",
       "        vertical-align: middle;\n",
       "    }\n",
       "\n",
       "    .dataframe tbody tr th {\n",
       "        vertical-align: top;\n",
       "    }\n",
       "\n",
       "    .dataframe thead th {\n",
       "        text-align: right;\n",
       "    }\n",
       "</style>\n",
       "<table border=\"1\" class=\"dataframe\">\n",
       "  <thead>\n",
       "    <tr style=\"text-align: right;\">\n",
       "      <th></th>\n",
       "      <th>Price</th>\n",
       "      <th>Age</th>\n",
       "      <th>KM</th>\n",
       "      <th>HP</th>\n",
       "      <th>CC</th>\n",
       "      <th>Doors</th>\n",
       "      <th>Gears</th>\n",
       "      <th>QT</th>\n",
       "      <th>Weight</th>\n",
       "    </tr>\n",
       "  </thead>\n",
       "  <tbody>\n",
       "    <tr>\n",
       "      <th>0</th>\n",
       "      <td>1.035226</td>\n",
       "      <td>-1.461538</td>\n",
       "      <td>-0.374898</td>\n",
       "      <td>90</td>\n",
       "      <td>2000</td>\n",
       "      <td>3</td>\n",
       "      <td>5</td>\n",
       "      <td>210</td>\n",
       "      <td>2.222222</td>\n",
       "    </tr>\n",
       "    <tr>\n",
       "      <th>1</th>\n",
       "      <td>1.107117</td>\n",
       "      <td>-1.461538</td>\n",
       "      <td>0.215703</td>\n",
       "      <td>90</td>\n",
       "      <td>2000</td>\n",
       "      <td>3</td>\n",
       "      <td>5</td>\n",
       "      <td>210</td>\n",
       "      <td>2.222222</td>\n",
       "    </tr>\n",
       "    <tr>\n",
       "      <th>2</th>\n",
       "      <td>1.164630</td>\n",
       "      <td>-1.423077</td>\n",
       "      <td>-0.494948</td>\n",
       "      <td>90</td>\n",
       "      <td>2000</td>\n",
       "      <td>3</td>\n",
       "      <td>5</td>\n",
       "      <td>210</td>\n",
       "      <td>2.222222</td>\n",
       "    </tr>\n",
       "    <tr>\n",
       "      <th>3</th>\n",
       "      <td>1.452193</td>\n",
       "      <td>-1.346154</td>\n",
       "      <td>-0.351821</td>\n",
       "      <td>90</td>\n",
       "      <td>2000</td>\n",
       "      <td>3</td>\n",
       "      <td>5</td>\n",
       "      <td>210</td>\n",
       "      <td>2.222222</td>\n",
       "    </tr>\n",
       "    <tr>\n",
       "      <th>4</th>\n",
       "      <td>1.107117</td>\n",
       "      <td>-1.192308</td>\n",
       "      <td>-0.568025</td>\n",
       "      <td>90</td>\n",
       "      <td>2000</td>\n",
       "      <td>3</td>\n",
       "      <td>5</td>\n",
       "      <td>210</td>\n",
       "      <td>2.333333</td>\n",
       "    </tr>\n",
       "    <tr>\n",
       "      <th>...</th>\n",
       "      <td>...</td>\n",
       "      <td>...</td>\n",
       "      <td>...</td>\n",
       "      <td>...</td>\n",
       "      <td>...</td>\n",
       "      <td>...</td>\n",
       "      <td>...</td>\n",
       "      <td>...</td>\n",
       "      <td>...</td>\n",
       "    </tr>\n",
       "    <tr>\n",
       "      <th>1410</th>\n",
       "      <td>-0.416966</td>\n",
       "      <td>0.730769</td>\n",
       "      <td>-0.920778</td>\n",
       "      <td>86</td>\n",
       "      <td>1300</td>\n",
       "      <td>3</td>\n",
       "      <td>5</td>\n",
       "      <td>69</td>\n",
       "      <td>-1.111111</td>\n",
       "    </tr>\n",
       "    <tr>\n",
       "      <th>1411</th>\n",
       "      <td>-0.690151</td>\n",
       "      <td>0.307692</td>\n",
       "      <td>-0.976673</td>\n",
       "      <td>86</td>\n",
       "      <td>1300</td>\n",
       "      <td>3</td>\n",
       "      <td>5</td>\n",
       "      <td>69</td>\n",
       "      <td>-0.888889</td>\n",
       "    </tr>\n",
       "    <tr>\n",
       "      <th>1412</th>\n",
       "      <td>0.271747</td>\n",
       "      <td>0.423077</td>\n",
       "      <td>-1.011812</td>\n",
       "      <td>86</td>\n",
       "      <td>1300</td>\n",
       "      <td>3</td>\n",
       "      <td>5</td>\n",
       "      <td>69</td>\n",
       "      <td>-1.111111</td>\n",
       "    </tr>\n",
       "    <tr>\n",
       "      <th>1413</th>\n",
       "      <td>-0.402588</td>\n",
       "      <td>0.384615</td>\n",
       "      <td>-1.056964</td>\n",
       "      <td>86</td>\n",
       "      <td>1300</td>\n",
       "      <td>3</td>\n",
       "      <td>5</td>\n",
       "      <td>69</td>\n",
       "      <td>-1.111111</td>\n",
       "    </tr>\n",
       "    <tr>\n",
       "      <th>1414</th>\n",
       "      <td>-0.762042</td>\n",
       "      <td>0.346154</td>\n",
       "      <td>-1.059240</td>\n",
       "      <td>86</td>\n",
       "      <td>1300</td>\n",
       "      <td>3</td>\n",
       "      <td>5</td>\n",
       "      <td>69</td>\n",
       "      <td>-1.111111</td>\n",
       "    </tr>\n",
       "  </tbody>\n",
       "</table>\n",
       "<p>1415 rows × 9 columns</p>\n",
       "</div>"
      ],
      "text/plain": [
       "         Price       Age        KM  HP    CC  Doors  Gears   QT    Weight\n",
       "0     1.035226 -1.461538 -0.374898  90  2000      3      5  210  2.222222\n",
       "1     1.107117 -1.461538  0.215703  90  2000      3      5  210  2.222222\n",
       "2     1.164630 -1.423077 -0.494948  90  2000      3      5  210  2.222222\n",
       "3     1.452193 -1.346154 -0.351821  90  2000      3      5  210  2.222222\n",
       "4     1.107117 -1.192308 -0.568025  90  2000      3      5  210  2.333333\n",
       "...        ...       ...       ...  ..   ...    ...    ...  ...       ...\n",
       "1410 -0.416966  0.730769 -0.920778  86  1300      3      5   69 -1.111111\n",
       "1411 -0.690151  0.307692 -0.976673  86  1300      3      5   69 -0.888889\n",
       "1412  0.271747  0.423077 -1.011812  86  1300      3      5   69 -1.111111\n",
       "1413 -0.402588  0.384615 -1.056964  86  1300      3      5   69 -1.111111\n",
       "1414 -0.762042  0.346154 -1.059240  86  1300      3      5   69 -1.111111\n",
       "\n",
       "[1415 rows x 9 columns]"
      ]
     },
     "execution_count": 86,
     "metadata": {},
     "output_type": "execute_result"
    }
   ],
   "source": [
    "robust_scaled[columns] = scaler.fit_transform(features.values)\n",
    "robust_scaled"
   ]
  },
  {
   "cell_type": "code",
   "execution_count": 87,
   "id": "d1fec9f4",
   "metadata": {},
   "outputs": [],
   "source": [
    "robust_transformed_model = smf.ols(\"Price ~ Age + KM + HP + CC + Doors + Gears + QT + Weight\", data = robust_scaled).fit()"
   ]
  },
  {
   "cell_type": "code",
   "execution_count": 88,
   "id": "77694101",
   "metadata": {},
   "outputs": [
    {
     "name": "stdout",
     "output_type": "stream",
     "text": [
      "R-squared     : 0.896\n",
      "Adj.R-squared : 0.895\n",
      "AIC Value     : 827.267\n",
      "BIC Value     : 874.561\n",
      "P-Value       :\n",
      " Intercept     1.391592e-01\n",
      "Age          3.627978e-295\n",
      "KM            4.977130e-50\n",
      "HP            2.180827e-22\n",
      "CC            1.232179e-29\n",
      "Doors         8.605230e-05\n",
      "Gears         7.525499e-02\n",
      "QT            4.472354e-01\n",
      "Weight       1.706006e-118\n",
      "dtype: float64\n"
     ]
    }
   ],
   "source": [
    "print('R-squared     :',robust_transformed_model.rsquared.round(3))\n",
    "print('Adj.R-squared :',robust_transformed_model.rsquared_adj.round(3))\n",
    "print('AIC Value     :',robust_transformed_model.aic.round(3))\n",
    "print('BIC Value     :',robust_transformed_model.bic.round(3))\n",
    "print('P-Value       :\\n',robust_transformed_model.pvalues)"
   ]
  },
  {
   "cell_type": "code",
   "execution_count": 89,
   "id": "97c82d0f",
   "metadata": {},
   "outputs": [],
   "source": [
    "col_names = dataframe.columns\n",
    "features = dataframe[col_names]"
   ]
  },
  {
   "cell_type": "code",
   "execution_count": 92,
   "id": "2228acb4",
   "metadata": {},
   "outputs": [
    {
     "data": {
      "text/html": [
       "<div>\n",
       "<style scoped>\n",
       "    .dataframe tbody tr th:only-of-type {\n",
       "        vertical-align: middle;\n",
       "    }\n",
       "\n",
       "    .dataframe tbody tr th {\n",
       "        vertical-align: top;\n",
       "    }\n",
       "\n",
       "    .dataframe thead th {\n",
       "        text-align: right;\n",
       "    }\n",
       "</style>\n",
       "<table border=\"1\" class=\"dataframe\">\n",
       "  <thead>\n",
       "    <tr style=\"text-align: right;\">\n",
       "      <th></th>\n",
       "      <th>Price</th>\n",
       "      <th>Age</th>\n",
       "      <th>KM</th>\n",
       "      <th>HP</th>\n",
       "      <th>CC</th>\n",
       "      <th>Doors</th>\n",
       "      <th>Gears</th>\n",
       "      <th>QT</th>\n",
       "      <th>Weight</th>\n",
       "    </tr>\n",
       "  </thead>\n",
       "  <tbody>\n",
       "    <tr>\n",
       "      <th>0</th>\n",
       "      <td>0.812024</td>\n",
       "      <td>-1.792982</td>\n",
       "      <td>-0.581019</td>\n",
       "      <td>-0.800676</td>\n",
       "      <td>2.351384</td>\n",
       "      <td>-1.081458</td>\n",
       "      <td>-0.150625</td>\n",
       "      <td>3.032691</td>\n",
       "      <td>2.013025</td>\n",
       "    </tr>\n",
       "    <tr>\n",
       "      <th>1</th>\n",
       "      <td>0.883978</td>\n",
       "      <td>-1.792982</td>\n",
       "      <td>0.118411</td>\n",
       "      <td>-0.800676</td>\n",
       "      <td>2.351384</td>\n",
       "      <td>-1.081458</td>\n",
       "      <td>-0.150625</td>\n",
       "      <td>3.032691</td>\n",
       "      <td>2.013025</td>\n",
       "    </tr>\n",
       "    <tr>\n",
       "      <th>2</th>\n",
       "      <td>0.941541</td>\n",
       "      <td>-1.738892</td>\n",
       "      <td>-0.723191</td>\n",
       "      <td>-0.800676</td>\n",
       "      <td>2.351384</td>\n",
       "      <td>-1.081458</td>\n",
       "      <td>-0.150625</td>\n",
       "      <td>3.032691</td>\n",
       "      <td>2.013025</td>\n",
       "    </tr>\n",
       "    <tr>\n",
       "      <th>3</th>\n",
       "      <td>1.229357</td>\n",
       "      <td>-1.630713</td>\n",
       "      <td>-0.553690</td>\n",
       "      <td>-0.800676</td>\n",
       "      <td>2.351384</td>\n",
       "      <td>-1.081458</td>\n",
       "      <td>-0.150625</td>\n",
       "      <td>3.032691</td>\n",
       "      <td>2.013025</td>\n",
       "    </tr>\n",
       "    <tr>\n",
       "      <th>4</th>\n",
       "      <td>0.883978</td>\n",
       "      <td>-1.414355</td>\n",
       "      <td>-0.809733</td>\n",
       "      <td>-0.800676</td>\n",
       "      <td>2.351384</td>\n",
       "      <td>-1.081458</td>\n",
       "      <td>-0.150625</td>\n",
       "      <td>3.032691</td>\n",
       "      <td>2.119377</td>\n",
       "    </tr>\n",
       "  </tbody>\n",
       "</table>\n",
       "</div>"
      ],
      "text/plain": [
       "      Price       Age        KM        HP        CC     Doors     Gears  \\\n",
       "0  0.812024 -1.792982 -0.581019 -0.800676  2.351384 -1.081458 -0.150625   \n",
       "1  0.883978 -1.792982  0.118411 -0.800676  2.351384 -1.081458 -0.150625   \n",
       "2  0.941541 -1.738892 -0.723191 -0.800676  2.351384 -1.081458 -0.150625   \n",
       "3  1.229357 -1.630713 -0.553690 -0.800676  2.351384 -1.081458 -0.150625   \n",
       "4  0.883978 -1.414355 -0.809733 -0.800676  2.351384 -1.081458 -0.150625   \n",
       "\n",
       "         QT    Weight  \n",
       "0  3.032691  2.013025  \n",
       "1  3.032691  2.013025  \n",
       "2  3.032691  2.013025  \n",
       "3  3.032691  2.013025  \n",
       "4  3.032691  2.119377  "
      ]
     },
     "execution_count": 92,
     "metadata": {},
     "output_type": "execute_result"
    }
   ],
   "source": [
    "scaler = StandardScaler().fit(features.values)\n",
    "features = scaler.transform(features.values)\n",
    "standard_scaled = pd.DataFrame(features, columns = col_names)\n",
    "standard_scaled.head()"
   ]
  },
  {
   "cell_type": "code",
   "execution_count": 96,
   "id": "0d7c5946",
   "metadata": {},
   "outputs": [],
   "source": [
    "standard_scaler_transformed_model = smf.ols(\"Price ~ Age + KM + HP + CC + Doors + Gears + QT + Weight\", data = standard_scaled).fit()"
   ]
  },
  {
   "cell_type": "code",
   "execution_count": 97,
   "id": "b8a3315c",
   "metadata": {},
   "outputs": [
    {
     "name": "stdout",
     "output_type": "stream",
     "text": [
      "R-squared     : 0.896\n",
      "Adj.R-squared : 0.895\n",
      "AIC Value     : 829.759\n",
      "BIC Value     : 877.053\n",
      "P-Value       :\n",
      " Intercept     1.000000e+00\n",
      "Age          3.627978e-295\n",
      "KM            4.977130e-50\n",
      "HP            2.180827e-22\n",
      "CC            1.232179e-29\n",
      "Doors         8.605230e-05\n",
      "Gears         7.525499e-02\n",
      "QT            4.472354e-01\n",
      "Weight       1.706006e-118\n",
      "dtype: float64\n"
     ]
    }
   ],
   "source": [
    "print('R-squared     :',standard_scaler_transformed_model.rsquared.round(3))\n",
    "print('Adj.R-squared :',standard_scaler_transformed_model.rsquared_adj.round(3))\n",
    "print('AIC Value     :',standard_scaler_transformed_model.aic.round(3))\n",
    "print('BIC Value     :',standard_scaler_transformed_model.bic.round(3))\n",
    "print('P-Value       :\\n',standard_scaler_transformed_model.pvalues)"
   ]
  },
  {
   "cell_type": "code",
   "execution_count": 99,
   "id": "73642dcd",
   "metadata": {},
   "outputs": [],
   "source": [
    "model = smf.ols(\"Price ~ Age + KM + HP + CC + Doors + Gears + QT + Weight\", data = standard_scaled).fit()"
   ]
  },
  {
   "cell_type": "code",
   "execution_count": 100,
   "id": "7d40b5da",
   "metadata": {},
   "outputs": [
    {
     "name": "stdout",
     "output_type": "stream",
     "text": [
      "R-squared     : 0.896\n",
      "Adj.R-squared : 0.895\n",
      "AIC Value     : 829.759\n",
      "BIC Value     : 877.053\n",
      "P-Value       :\n",
      " Intercept     1.000000e+00\n",
      "Age          3.627978e-295\n",
      "KM            4.977130e-50\n",
      "HP            2.180827e-22\n",
      "CC            1.232179e-29\n",
      "Doors         8.605230e-05\n",
      "Gears         7.525499e-02\n",
      "QT            4.472354e-01\n",
      "Weight       1.706006e-118\n",
      "dtype: float64\n"
     ]
    }
   ],
   "source": [
    "print('R-squared     :',model.rsquared.round(3))\n",
    "print('Adj.R-squared :',model.rsquared_adj.round(3))\n",
    "print('AIC Value     :',model.aic.round(3))\n",
    "print('BIC Value     :',model.bic.round(3))\n",
    "print('P-Value       :\\n',model.pvalues)"
   ]
  },
  {
   "cell_type": "code",
   "execution_count": 101,
   "id": "fc9fd364",
   "metadata": {},
   "outputs": [
    {
     "data": {
      "text/html": [
       "<div>\n",
       "<style scoped>\n",
       "    .dataframe tbody tr th:only-of-type {\n",
       "        vertical-align: middle;\n",
       "    }\n",
       "\n",
       "    .dataframe tbody tr th {\n",
       "        vertical-align: top;\n",
       "    }\n",
       "\n",
       "    .dataframe thead th {\n",
       "        text-align: right;\n",
       "    }\n",
       "</style>\n",
       "<table border=\"1\" class=\"dataframe\">\n",
       "  <thead>\n",
       "    <tr style=\"text-align: right;\">\n",
       "      <th></th>\n",
       "      <th>Features</th>\n",
       "      <th>VIF</th>\n",
       "    </tr>\n",
       "  </thead>\n",
       "  <tbody>\n",
       "    <tr>\n",
       "      <th>7</th>\n",
       "      <td>Weight</td>\n",
       "      <td>4.04</td>\n",
       "    </tr>\n",
       "    <tr>\n",
       "      <th>6</th>\n",
       "      <td>QT</td>\n",
       "      <td>3.39</td>\n",
       "    </tr>\n",
       "    <tr>\n",
       "      <th>3</th>\n",
       "      <td>CC</td>\n",
       "      <td>3.16</td>\n",
       "    </tr>\n",
       "    <tr>\n",
       "      <th>0</th>\n",
       "      <td>Age</td>\n",
       "      <td>2.06</td>\n",
       "    </tr>\n",
       "    <tr>\n",
       "      <th>1</th>\n",
       "      <td>KM</td>\n",
       "      <td>1.93</td>\n",
       "    </tr>\n",
       "    <tr>\n",
       "      <th>2</th>\n",
       "      <td>HP</td>\n",
       "      <td>1.69</td>\n",
       "    </tr>\n",
       "    <tr>\n",
       "      <th>4</th>\n",
       "      <td>Doors</td>\n",
       "      <td>1.24</td>\n",
       "    </tr>\n",
       "    <tr>\n",
       "      <th>5</th>\n",
       "      <td>Gears</td>\n",
       "      <td>1.10</td>\n",
       "    </tr>\n",
       "  </tbody>\n",
       "</table>\n",
       "</div>"
      ],
      "text/plain": [
       "  Features   VIF\n",
       "7   Weight  4.04\n",
       "6       QT  3.39\n",
       "3       CC  3.16\n",
       "0      Age  2.06\n",
       "1       KM  1.93\n",
       "2       HP  1.69\n",
       "4    Doors  1.24\n",
       "5    Gears  1.10"
      ]
     },
     "execution_count": 101,
     "metadata": {},
     "output_type": "execute_result"
    }
   ],
   "source": [
    "y = standard_scaled.drop(['Price'], axis=1)\n",
    "vif = pd.DataFrame()\n",
    "vif['Features'] = y.columns\n",
    "vif['VIF'] = [variance_inflation_factor(y.values, i) for i in range(y.shape[1])]\n",
    "vif['VIF'] = round(vif['VIF'], 2)\n",
    "vif = vif.sort_values(by = \"VIF\", ascending = False)\n",
    "vif"
   ]
  },
  {
   "cell_type": "code",
   "execution_count": 103,
   "id": "9292c906",
   "metadata": {},
   "outputs": [
    {
     "name": "stdout",
     "output_type": "stream",
     "text": [
      "R-squared     : 0.041\n",
      "Adj.R-squared : 0.041\n",
      "AIC Value     : 3959.728\n",
      "BIC Value     : 3970.238\n",
      "P-Value       :\n",
      " Intercept    1.000000e+00\n",
      "QT           1.070276e-14\n",
      "dtype: float64\n"
     ]
    }
   ],
   "source": [
    "qt_model = smf.ols('Price ~ QT', data= standard_scaled).fit()\n",
    "print('R-squared     :',qt_model.rsquared.round(3))\n",
    "print('Adj.R-squared :',qt_model.rsquared_adj.round(3))\n",
    "print('AIC Value     :',qt_model.aic.round(3))\n",
    "print('BIC Value     :',qt_model.bic.round(3))\n",
    "print('P-Value       :\\n',qt_model.pvalues)"
   ]
  },
  {
   "cell_type": "code",
   "execution_count": 104,
   "id": "3ff4ecf3",
   "metadata": {},
   "outputs": [
    {
     "name": "stdout",
     "output_type": "stream",
     "text": [
      "R-squared     : 0.002\n",
      "Adj.R-squared : 0.001\n",
      "AIC Value     : 4017.293\n",
      "BIC Value     : 4027.803\n",
      "P-Value       :\n",
      " Intercept    1.000000\n",
      "Gears        0.129489\n",
      "dtype: float64\n"
     ]
    }
   ],
   "source": [
    "gears_model = smf.ols('Price ~ Gears', data= standard_scaled).fit()\n",
    "print('R-squared     :',gears_model.rsquared.round(3))\n",
    "print('Adj.R-squared :',gears_model.rsquared_adj.round(3))\n",
    "print('AIC Value     :',gears_model.aic.round(3))\n",
    "print('BIC Value     :',gears_model.bic.round(3))\n",
    "print('P-Value       :\\n',gears_model.pvalues)"
   ]
  },
  {
   "cell_type": "code",
   "execution_count": 105,
   "id": "682aa332",
   "metadata": {},
   "outputs": [
    {
     "name": "stdout",
     "output_type": "stream",
     "text": [
      "R-squared     : 0.043\n",
      "Adj.R-squared : 0.042\n",
      "AIC Value     : 3959.049\n",
      "BIC Value     : 3974.814\n",
      "P-Value       :\n",
      " Intercept    1.000000e+00\n",
      "Gears        1.021190e-01\n",
      "QT           9.037594e-15\n",
      "dtype: float64\n"
     ]
    }
   ],
   "source": [
    "gears_qt_model = smf.ols('Price ~ Gears+QT', data= standard_scaled).fit()\n",
    "print('R-squared     :',gears_qt_model.rsquared.round(3))\n",
    "print('Adj.R-squared :',gears_qt_model.rsquared_adj.round(3))\n",
    "print('AIC Value     :',gears_qt_model.aic.round(3))\n",
    "print('BIC Value     :',gears_qt_model.bic.round(3))\n",
    "print('P-Value       :\\n',gears_qt_model.pvalues)"
   ]
  },
  {
   "cell_type": "code",
   "execution_count": 108,
   "id": "9a2f62d5",
   "metadata": {},
   "outputs": [],
   "source": [
    "x1 = standard_scaled.drop(['Gears'], axis=1)\n",
    "y1 = standard_scaled.drop(['Gears','Price'], axis=1)"
   ]
  },
  {
   "cell_type": "code",
   "execution_count": 109,
   "id": "9163088d",
   "metadata": {},
   "outputs": [
    {
     "data": {
      "text/plain": [
       "Index(['Price', 'Age', 'KM', 'HP', 'CC', 'Doors', 'QT', 'Weight'], dtype='object')"
      ]
     },
     "execution_count": 109,
     "metadata": {},
     "output_type": "execute_result"
    }
   ],
   "source": [
    "x1.columns"
   ]
  },
  {
   "cell_type": "code",
   "execution_count": 110,
   "id": "1e09fd37",
   "metadata": {},
   "outputs": [
    {
     "name": "stdout",
     "output_type": "stream",
     "text": [
      "R-squared     : 0.896\n",
      "Adj.R-squared : 0.895\n",
      "AIC Value     : 830.945\n",
      "BIC Value     : 872.984\n",
      "P-Value       :\n",
      " Intercept     1.000000e+00\n",
      "Age          6.835595e-295\n",
      "KM            1.945624e-49\n",
      "HP            3.721110e-25\n",
      "CC            3.459774e-30\n",
      "Doors         1.134846e-05\n",
      "QT            3.965621e-01\n",
      "Weight       3.208736e-119\n",
      "dtype: float64\n"
     ]
    }
   ],
   "source": [
    "model_1 = smf.ols('Price ~ Age+KM+HP+CC+Doors+QT+Weight', data = x1).fit()\n",
    "print('R-squared     :',model_1.rsquared.round(3))\n",
    "print('Adj.R-squared :',model_1.rsquared_adj.round(3))\n",
    "print('AIC Value     :',model_1.aic.round(3))\n",
    "print('BIC Value     :',model_1.bic.round(3))\n",
    "print('P-Value       :\\n',model_1.pvalues)"
   ]
  },
  {
   "cell_type": "code",
   "execution_count": 111,
   "id": "d599fe9e",
   "metadata": {},
   "outputs": [
    {
     "data": {
      "text/html": [
       "<div>\n",
       "<style scoped>\n",
       "    .dataframe tbody tr th:only-of-type {\n",
       "        vertical-align: middle;\n",
       "    }\n",
       "\n",
       "    .dataframe tbody tr th {\n",
       "        vertical-align: top;\n",
       "    }\n",
       "\n",
       "    .dataframe thead th {\n",
       "        text-align: right;\n",
       "    }\n",
       "</style>\n",
       "<table border=\"1\" class=\"dataframe\">\n",
       "  <thead>\n",
       "    <tr style=\"text-align: right;\">\n",
       "      <th></th>\n",
       "      <th>Price</th>\n",
       "      <th>Age</th>\n",
       "      <th>KM</th>\n",
       "      <th>HP</th>\n",
       "      <th>CC</th>\n",
       "      <th>Doors</th>\n",
       "      <th>Gears</th>\n",
       "      <th>QT</th>\n",
       "      <th>Weight</th>\n",
       "    </tr>\n",
       "  </thead>\n",
       "  <tbody>\n",
       "    <tr>\n",
       "      <th>Price</th>\n",
       "      <td>1.000000</td>\n",
       "      <td>-0.876273</td>\n",
       "      <td>-0.569420</td>\n",
       "      <td>0.314134</td>\n",
       "      <td>0.124375</td>\n",
       "      <td>0.183604</td>\n",
       "      <td>0.063831</td>\n",
       "      <td>0.211508</td>\n",
       "      <td>0.575869</td>\n",
       "    </tr>\n",
       "    <tr>\n",
       "      <th>Age</th>\n",
       "      <td>-0.876273</td>\n",
       "      <td>1.000000</td>\n",
       "      <td>0.504575</td>\n",
       "      <td>-0.155293</td>\n",
       "      <td>-0.096549</td>\n",
       "      <td>-0.146929</td>\n",
       "      <td>-0.005629</td>\n",
       "      <td>-0.193319</td>\n",
       "      <td>-0.466484</td>\n",
       "    </tr>\n",
       "    <tr>\n",
       "      <th>KM</th>\n",
       "      <td>-0.569420</td>\n",
       "      <td>0.504575</td>\n",
       "      <td>1.000000</td>\n",
       "      <td>-0.332904</td>\n",
       "      <td>0.103822</td>\n",
       "      <td>-0.035193</td>\n",
       "      <td>0.014890</td>\n",
       "      <td>0.283312</td>\n",
       "      <td>-0.023969</td>\n",
       "    </tr>\n",
       "    <tr>\n",
       "      <th>HP</th>\n",
       "      <td>0.314134</td>\n",
       "      <td>-0.155293</td>\n",
       "      <td>-0.332904</td>\n",
       "      <td>1.000000</td>\n",
       "      <td>0.035207</td>\n",
       "      <td>0.091803</td>\n",
       "      <td>0.209642</td>\n",
       "      <td>-0.302287</td>\n",
       "      <td>0.087143</td>\n",
       "    </tr>\n",
       "    <tr>\n",
       "      <th>CC</th>\n",
       "      <td>0.124375</td>\n",
       "      <td>-0.096549</td>\n",
       "      <td>0.103822</td>\n",
       "      <td>0.035207</td>\n",
       "      <td>1.000000</td>\n",
       "      <td>0.079254</td>\n",
       "      <td>0.014732</td>\n",
       "      <td>0.305982</td>\n",
       "      <td>0.335077</td>\n",
       "    </tr>\n",
       "    <tr>\n",
       "      <th>Doors</th>\n",
       "      <td>0.183604</td>\n",
       "      <td>-0.146929</td>\n",
       "      <td>-0.035193</td>\n",
       "      <td>0.091803</td>\n",
       "      <td>0.079254</td>\n",
       "      <td>1.000000</td>\n",
       "      <td>-0.160101</td>\n",
       "      <td>0.107353</td>\n",
       "      <td>0.301734</td>\n",
       "    </tr>\n",
       "    <tr>\n",
       "      <th>Gears</th>\n",
       "      <td>0.063831</td>\n",
       "      <td>-0.005629</td>\n",
       "      <td>0.014890</td>\n",
       "      <td>0.209642</td>\n",
       "      <td>0.014732</td>\n",
       "      <td>-0.160101</td>\n",
       "      <td>1.000000</td>\n",
       "      <td>-0.005125</td>\n",
       "      <td>0.021238</td>\n",
       "    </tr>\n",
       "    <tr>\n",
       "      <th>QT</th>\n",
       "      <td>0.211508</td>\n",
       "      <td>-0.193319</td>\n",
       "      <td>0.283312</td>\n",
       "      <td>-0.302287</td>\n",
       "      <td>0.305982</td>\n",
       "      <td>0.107353</td>\n",
       "      <td>-0.005125</td>\n",
       "      <td>1.000000</td>\n",
       "      <td>0.621988</td>\n",
       "    </tr>\n",
       "    <tr>\n",
       "      <th>Weight</th>\n",
       "      <td>0.575869</td>\n",
       "      <td>-0.466484</td>\n",
       "      <td>-0.023969</td>\n",
       "      <td>0.087143</td>\n",
       "      <td>0.335077</td>\n",
       "      <td>0.301734</td>\n",
       "      <td>0.021238</td>\n",
       "      <td>0.621988</td>\n",
       "      <td>1.000000</td>\n",
       "    </tr>\n",
       "  </tbody>\n",
       "</table>\n",
       "</div>"
      ],
      "text/plain": [
       "           Price       Age        KM        HP        CC     Doors     Gears  \\\n",
       "Price   1.000000 -0.876273 -0.569420  0.314134  0.124375  0.183604  0.063831   \n",
       "Age    -0.876273  1.000000  0.504575 -0.155293 -0.096549 -0.146929 -0.005629   \n",
       "KM     -0.569420  0.504575  1.000000 -0.332904  0.103822 -0.035193  0.014890   \n",
       "HP      0.314134 -0.155293 -0.332904  1.000000  0.035207  0.091803  0.209642   \n",
       "CC      0.124375 -0.096549  0.103822  0.035207  1.000000  0.079254  0.014732   \n",
       "Doors   0.183604 -0.146929 -0.035193  0.091803  0.079254  1.000000 -0.160101   \n",
       "Gears   0.063831 -0.005629  0.014890  0.209642  0.014732 -0.160101  1.000000   \n",
       "QT      0.211508 -0.193319  0.283312 -0.302287  0.305982  0.107353 -0.005125   \n",
       "Weight  0.575869 -0.466484 -0.023969  0.087143  0.335077  0.301734  0.021238   \n",
       "\n",
       "              QT    Weight  \n",
       "Price   0.211508  0.575869  \n",
       "Age    -0.193319 -0.466484  \n",
       "KM      0.283312 -0.023969  \n",
       "HP     -0.302287  0.087143  \n",
       "CC      0.305982  0.335077  \n",
       "Doors   0.107353  0.301734  \n",
       "Gears  -0.005125  0.021238  \n",
       "QT      1.000000  0.621988  \n",
       "Weight  0.621988  1.000000  "
      ]
     },
     "execution_count": 111,
     "metadata": {},
     "output_type": "execute_result"
    }
   ],
   "source": [
    "toyota_corolla.corr()"
   ]
  },
  {
   "cell_type": "code",
   "execution_count": 112,
   "id": "f6f86c42",
   "metadata": {},
   "outputs": [
    {
     "data": {
      "text/html": [
       "<div>\n",
       "<style scoped>\n",
       "    .dataframe tbody tr th:only-of-type {\n",
       "        vertical-align: middle;\n",
       "    }\n",
       "\n",
       "    .dataframe tbody tr th {\n",
       "        vertical-align: top;\n",
       "    }\n",
       "\n",
       "    .dataframe thead th {\n",
       "        text-align: right;\n",
       "    }\n",
       "</style>\n",
       "<table border=\"1\" class=\"dataframe\">\n",
       "  <thead>\n",
       "    <tr style=\"text-align: right;\">\n",
       "      <th></th>\n",
       "      <th>Price</th>\n",
       "      <th>Age</th>\n",
       "      <th>KM</th>\n",
       "      <th>HP</th>\n",
       "      <th>CC</th>\n",
       "      <th>Doors</th>\n",
       "      <th>Gears</th>\n",
       "      <th>QT</th>\n",
       "      <th>Weight</th>\n",
       "    </tr>\n",
       "  </thead>\n",
       "  <tbody>\n",
       "    <tr>\n",
       "      <th>0</th>\n",
       "      <td>0.812024</td>\n",
       "      <td>-1.792982</td>\n",
       "      <td>-0.581019</td>\n",
       "      <td>-0.800676</td>\n",
       "      <td>2.351384</td>\n",
       "      <td>-1.081458</td>\n",
       "      <td>-0.150625</td>\n",
       "      <td>3.032691</td>\n",
       "      <td>2.013025</td>\n",
       "    </tr>\n",
       "    <tr>\n",
       "      <th>1</th>\n",
       "      <td>0.883978</td>\n",
       "      <td>-1.792982</td>\n",
       "      <td>0.118411</td>\n",
       "      <td>-0.800676</td>\n",
       "      <td>2.351384</td>\n",
       "      <td>-1.081458</td>\n",
       "      <td>-0.150625</td>\n",
       "      <td>3.032691</td>\n",
       "      <td>2.013025</td>\n",
       "    </tr>\n",
       "    <tr>\n",
       "      <th>2</th>\n",
       "      <td>0.941541</td>\n",
       "      <td>-1.738892</td>\n",
       "      <td>-0.723191</td>\n",
       "      <td>-0.800676</td>\n",
       "      <td>2.351384</td>\n",
       "      <td>-1.081458</td>\n",
       "      <td>-0.150625</td>\n",
       "      <td>3.032691</td>\n",
       "      <td>2.013025</td>\n",
       "    </tr>\n",
       "    <tr>\n",
       "      <th>3</th>\n",
       "      <td>1.229357</td>\n",
       "      <td>-1.630713</td>\n",
       "      <td>-0.553690</td>\n",
       "      <td>-0.800676</td>\n",
       "      <td>2.351384</td>\n",
       "      <td>-1.081458</td>\n",
       "      <td>-0.150625</td>\n",
       "      <td>3.032691</td>\n",
       "      <td>2.013025</td>\n",
       "    </tr>\n",
       "    <tr>\n",
       "      <th>4</th>\n",
       "      <td>0.883978</td>\n",
       "      <td>-1.414355</td>\n",
       "      <td>-0.809733</td>\n",
       "      <td>-0.800676</td>\n",
       "      <td>2.351384</td>\n",
       "      <td>-1.081458</td>\n",
       "      <td>-0.150625</td>\n",
       "      <td>3.032691</td>\n",
       "      <td>2.119377</td>\n",
       "    </tr>\n",
       "  </tbody>\n",
       "</table>\n",
       "</div>"
      ],
      "text/plain": [
       "      Price       Age        KM        HP        CC     Doors     Gears  \\\n",
       "0  0.812024 -1.792982 -0.581019 -0.800676  2.351384 -1.081458 -0.150625   \n",
       "1  0.883978 -1.792982  0.118411 -0.800676  2.351384 -1.081458 -0.150625   \n",
       "2  0.941541 -1.738892 -0.723191 -0.800676  2.351384 -1.081458 -0.150625   \n",
       "3  1.229357 -1.630713 -0.553690 -0.800676  2.351384 -1.081458 -0.150625   \n",
       "4  0.883978 -1.414355 -0.809733 -0.800676  2.351384 -1.081458 -0.150625   \n",
       "\n",
       "         QT    Weight  \n",
       "0  3.032691  2.013025  \n",
       "1  3.032691  2.013025  \n",
       "2  3.032691  2.013025  \n",
       "3  3.032691  2.013025  \n",
       "4  3.032691  2.119377  "
      ]
     },
     "execution_count": 112,
     "metadata": {},
     "output_type": "execute_result"
    }
   ],
   "source": [
    "standard_scaled.head()"
   ]
  },
  {
   "cell_type": "code",
   "execution_count": 113,
   "id": "7465a079",
   "metadata": {},
   "outputs": [],
   "source": [
    "array = standard_scaled.values\n",
    "x = array[:,1:]\n",
    "y = array[:,1]"
   ]
  },
  {
   "cell_type": "code",
   "execution_count": 114,
   "id": "f05733c5",
   "metadata": {},
   "outputs": [
    {
     "data": {
      "text/html": [
       "<style>#sk-container-id-1 {color: black;background-color: white;}#sk-container-id-1 pre{padding: 0;}#sk-container-id-1 div.sk-toggleable {background-color: white;}#sk-container-id-1 label.sk-toggleable__label {cursor: pointer;display: block;width: 100%;margin-bottom: 0;padding: 0.3em;box-sizing: border-box;text-align: center;}#sk-container-id-1 label.sk-toggleable__label-arrow:before {content: \"▸\";float: left;margin-right: 0.25em;color: #696969;}#sk-container-id-1 label.sk-toggleable__label-arrow:hover:before {color: black;}#sk-container-id-1 div.sk-estimator:hover label.sk-toggleable__label-arrow:before {color: black;}#sk-container-id-1 div.sk-toggleable__content {max-height: 0;max-width: 0;overflow: hidden;text-align: left;background-color: #f0f8ff;}#sk-container-id-1 div.sk-toggleable__content pre {margin: 0.2em;color: black;border-radius: 0.25em;background-color: #f0f8ff;}#sk-container-id-1 input.sk-toggleable__control:checked~div.sk-toggleable__content {max-height: 200px;max-width: 100%;overflow: auto;}#sk-container-id-1 input.sk-toggleable__control:checked~label.sk-toggleable__label-arrow:before {content: \"▾\";}#sk-container-id-1 div.sk-estimator input.sk-toggleable__control:checked~label.sk-toggleable__label {background-color: #d4ebff;}#sk-container-id-1 div.sk-label input.sk-toggleable__control:checked~label.sk-toggleable__label {background-color: #d4ebff;}#sk-container-id-1 input.sk-hidden--visually {border: 0;clip: rect(1px 1px 1px 1px);clip: rect(1px, 1px, 1px, 1px);height: 1px;margin: -1px;overflow: hidden;padding: 0;position: absolute;width: 1px;}#sk-container-id-1 div.sk-estimator {font-family: monospace;background-color: #f0f8ff;border: 1px dotted black;border-radius: 0.25em;box-sizing: border-box;margin-bottom: 0.5em;}#sk-container-id-1 div.sk-estimator:hover {background-color: #d4ebff;}#sk-container-id-1 div.sk-parallel-item::after {content: \"\";width: 100%;border-bottom: 1px solid gray;flex-grow: 1;}#sk-container-id-1 div.sk-label:hover label.sk-toggleable__label {background-color: #d4ebff;}#sk-container-id-1 div.sk-serial::before {content: \"\";position: absolute;border-left: 1px solid gray;box-sizing: border-box;top: 0;bottom: 0;left: 50%;z-index: 0;}#sk-container-id-1 div.sk-serial {display: flex;flex-direction: column;align-items: center;background-color: white;padding-right: 0.2em;padding-left: 0.2em;position: relative;}#sk-container-id-1 div.sk-item {position: relative;z-index: 1;}#sk-container-id-1 div.sk-parallel {display: flex;align-items: stretch;justify-content: center;background-color: white;position: relative;}#sk-container-id-1 div.sk-item::before, #sk-container-id-1 div.sk-parallel-item::before {content: \"\";position: absolute;border-left: 1px solid gray;box-sizing: border-box;top: 0;bottom: 0;left: 50%;z-index: -1;}#sk-container-id-1 div.sk-parallel-item {display: flex;flex-direction: column;z-index: 1;position: relative;background-color: white;}#sk-container-id-1 div.sk-parallel-item:first-child::after {align-self: flex-end;width: 50%;}#sk-container-id-1 div.sk-parallel-item:last-child::after {align-self: flex-start;width: 50%;}#sk-container-id-1 div.sk-parallel-item:only-child::after {width: 0;}#sk-container-id-1 div.sk-dashed-wrapped {border: 1px dashed gray;margin: 0 0.4em 0.5em 0.4em;box-sizing: border-box;padding-bottom: 0.4em;background-color: white;}#sk-container-id-1 div.sk-label label {font-family: monospace;font-weight: bold;display: inline-block;line-height: 1.2em;}#sk-container-id-1 div.sk-label-container {text-align: center;}#sk-container-id-1 div.sk-container {/* jupyter's `normalize.less` sets `[hidden] { display: none; }` but bootstrap.min.css set `[hidden] { display: none !important; }` so we also need the `!important` here to be able to override the default hidden behavior on the sphinx rendered scikit-learn.org. See: https://github.com/scikit-learn/scikit-learn/issues/21755 */display: inline-block !important;position: relative;}#sk-container-id-1 div.sk-text-repr-fallback {display: none;}</style><div id=\"sk-container-id-1\" class=\"sk-top-container\"><div class=\"sk-text-repr-fallback\"><pre>PCA()</pre><b>In a Jupyter environment, please rerun this cell to show the HTML representation or trust the notebook. <br />On GitHub, the HTML representation is unable to render, please try loading this page with nbviewer.org.</b></div><div class=\"sk-container\" hidden><div class=\"sk-item\"><div class=\"sk-estimator sk-toggleable\"><input class=\"sk-toggleable__control sk-hidden--visually\" id=\"sk-estimator-id-1\" type=\"checkbox\" checked><label for=\"sk-estimator-id-1\" class=\"sk-toggleable__label sk-toggleable__label-arrow\">PCA</label><div class=\"sk-toggleable__content\"><pre>PCA()</pre></div></div></div></div></div>"
      ],
      "text/plain": [
       "PCA()"
      ]
     },
     "execution_count": 114,
     "metadata": {},
     "output_type": "execute_result"
    }
   ],
   "source": [
    "pca_var = PCA()\n",
    "pca_var.fit(x)"
   ]
  },
  {
   "cell_type": "code",
   "execution_count": 115,
   "id": "d269d95e",
   "metadata": {},
   "outputs": [
    {
     "data": {
      "text/plain": [
       "array([0.32893705, 0.22985124, 0.14921043, 0.12263703, 0.08421297,\n",
       "       0.04056493, 0.02379417, 0.02079219])"
      ]
     },
     "execution_count": 115,
     "metadata": {},
     "output_type": "execute_result"
    }
   ],
   "source": [
    "var = pca_var.explained_variance_ratio_\n",
    "var "
   ]
  },
  {
   "cell_type": "code",
   "execution_count": 116,
   "id": "0ecdf478",
   "metadata": {},
   "outputs": [
    {
     "data": {
      "image/png": "[encoded data removed]",
      "text/plain": [
       "<Figure size 900x600 with 1 Axes>"
      ]
     },
     "metadata": {},
     "output_type": "display_data"
    }
   ],
   "source": [
    "plt.figure(figsize=(9,6))\n",
    "plt.bar(range(1, len(var)+1),var)\n",
    "plt.xlabel('Number of Components')\n",
    "plt.ylabel('variance (%)')\n",
    "plt.title('Explained variance by each component')\n",
    "plt.show()"
   ]
  },
  {
   "cell_type": "code",
   "execution_count": 117,
   "id": "35aa696b",
   "metadata": {},
   "outputs": [
    {
     "data": {
      "text/plain": [
       "array([ 32.89,  55.88,  70.8 ,  83.06,  91.48,  95.54,  97.92, 100.  ])"
      ]
     },
     "execution_count": 117,
     "metadata": {},
     "output_type": "execute_result"
    }
   ],
   "source": [
    "var1 = np.cumsum(np.round(var,decimals = 4)*100)\n",
    "var1"
   ]
  },
  {
   "cell_type": "code",
   "execution_count": 118,
   "id": "10e19323",
   "metadata": {},
   "outputs": [],
   "source": [
    "pca = PCA()\n",
    "pca_std = pca.fit_transform(x)"
   ]
  },
  {
   "cell_type": "code",
   "execution_count": 119,
   "id": "34bb7da8",
   "metadata": {},
   "outputs": [],
   "source": [
    "pca_std_df = pd.DataFrame(data = pca_std, columns = ['PC1', 'PC2','PC3','PC4', 'PC5','PC6','PC7','PC8'])"
   ]
  },
  {
   "cell_type": "code",
   "execution_count": 120,
   "id": "53798304",
   "metadata": {},
   "outputs": [
    {
     "name": "stdout",
     "output_type": "stream",
     "text": [
      "(1415, 8)\n"
     ]
    },
    {
     "data": {
      "text/html": [
       "<div>\n",
       "<style scoped>\n",
       "    .dataframe tbody tr th:only-of-type {\n",
       "        vertical-align: middle;\n",
       "    }\n",
       "\n",
       "    .dataframe tbody tr th {\n",
       "        vertical-align: top;\n",
       "    }\n",
       "\n",
       "    .dataframe thead th {\n",
       "        text-align: right;\n",
       "    }\n",
       "</style>\n",
       "<table border=\"1\" class=\"dataframe\">\n",
       "  <thead>\n",
       "    <tr style=\"text-align: right;\">\n",
       "      <th></th>\n",
       "      <th>PC1</th>\n",
       "      <th>PC2</th>\n",
       "      <th>PC3</th>\n",
       "      <th>PC4</th>\n",
       "      <th>PC5</th>\n",
       "      <th>PC6</th>\n",
       "      <th>PC7</th>\n",
       "      <th>PC8</th>\n",
       "    </tr>\n",
       "  </thead>\n",
       "  <tbody>\n",
       "    <tr>\n",
       "      <th>0</th>\n",
       "      <td>4.188870</td>\n",
       "      <td>0.241424</td>\n",
       "      <td>-0.340592</td>\n",
       "      <td>-2.298491</td>\n",
       "      <td>0.821049</td>\n",
       "      <td>-0.498966</td>\n",
       "      <td>0.073663</td>\n",
       "      <td>-0.481326</td>\n",
       "    </tr>\n",
       "    <tr>\n",
       "      <th>1</th>\n",
       "      <td>4.276369</td>\n",
       "      <td>-0.192878</td>\n",
       "      <td>-0.412960</td>\n",
       "      <td>-2.107000</td>\n",
       "      <td>0.809163</td>\n",
       "      <td>-0.009463</td>\n",
       "      <td>0.178998</td>\n",
       "      <td>-0.468204</td>\n",
       "    </tr>\n",
       "    <tr>\n",
       "      <th>2</th>\n",
       "      <td>4.157875</td>\n",
       "      <td>0.300939</td>\n",
       "      <td>-0.331409</td>\n",
       "      <td>-2.315291</td>\n",
       "      <td>0.829087</td>\n",
       "      <td>-0.632062</td>\n",
       "      <td>0.055468</td>\n",
       "      <td>-0.468727</td>\n",
       "    </tr>\n",
       "    <tr>\n",
       "      <th>3</th>\n",
       "      <td>4.152659</td>\n",
       "      <td>0.138160</td>\n",
       "      <td>-0.360001</td>\n",
       "      <td>-2.224636</td>\n",
       "      <td>0.837452</td>\n",
       "      <td>-0.580628</td>\n",
       "      <td>0.087427</td>\n",
       "      <td>-0.435015</td>\n",
       "    </tr>\n",
       "    <tr>\n",
       "      <th>4</th>\n",
       "      <td>4.127483</td>\n",
       "      <td>0.201474</td>\n",
       "      <td>-0.358977</td>\n",
       "      <td>-2.205313</td>\n",
       "      <td>0.865429</td>\n",
       "      <td>-0.893211</td>\n",
       "      <td>0.072980</td>\n",
       "      <td>-0.293721</td>\n",
       "    </tr>\n",
       "  </tbody>\n",
       "</table>\n",
       "</div>"
      ],
      "text/plain": [
       "        PC1       PC2       PC3       PC4       PC5       PC6       PC7  \\\n",
       "0  4.188870  0.241424 -0.340592 -2.298491  0.821049 -0.498966  0.073663   \n",
       "1  4.276369 -0.192878 -0.412960 -2.107000  0.809163 -0.009463  0.178998   \n",
       "2  4.157875  0.300939 -0.331409 -2.315291  0.829087 -0.632062  0.055468   \n",
       "3  4.152659  0.138160 -0.360001 -2.224636  0.837452 -0.580628  0.087427   \n",
       "4  4.127483  0.201474 -0.358977 -2.205313  0.865429 -0.893211  0.072980   \n",
       "\n",
       "        PC8  \n",
       "0 -0.481326  \n",
       "1 -0.468204  \n",
       "2 -0.468727  \n",
       "3 -0.435015  \n",
       "4 -0.293721  "
      ]
     },
     "execution_count": 120,
     "metadata": {},
     "output_type": "execute_result"
    }
   ],
   "source": [
    "print(pca_std_df.shape)\n",
    "pca_std_df.head()"
   ]
  },
  {
   "cell_type": "code",
   "execution_count": 121,
   "id": "cf26b0e8",
   "metadata": {},
   "outputs": [
    {
     "data": {
      "text/plain": [
       "0       13500\n",
       "1       13750\n",
       "2       13950\n",
       "3       14950\n",
       "4       13750\n",
       "        ...  \n",
       "1410     8450\n",
       "1411     7500\n",
       "1412    10845\n",
       "1413     8500\n",
       "1414     7250\n",
       "Name: Price, Length: 1415, dtype: int64"
      ]
     },
     "execution_count": 121,
     "metadata": {},
     "output_type": "execute_result"
    }
   ],
   "source": [
    "dataframe.Price"
   ]
  },
  {
   "cell_type": "code",
   "execution_count": 122,
   "id": "8c07ce2b",
   "metadata": {},
   "outputs": [
    {
     "data": {
      "text/html": [
       "<div>\n",
       "<style scoped>\n",
       "    .dataframe tbody tr th:only-of-type {\n",
       "        vertical-align: middle;\n",
       "    }\n",
       "\n",
       "    .dataframe tbody tr th {\n",
       "        vertical-align: top;\n",
       "    }\n",
       "\n",
       "    .dataframe thead th {\n",
       "        text-align: right;\n",
       "    }\n",
       "</style>\n",
       "<table border=\"1\" class=\"dataframe\">\n",
       "  <thead>\n",
       "    <tr style=\"text-align: right;\">\n",
       "      <th></th>\n",
       "      <th>PC1</th>\n",
       "      <th>PC2</th>\n",
       "      <th>PC3</th>\n",
       "      <th>PC4</th>\n",
       "      <th>PC5</th>\n",
       "      <th>PC6</th>\n",
       "      <th>PC7</th>\n",
       "      <th>PC8</th>\n",
       "      <th>Price</th>\n",
       "    </tr>\n",
       "  </thead>\n",
       "  <tbody>\n",
       "    <tr>\n",
       "      <th>0</th>\n",
       "      <td>4.188870</td>\n",
       "      <td>0.241424</td>\n",
       "      <td>-0.340592</td>\n",
       "      <td>-2.298491</td>\n",
       "      <td>0.821049</td>\n",
       "      <td>-0.498966</td>\n",
       "      <td>0.073663</td>\n",
       "      <td>-0.481326</td>\n",
       "      <td>-1.792982</td>\n",
       "    </tr>\n",
       "    <tr>\n",
       "      <th>1</th>\n",
       "      <td>4.276369</td>\n",
       "      <td>-0.192878</td>\n",
       "      <td>-0.412960</td>\n",
       "      <td>-2.107000</td>\n",
       "      <td>0.809163</td>\n",
       "      <td>-0.009463</td>\n",
       "      <td>0.178998</td>\n",
       "      <td>-0.468204</td>\n",
       "      <td>-1.792982</td>\n",
       "    </tr>\n",
       "    <tr>\n",
       "      <th>2</th>\n",
       "      <td>4.157875</td>\n",
       "      <td>0.300939</td>\n",
       "      <td>-0.331409</td>\n",
       "      <td>-2.315291</td>\n",
       "      <td>0.829087</td>\n",
       "      <td>-0.632062</td>\n",
       "      <td>0.055468</td>\n",
       "      <td>-0.468727</td>\n",
       "      <td>-1.738892</td>\n",
       "    </tr>\n",
       "    <tr>\n",
       "      <th>3</th>\n",
       "      <td>4.152659</td>\n",
       "      <td>0.138160</td>\n",
       "      <td>-0.360001</td>\n",
       "      <td>-2.224636</td>\n",
       "      <td>0.837452</td>\n",
       "      <td>-0.580628</td>\n",
       "      <td>0.087427</td>\n",
       "      <td>-0.435015</td>\n",
       "      <td>-1.630713</td>\n",
       "    </tr>\n",
       "    <tr>\n",
       "      <th>4</th>\n",
       "      <td>4.127483</td>\n",
       "      <td>0.201474</td>\n",
       "      <td>-0.358977</td>\n",
       "      <td>-2.205313</td>\n",
       "      <td>0.865429</td>\n",
       "      <td>-0.893211</td>\n",
       "      <td>0.072980</td>\n",
       "      <td>-0.293721</td>\n",
       "      <td>-1.414355</td>\n",
       "    </tr>\n",
       "  </tbody>\n",
       "</table>\n",
       "</div>"
      ],
      "text/plain": [
       "        PC1       PC2       PC3       PC4       PC5       PC6       PC7  \\\n",
       "0  4.188870  0.241424 -0.340592 -2.298491  0.821049 -0.498966  0.073663   \n",
       "1  4.276369 -0.192878 -0.412960 -2.107000  0.809163 -0.009463  0.178998   \n",
       "2  4.157875  0.300939 -0.331409 -2.315291  0.829087 -0.632062  0.055468   \n",
       "3  4.152659  0.138160 -0.360001 -2.224636  0.837452 -0.580628  0.087427   \n",
       "4  4.127483  0.201474 -0.358977 -2.205313  0.865429 -0.893211  0.072980   \n",
       "\n",
       "        PC8     Price  \n",
       "0 -0.481326 -1.792982  \n",
       "1 -0.468204 -1.792982  \n",
       "2 -0.468727 -1.738892  \n",
       "3 -0.435015 -1.630713  \n",
       "4 -0.293721 -1.414355  "
      ]
     },
     "execution_count": 122,
     "metadata": {},
     "output_type": "execute_result"
    }
   ],
   "source": [
    "pca_std_df['Price'] = y\n",
    "pca_std_df.head()"
   ]
  },
  {
   "cell_type": "code",
   "execution_count": 132,
   "id": "76e3ff3e",
   "metadata": {},
   "outputs": [
    {
     "name": "stdout",
     "output_type": "stream",
     "text": [
      "R-squared     : 1.0\n",
      "Adj.R-squared : 1.0\n",
      "AIC Value     : -94502.064\n",
      "BIC Value     : -94454.77\n"
     ]
    }
   ],
   "source": [
    "pca_model = sm.ols('Price ~ PC1+PC2+PC3+PC4+PC5+PC6+PC7+PC8', data= pca_std_df).fit()\n",
    "print('R-squared     :',pca_model.rsquared.round(3))\n",
    "print('Adj.R-squared :',pca_model.rsquared_adj.round(3))\n",
    "print('AIC Value     :',pca_model.aic.round(3))\n",
    "print('BIC Value     :',pca_model.bic.round(3))"
   ]
  },
  {
   "cell_type": "code",
   "execution_count": 134,
   "id": "81ef49cf",
   "metadata": {},
   "outputs": [],
   "source": [
    "transformer_y = StandardScaler().fit(dataframe['Price'].to_numpy().reshape(-1,1))"
   ]
  },
  {
   "cell_type": "code",
   "execution_count": 136,
   "id": "f50274a3",
   "metadata": {},
   "outputs": [],
   "source": [
    "y_train_scal = transformer_y.transform(dataframe['Price'].to_numpy().reshape(-1,1))"
   ]
  },
  {
   "cell_type": "code",
   "execution_count": 137,
   "id": "b9e4704e",
   "metadata": {},
   "outputs": [],
   "source": [
    "predict = pd.DataFrame(pca_model.predict(pca_std_df))"
   ]
  },
  {
   "cell_type": "code",
   "execution_count": 139,
   "id": "ea67570b",
   "metadata": {},
   "outputs": [],
   "source": [
    "predict_unscaled = transformer_y.inverse_transform(predict.values.reshape(-1,1))"
   ]
  },
  {
   "cell_type": "code",
   "execution_count": 140,
   "id": "3ed5f0ba",
   "metadata": {},
   "outputs": [
    {
     "name": "stdout",
     "output_type": "stream",
     "text": [
      "R2_score          :  1.0\n",
      "R2_Adjusted_score :  1.0\n",
      "RMSE              :  6753.585802694991\n"
     ]
    }
   ],
   "source": [
    "rmse_linear = (np.sqrt(mean_squared_error(dataframe.Price, predict_unscaled)))\n",
    "print(\"R2_score          : \", pca_model.rsquared)\n",
    "print(\"R2_Adjusted_score : \", pca_model.rsquared_adj)\n",
    "print(\"RMSE              : \", rmse_linear)"
   ]
  },
  {
   "cell_type": "code",
   "execution_count": 141,
   "id": "71a4576e",
   "metadata": {},
   "outputs": [
    {
     "data": {
      "text/html": [
       "<div>\n",
       "<style scoped>\n",
       "    .dataframe tbody tr th:only-of-type {\n",
       "        vertical-align: middle;\n",
       "    }\n",
       "\n",
       "    .dataframe tbody tr th {\n",
       "        vertical-align: top;\n",
       "    }\n",
       "\n",
       "    .dataframe thead th {\n",
       "        text-align: right;\n",
       "    }\n",
       "</style>\n",
       "<table border=\"1\" class=\"dataframe\">\n",
       "  <thead>\n",
       "    <tr style=\"text-align: right;\">\n",
       "      <th></th>\n",
       "      <th>PC1</th>\n",
       "      <th>PC2</th>\n",
       "      <th>PC3</th>\n",
       "      <th>PC4</th>\n",
       "      <th>PC5</th>\n",
       "      <th>PC6</th>\n",
       "      <th>PC7</th>\n",
       "      <th>PC8</th>\n",
       "      <th>Price</th>\n",
       "    </tr>\n",
       "  </thead>\n",
       "  <tbody>\n",
       "    <tr>\n",
       "      <th>0</th>\n",
       "      <td>4.188870</td>\n",
       "      <td>0.241424</td>\n",
       "      <td>-0.340592</td>\n",
       "      <td>-2.298491</td>\n",
       "      <td>0.821049</td>\n",
       "      <td>-0.498966</td>\n",
       "      <td>0.073663</td>\n",
       "      <td>-0.481326</td>\n",
       "      <td>13500</td>\n",
       "    </tr>\n",
       "    <tr>\n",
       "      <th>1</th>\n",
       "      <td>4.276369</td>\n",
       "      <td>-0.192878</td>\n",
       "      <td>-0.412960</td>\n",
       "      <td>-2.107000</td>\n",
       "      <td>0.809163</td>\n",
       "      <td>-0.009463</td>\n",
       "      <td>0.178998</td>\n",
       "      <td>-0.468204</td>\n",
       "      <td>13750</td>\n",
       "    </tr>\n",
       "    <tr>\n",
       "      <th>2</th>\n",
       "      <td>4.157875</td>\n",
       "      <td>0.300939</td>\n",
       "      <td>-0.331409</td>\n",
       "      <td>-2.315291</td>\n",
       "      <td>0.829087</td>\n",
       "      <td>-0.632062</td>\n",
       "      <td>0.055468</td>\n",
       "      <td>-0.468727</td>\n",
       "      <td>13950</td>\n",
       "    </tr>\n",
       "    <tr>\n",
       "      <th>3</th>\n",
       "      <td>4.152659</td>\n",
       "      <td>0.138160</td>\n",
       "      <td>-0.360001</td>\n",
       "      <td>-2.224636</td>\n",
       "      <td>0.837452</td>\n",
       "      <td>-0.580628</td>\n",
       "      <td>0.087427</td>\n",
       "      <td>-0.435015</td>\n",
       "      <td>14950</td>\n",
       "    </tr>\n",
       "    <tr>\n",
       "      <th>4</th>\n",
       "      <td>4.127483</td>\n",
       "      <td>0.201474</td>\n",
       "      <td>-0.358977</td>\n",
       "      <td>-2.205313</td>\n",
       "      <td>0.865429</td>\n",
       "      <td>-0.893211</td>\n",
       "      <td>0.072980</td>\n",
       "      <td>-0.293721</td>\n",
       "      <td>13750</td>\n",
       "    </tr>\n",
       "  </tbody>\n",
       "</table>\n",
       "</div>"
      ],
      "text/plain": [
       "        PC1       PC2       PC3       PC4       PC5       PC6       PC7  \\\n",
       "0  4.188870  0.241424 -0.340592 -2.298491  0.821049 -0.498966  0.073663   \n",
       "1  4.276369 -0.192878 -0.412960 -2.107000  0.809163 -0.009463  0.178998   \n",
       "2  4.157875  0.300939 -0.331409 -2.315291  0.829087 -0.632062  0.055468   \n",
       "3  4.152659  0.138160 -0.360001 -2.224636  0.837452 -0.580628  0.087427   \n",
       "4  4.127483  0.201474 -0.358977 -2.205313  0.865429 -0.893211  0.072980   \n",
       "\n",
       "        PC8  Price  \n",
       "0 -0.481326  13500  \n",
       "1 -0.468204  13750  \n",
       "2 -0.468727  13950  \n",
       "3 -0.435015  14950  \n",
       "4 -0.293721  13750  "
      ]
     },
     "execution_count": 141,
     "metadata": {},
     "output_type": "execute_result"
    }
   ],
   "source": [
    "pca_std_df['Price'] = dataframe['Price']\n",
    "pca_std_df.head()"
   ]
  },
  {
   "cell_type": "code",
   "execution_count": 145,
   "id": "d611604e",
   "metadata": {},
   "outputs": [],
   "source": [
    "x_train, x_test, y_train, y_test = train_test_split(pca_std_df.iloc[:,:-1], pca_std_df.iloc[:,-1],test_size=0.3,random_state=10)"
   ]
  },
  {
   "cell_type": "code",
   "execution_count": 146,
   "id": "110f753f",
   "metadata": {},
   "outputs": [
    {
     "name": "stdout",
     "output_type": "stream",
     "text": [
      "Shape of X_train :  (990, 8)\n",
      "Shape of X_test  :  (425, 8)\n",
      "Shape of y_train :  (990,)\n",
      "Shape of y_test  :  (425,)\n"
     ]
    }
   ],
   "source": [
    "print(\"Shape of X_train : \",x_train.shape)\n",
    "print(\"Shape of X_test  : \", x_test.shape)\n",
    "print(\"Shape of y_train : \",y_train.shape)\n",
    "print(\"Shape of y_test  : \",y_test.shape)"
   ]
  },
  {
   "cell_type": "code",
   "execution_count": 148,
   "id": "7a8df752",
   "metadata": {},
   "outputs": [],
   "source": [
    "transformer_x = StandardScaler().fit(x_train.to_numpy().reshape(-1,1))\n",
    "transformer_y = StandardScaler().fit(y_train.to_numpy().reshape(-1,1)) "
   ]
  },
  {
   "cell_type": "code",
   "execution_count": 149,
   "id": "b206f053",
   "metadata": {},
   "outputs": [],
   "source": [
    "x_train_scal = transformer_x.transform(y_train.to_numpy().reshape(-1,1))\n",
    "x_test_scal = transformer_x.transform(y_test.to_numpy().reshape(-1,1))"
   ]
  },
  {
   "cell_type": "code",
   "execution_count": 150,
   "id": "a1a13c2c",
   "metadata": {},
   "outputs": [],
   "source": [
    "y_train_scal = transformer_y.transform(y_train.to_numpy().reshape(-1,1))\n",
    "y_test_scal = transformer_y.transform(y_test.to_numpy().reshape(-1,1))"
   ]
  },
  {
   "cell_type": "code",
   "execution_count": 151,
   "id": "6f1cc634",
   "metadata": {},
   "outputs": [],
   "source": [
    "lin_model=LinearRegression()"
   ]
  },
  {
   "cell_type": "code",
   "execution_count": 152,
   "id": "beea508a",
   "metadata": {},
   "outputs": [
    {
     "data": {
      "text/html": [
       "<style>#sk-container-id-2 {color: black;background-color: white;}#sk-container-id-2 pre{padding: 0;}#sk-container-id-2 div.sk-toggleable {background-color: white;}#sk-container-id-2 label.sk-toggleable__label {cursor: pointer;display: block;width: 100%;margin-bottom: 0;padding: 0.3em;box-sizing: border-box;text-align: center;}#sk-container-id-2 label.sk-toggleable__label-arrow:before {content: \"▸\";float: left;margin-right: 0.25em;color: #696969;}#sk-container-id-2 label.sk-toggleable__label-arrow:hover:before {color: black;}#sk-container-id-2 div.sk-estimator:hover label.sk-toggleable__label-arrow:before {color: black;}#sk-container-id-2 div.sk-toggleable__content {max-height: 0;max-width: 0;overflow: hidden;text-align: left;background-color: #f0f8ff;}#sk-container-id-2 div.sk-toggleable__content pre {margin: 0.2em;color: black;border-radius: 0.25em;background-color: #f0f8ff;}#sk-container-id-2 input.sk-toggleable__control:checked~div.sk-toggleable__content {max-height: 200px;max-width: 100%;overflow: auto;}#sk-container-id-2 input.sk-toggleable__control:checked~label.sk-toggleable__label-arrow:before {content: \"▾\";}#sk-container-id-2 div.sk-estimator input.sk-toggleable__control:checked~label.sk-toggleable__label {background-color: #d4ebff;}#sk-container-id-2 div.sk-label input.sk-toggleable__control:checked~label.sk-toggleable__label {background-color: #d4ebff;}#sk-container-id-2 input.sk-hidden--visually {border: 0;clip: rect(1px 1px 1px 1px);clip: rect(1px, 1px, 1px, 1px);height: 1px;margin: -1px;overflow: hidden;padding: 0;position: absolute;width: 1px;}#sk-container-id-2 div.sk-estimator {font-family: monospace;background-color: #f0f8ff;border: 1px dotted black;border-radius: 0.25em;box-sizing: border-box;margin-bottom: 0.5em;}#sk-container-id-2 div.sk-estimator:hover {background-color: #d4ebff;}#sk-container-id-2 div.sk-parallel-item::after {content: \"\";width: 100%;border-bottom: 1px solid gray;flex-grow: 1;}#sk-container-id-2 div.sk-label:hover label.sk-toggleable__label {background-color: #d4ebff;}#sk-container-id-2 div.sk-serial::before {content: \"\";position: absolute;border-left: 1px solid gray;box-sizing: border-box;top: 0;bottom: 0;left: 50%;z-index: 0;}#sk-container-id-2 div.sk-serial {display: flex;flex-direction: column;align-items: center;background-color: white;padding-right: 0.2em;padding-left: 0.2em;position: relative;}#sk-container-id-2 div.sk-item {position: relative;z-index: 1;}#sk-container-id-2 div.sk-parallel {display: flex;align-items: stretch;justify-content: center;background-color: white;position: relative;}#sk-container-id-2 div.sk-item::before, #sk-container-id-2 div.sk-parallel-item::before {content: \"\";position: absolute;border-left: 1px solid gray;box-sizing: border-box;top: 0;bottom: 0;left: 50%;z-index: -1;}#sk-container-id-2 div.sk-parallel-item {display: flex;flex-direction: column;z-index: 1;position: relative;background-color: white;}#sk-container-id-2 div.sk-parallel-item:first-child::after {align-self: flex-end;width: 50%;}#sk-container-id-2 div.sk-parallel-item:last-child::after {align-self: flex-start;width: 50%;}#sk-container-id-2 div.sk-parallel-item:only-child::after {width: 0;}#sk-container-id-2 div.sk-dashed-wrapped {border: 1px dashed gray;margin: 0 0.4em 0.5em 0.4em;box-sizing: border-box;padding-bottom: 0.4em;background-color: white;}#sk-container-id-2 div.sk-label label {font-family: monospace;font-weight: bold;display: inline-block;line-height: 1.2em;}#sk-container-id-2 div.sk-label-container {text-align: center;}#sk-container-id-2 div.sk-container {/* jupyter's `normalize.less` sets `[hidden] { display: none; }` but bootstrap.min.css set `[hidden] { display: none !important; }` so we also need the `!important` here to be able to override the default hidden behavior on the sphinx rendered scikit-learn.org. See: https://github.com/scikit-learn/scikit-learn/issues/21755 */display: inline-block !important;position: relative;}#sk-container-id-2 div.sk-text-repr-fallback {display: none;}</style><div id=\"sk-container-id-2\" class=\"sk-top-container\"><div class=\"sk-text-repr-fallback\"><pre>LinearRegression()</pre><b>In a Jupyter environment, please rerun this cell to show the HTML representation or trust the notebook. <br />On GitHub, the HTML representation is unable to render, please try loading this page with nbviewer.org.</b></div><div class=\"sk-container\" hidden><div class=\"sk-item\"><div class=\"sk-estimator sk-toggleable\"><input class=\"sk-toggleable__control sk-hidden--visually\" id=\"sk-estimator-id-2\" type=\"checkbox\" checked><label for=\"sk-estimator-id-2\" class=\"sk-toggleable__label sk-toggleable__label-arrow\">LinearRegression</label><div class=\"sk-toggleable__content\"><pre>LinearRegression()</pre></div></div></div></div></div>"
      ],
      "text/plain": [
       "LinearRegression()"
      ]
     },
     "execution_count": 152,
     "metadata": {},
     "output_type": "execute_result"
    }
   ],
   "source": [
    "lin_model.fit(x_train, y_train_scal)"
   ]
  },
  {
   "cell_type": "code",
   "execution_count": 153,
   "id": "3cb0ddb2",
   "metadata": {},
   "outputs": [],
   "source": [
    "lin_reg_model = LinearRegression().fit(x_train, y_train)"
   ]
  },
  {
   "cell_type": "code",
   "execution_count": 154,
   "id": "9356a5f1",
   "metadata": {},
   "outputs": [
    {
     "name": "stdout",
     "output_type": "stream",
     "text": [
      "0.896175046994616 0.8942796210716417\n"
     ]
    }
   ],
   "source": [
    "print(lin_reg_model.score(x_train, y_train),lin_reg_model.score(x_test, y_test))"
   ]
  },
  {
   "cell_type": "code",
   "execution_count": 156,
   "id": "67f9af14",
   "metadata": {},
   "outputs": [],
   "source": [
    "prediction = lin_model.predict(x_test)"
   ]
  },
  {
   "cell_type": "code",
   "execution_count": 158,
   "id": "c756207b",
   "metadata": {},
   "outputs": [],
   "source": [
    "prediction_unscaled = transformer_y.inverse_transform(prediction)"
   ]
  },
  {
   "cell_type": "code",
   "execution_count": 160,
   "id": "c8870c90",
   "metadata": {},
   "outputs": [],
   "source": [
    "cv_linear = cross_val_score(estimator = lin_model, X = x_train, y = y_train_scal, cv = 10)"
   ]
  },
  {
   "cell_type": "code",
   "execution_count": 163,
   "id": "4fb29fe0",
   "metadata": {},
   "outputs": [],
   "source": [
    "y_pred_linear_train = lin_model.predict(x_train)\n",
    "r2_score_all_feature_train = r2_score(y_train_scal, y_pred_linear_train)"
   ]
  },
  {
   "cell_type": "code",
   "execution_count": 164,
   "id": "e31933b3",
   "metadata": {},
   "outputs": [],
   "source": [
    "y_pred_linear_test = lin_model.predict(x_test)\n",
    "r2_score_all_feature_test = r2_score(y_test_scal, y_pred_linear_test)"
   ]
  },
  {
   "cell_type": "code",
   "execution_count": 165,
   "id": "17ce2516",
   "metadata": {},
   "outputs": [
    {
     "name": "stdout",
     "output_type": "stream",
     "text": [
      "CV                      :  0.8893038364607513\n",
      "R2_score (train)        :  0.8961750469946159\n",
      "R2_score (test)         :  0.8942796210716418\n",
      "RMSE using all features :  1140.1824617548932\n"
     ]
    }
   ],
   "source": [
    "rmse_linear_using_all_features = (np.sqrt(mean_squared_error(y_test, prediction_unscaled)))\n",
    "print(\"CV                      : \", cv_linear.mean())\n",
    "print(\"R2_score (train)        : \", r2_score_all_feature_train)\n",
    "print(\"R2_score (test)         : \", r2_score_all_feature_test)\n",
    "print(\"RMSE using all features : \", rmse_linear_using_all_features)"
   ]
  },
  {
   "cell_type": "code",
   "execution_count": 166,
   "id": "ac96103b",
   "metadata": {},
   "outputs": [],
   "source": [
    "x2 = dataframe[['Age','KM','HP','CC','Doors','QT','Weight']]\n",
    "y2 = dataframe[['Price']]"
   ]
  },
  {
   "cell_type": "code",
   "execution_count": 167,
   "id": "160dc4a5",
   "metadata": {},
   "outputs": [],
   "source": [
    "transformer_x = StandardScaler().fit(x2)\n",
    "transformer_y = StandardScaler().fit(y2)"
   ]
  },
  {
   "cell_type": "code",
   "execution_count": 168,
   "id": "7d79d612",
   "metadata": {},
   "outputs": [],
   "source": [
    "x_train_scal = transformer_x.transform(x2)\n",
    "y_train_scal = transformer_y.transform(y2)"
   ]
  },
  {
   "cell_type": "code",
   "execution_count": 169,
   "id": "e027cee8",
   "metadata": {},
   "outputs": [
    {
     "data": {
      "text/html": [
       "<div>\n",
       "<style scoped>\n",
       "    .dataframe tbody tr th:only-of-type {\n",
       "        vertical-align: middle;\n",
       "    }\n",
       "\n",
       "    .dataframe tbody tr th {\n",
       "        vertical-align: top;\n",
       "    }\n",
       "\n",
       "    .dataframe thead th {\n",
       "        text-align: right;\n",
       "    }\n",
       "</style>\n",
       "<table border=\"1\" class=\"dataframe\">\n",
       "  <thead>\n",
       "    <tr style=\"text-align: right;\">\n",
       "      <th></th>\n",
       "      <th>Age</th>\n",
       "      <th>KM</th>\n",
       "      <th>HP</th>\n",
       "      <th>CC</th>\n",
       "      <th>Doors</th>\n",
       "      <th>QT</th>\n",
       "      <th>Weight</th>\n",
       "    </tr>\n",
       "  </thead>\n",
       "  <tbody>\n",
       "    <tr>\n",
       "      <th>0</th>\n",
       "      <td>-1.792982</td>\n",
       "      <td>-0.581019</td>\n",
       "      <td>-0.800676</td>\n",
       "      <td>2.351384</td>\n",
       "      <td>-1.081458</td>\n",
       "      <td>3.032691</td>\n",
       "      <td>2.013025</td>\n",
       "    </tr>\n",
       "    <tr>\n",
       "      <th>1</th>\n",
       "      <td>-1.792982</td>\n",
       "      <td>0.118411</td>\n",
       "      <td>-0.800676</td>\n",
       "      <td>2.351384</td>\n",
       "      <td>-1.081458</td>\n",
       "      <td>3.032691</td>\n",
       "      <td>2.013025</td>\n",
       "    </tr>\n",
       "    <tr>\n",
       "      <th>2</th>\n",
       "      <td>-1.738892</td>\n",
       "      <td>-0.723191</td>\n",
       "      <td>-0.800676</td>\n",
       "      <td>2.351384</td>\n",
       "      <td>-1.081458</td>\n",
       "      <td>3.032691</td>\n",
       "      <td>2.013025</td>\n",
       "    </tr>\n",
       "    <tr>\n",
       "      <th>3</th>\n",
       "      <td>-1.630713</td>\n",
       "      <td>-0.553690</td>\n",
       "      <td>-0.800676</td>\n",
       "      <td>2.351384</td>\n",
       "      <td>-1.081458</td>\n",
       "      <td>3.032691</td>\n",
       "      <td>2.013025</td>\n",
       "    </tr>\n",
       "    <tr>\n",
       "      <th>4</th>\n",
       "      <td>-1.414355</td>\n",
       "      <td>-0.809733</td>\n",
       "      <td>-0.800676</td>\n",
       "      <td>2.351384</td>\n",
       "      <td>-1.081458</td>\n",
       "      <td>3.032691</td>\n",
       "      <td>2.119377</td>\n",
       "    </tr>\n",
       "  </tbody>\n",
       "</table>\n",
       "</div>"
      ],
      "text/plain": [
       "        Age        KM        HP        CC     Doors        QT    Weight\n",
       "0 -1.792982 -0.581019 -0.800676  2.351384 -1.081458  3.032691  2.013025\n",
       "1 -1.792982  0.118411 -0.800676  2.351384 -1.081458  3.032691  2.013025\n",
       "2 -1.738892 -0.723191 -0.800676  2.351384 -1.081458  3.032691  2.013025\n",
       "3 -1.630713 -0.553690 -0.800676  2.351384 -1.081458  3.032691  2.013025\n",
       "4 -1.414355 -0.809733 -0.800676  2.351384 -1.081458  3.032691  2.119377"
      ]
     },
     "execution_count": 169,
     "metadata": {},
     "output_type": "execute_result"
    }
   ],
   "source": [
    "x_df = pd.DataFrame(x_train_scal, columns = ['Age','KM','HP','CC','Doors','QT','Weight'])\n",
    "x_df.head()"
   ]
  },
  {
   "cell_type": "code",
   "execution_count": 171,
   "id": "d3afffcd",
   "metadata": {},
   "outputs": [],
   "source": [
    "predict = pd.DataFrame(model_1.predict(x_df))"
   ]
  },
  {
   "cell_type": "code",
   "execution_count": 174,
   "id": "1a39a285",
   "metadata": {},
   "outputs": [],
   "source": [
    "predict_unscaled = transformer_y.inverse_transform(predict.values.reshape(-1,1))"
   ]
  },
  {
   "cell_type": "code",
   "execution_count": 175,
   "id": "a672fe7d",
   "metadata": {},
   "outputs": [
    {
     "name": "stdout",
     "output_type": "stream",
     "text": [
      "R2_score          :  0.8958521733950553\n",
      "R2_Adjusted_score :  0.895334025003986\n",
      "RMSE              :  1121.2688196518893\n"
     ]
    }
   ],
   "source": [
    "rmse_linear= (np.sqrt(mean_squared_error(y2, predict_unscaled)))\n",
    "print('R2_score          : ', model_1.rsquared)\n",
    "print('R2_Adjusted_score : ', model_1.rsquared_adj)\n",
    "print(\"RMSE              : \", rmse_linear)"
   ]
  },
  {
   "cell_type": "code",
   "execution_count": 176,
   "id": "7d354e73",
   "metadata": {},
   "outputs": [
    {
     "data": {
      "text/plain": [
       "Index(['Price', 'Age', 'KM', 'HP', 'CC', 'Doors', 'QT', 'Weight'], dtype='object')"
      ]
     },
     "execution_count": 176,
     "metadata": {},
     "output_type": "execute_result"
    }
   ],
   "source": [
    "x1.columns"
   ]
  },
  {
   "cell_type": "code",
   "execution_count": 177,
   "id": "7715d371",
   "metadata": {},
   "outputs": [],
   "source": [
    "final_model = smf.ols(\"Price ~ Age+KM+HP+CC+Doors+QT+Weight\", data = x1).fit()"
   ]
  },
  {
   "cell_type": "code",
   "execution_count": 178,
   "id": "c0c2e7c1",
   "metadata": {},
   "outputs": [
    {
     "name": "stdout",
     "output_type": "stream",
     "text": [
      "R-squared     : 0.896\n",
      "Adj.R-squared : 0.895\n",
      "AIC Value     : 830.945\n",
      "BIC Value     : 872.984\n"
     ]
    }
   ],
   "source": [
    "print('R-squared     :',final_model.rsquared.round(3))\n",
    "print('Adj.R-squared :',final_model.rsquared_adj.round(3))\n",
    "print('AIC Value     :',final_model.aic.round(3))\n",
    "print('BIC Value     :',final_model.bic.round(3))"
   ]
  },
  {
   "cell_type": "code",
   "execution_count": 179,
   "id": "2814d589",
   "metadata": {},
   "outputs": [
    {
     "data": {
      "image/png": "[encoded data removed]",
      "text/plain": [
       "<Figure size 640x480 with 1 Axes>"
      ]
     },
     "metadata": {},
     "output_type": "display_data"
    }
   ],
   "source": [
    "import statsmodels.api as sm\n",
    "sm.qqplot(final_model.resid, line = 'q')\n",
    "plt.title('Normal Q-Q plot of residuals')\n",
    "plt.show()"
   ]
  },
  {
   "cell_type": "code",
   "execution_count": 180,
   "id": "edc9ae83",
   "metadata": {},
   "outputs": [],
   "source": [
    "def get_standardized_values( vals ):\n",
    "    return (vals - vals.mean())/vals.std()"
   ]
  },
  {
   "cell_type": "code",
   "execution_count": 181,
   "id": "abe3f8ff",
   "metadata": {},
   "outputs": [
    {
     "data": {
      "image/png": "[encoded data removed]",
      "text/plain": [
       "<Figure size 640x480 with 1 Axes>"
      ]
     },
     "metadata": {},
     "output_type": "display_data"
    }
   ],
   "source": [
    "plt.scatter(get_standardized_values(final_model.fittedvalues), get_standardized_values(final_model.resid))\n",
    "plt.title('Residual Plot')\n",
    "plt.xlabel('Standardized Fitted Values')\n",
    "plt.ylabel('Standardized Residual Values')\n",
    "plt.show()"
   ]
  },
  {
   "cell_type": "code",
   "execution_count": 182,
   "id": "1c19cbd5",
   "metadata": {},
   "outputs": [],
   "source": [
    "x = dataframe[['Age','KM','HP','CC','Doors','QT','Weight']]\n",
    "y = dataframe[['Price']]"
   ]
  },
  {
   "cell_type": "code",
   "execution_count": 183,
   "id": "a10498f6",
   "metadata": {},
   "outputs": [],
   "source": [
    "transformer_x = StandardScaler().fit(x)\n",
    "transformer_y = StandardScaler().fit(y)"
   ]
  },
  {
   "cell_type": "code",
   "execution_count": 184,
   "id": "30879dce",
   "metadata": {},
   "outputs": [],
   "source": [
    "x_train_scal = transformer_x.transform(x)\n",
    "y_train_scal = transformer_y.transform(y)"
   ]
  },
  {
   "cell_type": "code",
   "execution_count": 185,
   "id": "8d6ce131",
   "metadata": {},
   "outputs": [
    {
     "data": {
      "text/html": [
       "<div>\n",
       "<style scoped>\n",
       "    .dataframe tbody tr th:only-of-type {\n",
       "        vertical-align: middle;\n",
       "    }\n",
       "\n",
       "    .dataframe tbody tr th {\n",
       "        vertical-align: top;\n",
       "    }\n",
       "\n",
       "    .dataframe thead th {\n",
       "        text-align: right;\n",
       "    }\n",
       "</style>\n",
       "<table border=\"1\" class=\"dataframe\">\n",
       "  <thead>\n",
       "    <tr style=\"text-align: right;\">\n",
       "      <th></th>\n",
       "      <th>Age</th>\n",
       "      <th>KM</th>\n",
       "      <th>HP</th>\n",
       "      <th>CC</th>\n",
       "      <th>Doors</th>\n",
       "      <th>QT</th>\n",
       "      <th>Weight</th>\n",
       "    </tr>\n",
       "  </thead>\n",
       "  <tbody>\n",
       "    <tr>\n",
       "      <th>0</th>\n",
       "      <td>-1.792982</td>\n",
       "      <td>-0.581019</td>\n",
       "      <td>-0.800676</td>\n",
       "      <td>2.351384</td>\n",
       "      <td>-1.081458</td>\n",
       "      <td>3.032691</td>\n",
       "      <td>2.013025</td>\n",
       "    </tr>\n",
       "    <tr>\n",
       "      <th>1</th>\n",
       "      <td>-1.792982</td>\n",
       "      <td>0.118411</td>\n",
       "      <td>-0.800676</td>\n",
       "      <td>2.351384</td>\n",
       "      <td>-1.081458</td>\n",
       "      <td>3.032691</td>\n",
       "      <td>2.013025</td>\n",
       "    </tr>\n",
       "    <tr>\n",
       "      <th>2</th>\n",
       "      <td>-1.738892</td>\n",
       "      <td>-0.723191</td>\n",
       "      <td>-0.800676</td>\n",
       "      <td>2.351384</td>\n",
       "      <td>-1.081458</td>\n",
       "      <td>3.032691</td>\n",
       "      <td>2.013025</td>\n",
       "    </tr>\n",
       "    <tr>\n",
       "      <th>3</th>\n",
       "      <td>-1.630713</td>\n",
       "      <td>-0.553690</td>\n",
       "      <td>-0.800676</td>\n",
       "      <td>2.351384</td>\n",
       "      <td>-1.081458</td>\n",
       "      <td>3.032691</td>\n",
       "      <td>2.013025</td>\n",
       "    </tr>\n",
       "    <tr>\n",
       "      <th>4</th>\n",
       "      <td>-1.414355</td>\n",
       "      <td>-0.809733</td>\n",
       "      <td>-0.800676</td>\n",
       "      <td>2.351384</td>\n",
       "      <td>-1.081458</td>\n",
       "      <td>3.032691</td>\n",
       "      <td>2.119377</td>\n",
       "    </tr>\n",
       "  </tbody>\n",
       "</table>\n",
       "</div>"
      ],
      "text/plain": [
       "        Age        KM        HP        CC     Doors        QT    Weight\n",
       "0 -1.792982 -0.581019 -0.800676  2.351384 -1.081458  3.032691  2.013025\n",
       "1 -1.792982  0.118411 -0.800676  2.351384 -1.081458  3.032691  2.013025\n",
       "2 -1.738892 -0.723191 -0.800676  2.351384 -1.081458  3.032691  2.013025\n",
       "3 -1.630713 -0.553690 -0.800676  2.351384 -1.081458  3.032691  2.013025\n",
       "4 -1.414355 -0.809733 -0.800676  2.351384 -1.081458  3.032691  2.119377"
      ]
     },
     "execution_count": 185,
     "metadata": {},
     "output_type": "execute_result"
    }
   ],
   "source": [
    "x_df = pd.DataFrame(x_train_scal, columns = ['Age','KM','HP','CC','Doors','QT','Weight'])\n",
    "x_df.head()"
   ]
  },
  {
   "cell_type": "code",
   "execution_count": 187,
   "id": "ebbf78ee",
   "metadata": {},
   "outputs": [],
   "source": [
    "predict = pd.DataFrame(final_model.predict(x_df))"
   ]
  },
  {
   "cell_type": "code",
   "execution_count": 188,
   "id": "570d32f2",
   "metadata": {},
   "outputs": [
    {
     "data": {
      "text/plain": [
       "array([[16319.5951151 ],\n",
       "       [15874.06694667],\n",
       "       [16299.90720081],\n",
       "       ...,\n",
       "       [ 8552.16241809],\n",
       "       [ 8696.47323611],\n",
       "       [ 8808.43944046]])"
      ]
     },
     "execution_count": 188,
     "metadata": {},
     "output_type": "execute_result"
    }
   ],
   "source": [
    "predict_unscaled = transformer_y.inverse_transform(predict.values.reshape(-1,1))\n",
    "predict_unscaled"
   ]
  },
  {
   "cell_type": "code",
   "execution_count": 189,
   "id": "87d77e0f",
   "metadata": {},
   "outputs": [
    {
     "data": {
      "text/plain": [
       "1121.2688196518893"
      ]
     },
     "execution_count": 189,
     "metadata": {},
     "output_type": "execute_result"
    }
   ],
   "source": [
    "(np.sqrt(mean_squared_error(y, predict_unscaled)))"
   ]
  },
  {
   "cell_type": "code",
   "execution_count": 191,
   "id": "5ae36162",
   "metadata": {},
   "outputs": [
    {
     "data": {
      "text/html": [
       "<div>\n",
       "<style scoped>\n",
       "    .dataframe tbody tr th:only-of-type {\n",
       "        vertical-align: middle;\n",
       "    }\n",
       "\n",
       "    .dataframe tbody tr th {\n",
       "        vertical-align: top;\n",
       "    }\n",
       "\n",
       "    .dataframe thead th {\n",
       "        text-align: right;\n",
       "    }\n",
       "</style>\n",
       "<table border=\"1\" class=\"dataframe\">\n",
       "  <thead>\n",
       "    <tr style=\"text-align: right;\">\n",
       "      <th></th>\n",
       "      <th>Predicted_Price</th>\n",
       "      <th>Price</th>\n",
       "      <th>Age</th>\n",
       "      <th>KM</th>\n",
       "      <th>Weight</th>\n",
       "      <th>HP</th>\n",
       "      <th>CC</th>\n",
       "      <th>QT</th>\n",
       "      <th>Doors</th>\n",
       "    </tr>\n",
       "  </thead>\n",
       "  <tbody>\n",
       "    <tr>\n",
       "      <th>0</th>\n",
       "      <td>16319.595115</td>\n",
       "      <td>13500</td>\n",
       "      <td>23</td>\n",
       "      <td>46986</td>\n",
       "      <td>1165</td>\n",
       "      <td>90</td>\n",
       "      <td>2000</td>\n",
       "      <td>210</td>\n",
       "      <td>3</td>\n",
       "    </tr>\n",
       "    <tr>\n",
       "      <th>1</th>\n",
       "      <td>15874.066947</td>\n",
       "      <td>13750</td>\n",
       "      <td>23</td>\n",
       "      <td>72937</td>\n",
       "      <td>1165</td>\n",
       "      <td>90</td>\n",
       "      <td>2000</td>\n",
       "      <td>210</td>\n",
       "      <td>3</td>\n",
       "    </tr>\n",
       "    <tr>\n",
       "      <th>2</th>\n",
       "      <td>16299.907201</td>\n",
       "      <td>13950</td>\n",
       "      <td>24</td>\n",
       "      <td>41711</td>\n",
       "      <td>1165</td>\n",
       "      <td>90</td>\n",
       "      <td>2000</td>\n",
       "      <td>210</td>\n",
       "      <td>3</td>\n",
       "    </tr>\n",
       "    <tr>\n",
       "      <th>3</th>\n",
       "      <td>15971.438512</td>\n",
       "      <td>14950</td>\n",
       "      <td>26</td>\n",
       "      <td>48000</td>\n",
       "      <td>1165</td>\n",
       "      <td>90</td>\n",
       "      <td>2000</td>\n",
       "      <td>210</td>\n",
       "      <td>3</td>\n",
       "    </tr>\n",
       "    <tr>\n",
       "      <th>4</th>\n",
       "      <td>15857.158394</td>\n",
       "      <td>13750</td>\n",
       "      <td>30</td>\n",
       "      <td>38500</td>\n",
       "      <td>1170</td>\n",
       "      <td>90</td>\n",
       "      <td>2000</td>\n",
       "      <td>210</td>\n",
       "      <td>3</td>\n",
       "    </tr>\n",
       "    <tr>\n",
       "      <th>...</th>\n",
       "      <td>...</td>\n",
       "      <td>...</td>\n",
       "      <td>...</td>\n",
       "      <td>...</td>\n",
       "      <td>...</td>\n",
       "      <td>...</td>\n",
       "      <td>...</td>\n",
       "      <td>...</td>\n",
       "      <td>...</td>\n",
       "    </tr>\n",
       "    <tr>\n",
       "      <th>1410</th>\n",
       "      <td>7601.495011</td>\n",
       "      <td>8450</td>\n",
       "      <td>80</td>\n",
       "      <td>23000</td>\n",
       "      <td>1015</td>\n",
       "      <td>86</td>\n",
       "      <td>1300</td>\n",
       "      <td>69</td>\n",
       "      <td>3</td>\n",
       "    </tr>\n",
       "    <tr>\n",
       "      <th>1411</th>\n",
       "      <td>9183.645071</td>\n",
       "      <td>7500</td>\n",
       "      <td>69</td>\n",
       "      <td>20544</td>\n",
       "      <td>1025</td>\n",
       "      <td>86</td>\n",
       "      <td>1300</td>\n",
       "      <td>69</td>\n",
       "      <td>3</td>\n",
       "    </tr>\n",
       "    <tr>\n",
       "      <th>1412</th>\n",
       "      <td>8552.162418</td>\n",
       "      <td>10845</td>\n",
       "      <td>72</td>\n",
       "      <td>19000</td>\n",
       "      <td>1015</td>\n",
       "      <td>86</td>\n",
       "      <td>1300</td>\n",
       "      <td>69</td>\n",
       "      <td>3</td>\n",
       "    </tr>\n",
       "    <tr>\n",
       "      <th>1413</th>\n",
       "      <td>8696.473236</td>\n",
       "      <td>8500</td>\n",
       "      <td>71</td>\n",
       "      <td>17016</td>\n",
       "      <td>1015</td>\n",
       "      <td>86</td>\n",
       "      <td>1300</td>\n",
       "      <td>69</td>\n",
       "      <td>3</td>\n",
       "    </tr>\n",
       "    <tr>\n",
       "      <th>1414</th>\n",
       "      <td>8808.439440</td>\n",
       "      <td>7250</td>\n",
       "      <td>70</td>\n",
       "      <td>16916</td>\n",
       "      <td>1015</td>\n",
       "      <td>86</td>\n",
       "      <td>1300</td>\n",
       "      <td>69</td>\n",
       "      <td>3</td>\n",
       "    </tr>\n",
       "  </tbody>\n",
       "</table>\n",
       "<p>1415 rows × 9 columns</p>\n",
       "</div>"
      ],
      "text/plain": [
       "      Predicted_Price  Price  Age     KM  Weight  HP    CC   QT  Doors\n",
       "0        16319.595115  13500   23  46986    1165  90  2000  210      3\n",
       "1        15874.066947  13750   23  72937    1165  90  2000  210      3\n",
       "2        16299.907201  13950   24  41711    1165  90  2000  210      3\n",
       "3        15971.438512  14950   26  48000    1165  90  2000  210      3\n",
       "4        15857.158394  13750   30  38500    1170  90  2000  210      3\n",
       "...               ...    ...  ...    ...     ...  ..   ...  ...    ...\n",
       "1410      7601.495011   8450   80  23000    1015  86  1300   69      3\n",
       "1411      9183.645071   7500   69  20544    1025  86  1300   69      3\n",
       "1412      8552.162418  10845   72  19000    1015  86  1300   69      3\n",
       "1413      8696.473236   8500   71  17016    1015  86  1300   69      3\n",
       "1414      8808.439440   7250   70  16916    1015  86  1300   69      3\n",
       "\n",
       "[1415 rows x 9 columns]"
      ]
     },
     "execution_count": 191,
     "metadata": {},
     "output_type": "execute_result"
    }
   ],
   "source": [
    "predicted = pd.DataFrame(predict_unscaled,columns=['Predicted_Price'])\n",
    "predicted['Price'] = dataframe.Price\n",
    "predicted['Age'] = dataframe.Age\n",
    "predicted['KM'] = dataframe.KM\n",
    "predicted['Weight'] = dataframe.Weight\n",
    "predicted['HP'] = dataframe.HP\n",
    "predicted['CC'] = dataframe.CC\n",
    "predicted['QT'] = dataframe.QT\n",
    "predicted['Doors'] = dataframe.Doors\n",
    "predicted"
   ]
  },
  {
   "cell_type": "code",
   "execution_count": null,
   "id": "6596b73e",
   "metadata": {},
   "outputs": [],
   "source": []
  }
 ],
 "metadata": {
  "kernelspec": {
   "display_name": "Python 3 (ipykernel)",
   "language": "python",
   "name": "python3"
  },
  "language_info": {
   "codemirror_mode": {
    "name": "ipython",
    "version": 3
   },
   "file_extension": ".py",
   "mimetype": "text/x-python",
   "name": "python",
   "nbconvert_exporter": "python",
   "pygments_lexer": "ipython3",
   "version": "3.11.5"
  }
 },
 "nbformat": 4,
 "nbformat_minor": 5
}
