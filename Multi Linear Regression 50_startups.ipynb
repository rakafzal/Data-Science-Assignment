{
 "cells": [
  {
   "cell_type": "code",
   "execution_count": 138,
   "id": "17e28cad",
   "metadata": {},
   "outputs": [],
   "source": [
    "import pandas as pd\n",
    "import numpy as np\n",
    "import matplotlib.pyplot as plt\n",
    "from sklearn.linear_model import LinearRegression\n",
    "from sklearn.model_selection import train_test_split\n",
    "from sklearn.preprocessing  import LabelEncoder\n",
    "import seaborn as sns\n",
    "import statsmodels.formula.api as smf\n",
    "from sklearn.model_selection import train_test_split,cross_val_score\n",
    "from sklearn.metrics import r2_score,mean_squared_error"
   ]
  },
  {
   "cell_type": "code",
   "execution_count": 26,
   "id": "268d7e84",
   "metadata": {},
   "outputs": [
    {
     "data": {
      "text/html": [
       "<div>\n",
       "<style scoped>\n",
       "    .dataframe tbody tr th:only-of-type {\n",
       "        vertical-align: middle;\n",
       "    }\n",
       "\n",
       "    .dataframe tbody tr th {\n",
       "        vertical-align: top;\n",
       "    }\n",
       "\n",
       "    .dataframe thead th {\n",
       "        text-align: right;\n",
       "    }\n",
       "</style>\n",
       "<table border=\"1\" class=\"dataframe\">\n",
       "  <thead>\n",
       "    <tr style=\"text-align: right;\">\n",
       "      <th></th>\n",
       "      <th>R&amp;D Spend</th>\n",
       "      <th>Administration</th>\n",
       "      <th>Marketing Spend</th>\n",
       "      <th>State</th>\n",
       "      <th>Profit</th>\n",
       "    </tr>\n",
       "  </thead>\n",
       "  <tbody>\n",
       "    <tr>\n",
       "      <th>0</th>\n",
       "      <td>165349.20</td>\n",
       "      <td>136897.80</td>\n",
       "      <td>471784.10</td>\n",
       "      <td>New York</td>\n",
       "      <td>192261.83</td>\n",
       "    </tr>\n",
       "    <tr>\n",
       "      <th>1</th>\n",
       "      <td>162597.70</td>\n",
       "      <td>151377.59</td>\n",
       "      <td>443898.53</td>\n",
       "      <td>California</td>\n",
       "      <td>191792.06</td>\n",
       "    </tr>\n",
       "    <tr>\n",
       "      <th>2</th>\n",
       "      <td>153441.51</td>\n",
       "      <td>101145.55</td>\n",
       "      <td>407934.54</td>\n",
       "      <td>Florida</td>\n",
       "      <td>191050.39</td>\n",
       "    </tr>\n",
       "    <tr>\n",
       "      <th>3</th>\n",
       "      <td>144372.41</td>\n",
       "      <td>118671.85</td>\n",
       "      <td>383199.62</td>\n",
       "      <td>New York</td>\n",
       "      <td>182901.99</td>\n",
       "    </tr>\n",
       "    <tr>\n",
       "      <th>4</th>\n",
       "      <td>142107.34</td>\n",
       "      <td>91391.77</td>\n",
       "      <td>366168.42</td>\n",
       "      <td>Florida</td>\n",
       "      <td>166187.94</td>\n",
       "    </tr>\n",
       "    <tr>\n",
       "      <th>5</th>\n",
       "      <td>131876.90</td>\n",
       "      <td>99814.71</td>\n",
       "      <td>362861.36</td>\n",
       "      <td>New York</td>\n",
       "      <td>156991.12</td>\n",
       "    </tr>\n",
       "    <tr>\n",
       "      <th>6</th>\n",
       "      <td>134615.46</td>\n",
       "      <td>147198.87</td>\n",
       "      <td>127716.82</td>\n",
       "      <td>California</td>\n",
       "      <td>156122.51</td>\n",
       "    </tr>\n",
       "    <tr>\n",
       "      <th>7</th>\n",
       "      <td>130298.13</td>\n",
       "      <td>145530.06</td>\n",
       "      <td>323876.68</td>\n",
       "      <td>Florida</td>\n",
       "      <td>155752.60</td>\n",
       "    </tr>\n",
       "    <tr>\n",
       "      <th>8</th>\n",
       "      <td>120542.52</td>\n",
       "      <td>148718.95</td>\n",
       "      <td>311613.29</td>\n",
       "      <td>New York</td>\n",
       "      <td>152211.77</td>\n",
       "    </tr>\n",
       "    <tr>\n",
       "      <th>9</th>\n",
       "      <td>123334.88</td>\n",
       "      <td>108679.17</td>\n",
       "      <td>304981.62</td>\n",
       "      <td>California</td>\n",
       "      <td>149759.96</td>\n",
       "    </tr>\n",
       "  </tbody>\n",
       "</table>\n",
       "</div>"
      ],
      "text/plain": [
       "   R&D Spend  Administration  Marketing Spend       State     Profit\n",
       "0  165349.20       136897.80        471784.10    New York  192261.83\n",
       "1  162597.70       151377.59        443898.53  California  191792.06\n",
       "2  153441.51       101145.55        407934.54     Florida  191050.39\n",
       "3  144372.41       118671.85        383199.62    New York  182901.99\n",
       "4  142107.34        91391.77        366168.42     Florida  166187.94\n",
       "5  131876.90        99814.71        362861.36    New York  156991.12\n",
       "6  134615.46       147198.87        127716.82  California  156122.51\n",
       "7  130298.13       145530.06        323876.68     Florida  155752.60\n",
       "8  120542.52       148718.95        311613.29    New York  152211.77\n",
       "9  123334.88       108679.17        304981.62  California  149759.96"
      ]
     },
     "execution_count": 26,
     "metadata": {},
     "output_type": "execute_result"
    }
   ],
   "source": [
    "data=pd.read_csv('50_Startups (3).csv')\n",
    "data.head(10)"
   ]
  },
  {
   "cell_type": "code",
   "execution_count": 27,
   "id": "0457b0cb",
   "metadata": {},
   "outputs": [
    {
     "data": {
      "text/plain": [
       "(50, 5)"
      ]
     },
     "execution_count": 27,
     "metadata": {},
     "output_type": "execute_result"
    }
   ],
   "source": [
    "data.shape"
   ]
  },
  {
   "cell_type": "code",
   "execution_count": 28,
   "id": "063a7758",
   "metadata": {},
   "outputs": [
    {
     "data": {
      "text/html": [
       "<div>\n",
       "<style scoped>\n",
       "    .dataframe tbody tr th:only-of-type {\n",
       "        vertical-align: middle;\n",
       "    }\n",
       "\n",
       "    .dataframe tbody tr th {\n",
       "        vertical-align: top;\n",
       "    }\n",
       "\n",
       "    .dataframe thead th {\n",
       "        text-align: right;\n",
       "    }\n",
       "</style>\n",
       "<table border=\"1\" class=\"dataframe\">\n",
       "  <thead>\n",
       "    <tr style=\"text-align: right;\">\n",
       "      <th></th>\n",
       "      <th>R&amp;D Spend</th>\n",
       "      <th>Administration</th>\n",
       "      <th>Marketing Spend</th>\n",
       "      <th>Profit</th>\n",
       "    </tr>\n",
       "  </thead>\n",
       "  <tbody>\n",
       "    <tr>\n",
       "      <th>count</th>\n",
       "      <td>50.000000</td>\n",
       "      <td>50.000000</td>\n",
       "      <td>50.000000</td>\n",
       "      <td>50.000000</td>\n",
       "    </tr>\n",
       "    <tr>\n",
       "      <th>mean</th>\n",
       "      <td>73721.615600</td>\n",
       "      <td>121344.639600</td>\n",
       "      <td>211025.097800</td>\n",
       "      <td>112012.639200</td>\n",
       "    </tr>\n",
       "    <tr>\n",
       "      <th>std</th>\n",
       "      <td>45902.256482</td>\n",
       "      <td>28017.802755</td>\n",
       "      <td>122290.310726</td>\n",
       "      <td>40306.180338</td>\n",
       "    </tr>\n",
       "    <tr>\n",
       "      <th>min</th>\n",
       "      <td>0.000000</td>\n",
       "      <td>51283.140000</td>\n",
       "      <td>0.000000</td>\n",
       "      <td>14681.400000</td>\n",
       "    </tr>\n",
       "    <tr>\n",
       "      <th>25%</th>\n",
       "      <td>39936.370000</td>\n",
       "      <td>103730.875000</td>\n",
       "      <td>129300.132500</td>\n",
       "      <td>90138.902500</td>\n",
       "    </tr>\n",
       "    <tr>\n",
       "      <th>50%</th>\n",
       "      <td>73051.080000</td>\n",
       "      <td>122699.795000</td>\n",
       "      <td>212716.240000</td>\n",
       "      <td>107978.190000</td>\n",
       "    </tr>\n",
       "    <tr>\n",
       "      <th>75%</th>\n",
       "      <td>101602.800000</td>\n",
       "      <td>144842.180000</td>\n",
       "      <td>299469.085000</td>\n",
       "      <td>139765.977500</td>\n",
       "    </tr>\n",
       "    <tr>\n",
       "      <th>max</th>\n",
       "      <td>165349.200000</td>\n",
       "      <td>182645.560000</td>\n",
       "      <td>471784.100000</td>\n",
       "      <td>192261.830000</td>\n",
       "    </tr>\n",
       "  </tbody>\n",
       "</table>\n",
       "</div>"
      ],
      "text/plain": [
       "           R&D Spend  Administration  Marketing Spend         Profit\n",
       "count      50.000000       50.000000        50.000000      50.000000\n",
       "mean    73721.615600   121344.639600    211025.097800  112012.639200\n",
       "std     45902.256482    28017.802755    122290.310726   40306.180338\n",
       "min         0.000000    51283.140000         0.000000   14681.400000\n",
       "25%     39936.370000   103730.875000    129300.132500   90138.902500\n",
       "50%     73051.080000   122699.795000    212716.240000  107978.190000\n",
       "75%    101602.800000   144842.180000    299469.085000  139765.977500\n",
       "max    165349.200000   182645.560000    471784.100000  192261.830000"
      ]
     },
     "execution_count": 28,
     "metadata": {},
     "output_type": "execute_result"
    }
   ],
   "source": [
    "data.describe()"
   ]
  },
  {
   "cell_type": "code",
   "execution_count": 29,
   "id": "3ee10ca1",
   "metadata": {},
   "outputs": [
    {
     "name": "stdout",
     "output_type": "stream",
     "text": [
      "<class 'pandas.core.frame.DataFrame'>\n",
      "RangeIndex: 50 entries, 0 to 49\n",
      "Data columns (total 5 columns):\n",
      " #   Column           Non-Null Count  Dtype  \n",
      "---  ------           --------------  -----  \n",
      " 0   R&D Spend        50 non-null     float64\n",
      " 1   Administration   50 non-null     float64\n",
      " 2   Marketing Spend  50 non-null     float64\n",
      " 3   State            50 non-null     object \n",
      " 4   Profit           50 non-null     float64\n",
      "dtypes: float64(4), object(1)\n",
      "memory usage: 2.1+ KB\n"
     ]
    }
   ],
   "source": [
    "data.info()"
   ]
  },
  {
   "cell_type": "code",
   "execution_count": 30,
   "id": "1a91620e",
   "metadata": {},
   "outputs": [
    {
     "data": {
      "text/plain": [
       "R&D Spend          0\n",
       "Administration     0\n",
       "Marketing Spend    0\n",
       "State              0\n",
       "Profit             0\n",
       "dtype: int64"
      ]
     },
     "execution_count": 30,
     "metadata": {},
     "output_type": "execute_result"
    }
   ],
   "source": [
    "data.isnull().sum()"
   ]
  },
  {
   "cell_type": "code",
   "execution_count": 31,
   "id": "047b4826",
   "metadata": {},
   "outputs": [
    {
     "data": {
      "text/plain": [
       "False"
      ]
     },
     "execution_count": 31,
     "metadata": {},
     "output_type": "execute_result"
    }
   ],
   "source": [
    "data.duplicated().any()"
   ]
  },
  {
   "cell_type": "code",
   "execution_count": 32,
   "id": "413461ab",
   "metadata": {},
   "outputs": [
    {
     "data": {
      "text/html": [
       "<div>\n",
       "<style scoped>\n",
       "    .dataframe tbody tr th:only-of-type {\n",
       "        vertical-align: middle;\n",
       "    }\n",
       "\n",
       "    .dataframe tbody tr th {\n",
       "        vertical-align: top;\n",
       "    }\n",
       "\n",
       "    .dataframe thead th {\n",
       "        text-align: right;\n",
       "    }\n",
       "</style>\n",
       "<table border=\"1\" class=\"dataframe\">\n",
       "  <thead>\n",
       "    <tr style=\"text-align: right;\">\n",
       "      <th></th>\n",
       "      <th>research</th>\n",
       "      <th>admin</th>\n",
       "      <th>marketing</th>\n",
       "      <th>state</th>\n",
       "      <th>profit</th>\n",
       "    </tr>\n",
       "  </thead>\n",
       "  <tbody>\n",
       "    <tr>\n",
       "      <th>0</th>\n",
       "      <td>165349.20</td>\n",
       "      <td>136897.80</td>\n",
       "      <td>471784.10</td>\n",
       "      <td>New York</td>\n",
       "      <td>192261.83</td>\n",
       "    </tr>\n",
       "    <tr>\n",
       "      <th>1</th>\n",
       "      <td>162597.70</td>\n",
       "      <td>151377.59</td>\n",
       "      <td>443898.53</td>\n",
       "      <td>California</td>\n",
       "      <td>191792.06</td>\n",
       "    </tr>\n",
       "    <tr>\n",
       "      <th>2</th>\n",
       "      <td>153441.51</td>\n",
       "      <td>101145.55</td>\n",
       "      <td>407934.54</td>\n",
       "      <td>Florida</td>\n",
       "      <td>191050.39</td>\n",
       "    </tr>\n",
       "    <tr>\n",
       "      <th>3</th>\n",
       "      <td>144372.41</td>\n",
       "      <td>118671.85</td>\n",
       "      <td>383199.62</td>\n",
       "      <td>New York</td>\n",
       "      <td>182901.99</td>\n",
       "    </tr>\n",
       "    <tr>\n",
       "      <th>4</th>\n",
       "      <td>142107.34</td>\n",
       "      <td>91391.77</td>\n",
       "      <td>366168.42</td>\n",
       "      <td>Florida</td>\n",
       "      <td>166187.94</td>\n",
       "    </tr>\n",
       "  </tbody>\n",
       "</table>\n",
       "</div>"
      ],
      "text/plain": [
       "    research      admin  marketing       state     profit\n",
       "0  165349.20  136897.80  471784.10    New York  192261.83\n",
       "1  162597.70  151377.59  443898.53  California  191792.06\n",
       "2  153441.51  101145.55  407934.54     Florida  191050.39\n",
       "3  144372.41  118671.85  383199.62    New York  182901.99\n",
       "4  142107.34   91391.77  366168.42     Florida  166187.94"
      ]
     },
     "execution_count": 32,
     "metadata": {},
     "output_type": "execute_result"
    }
   ],
   "source": [
    "startup_data = data.rename({'R&D Spend':'research','Administration':'admin','Marketing Spend':'marketing','State':'state','Profit':'profit'},axis=1)\n",
    "startup_data.head()"
   ]
  },
  {
   "cell_type": "code",
   "execution_count": 34,
   "id": "f6c33ee5",
   "metadata": {},
   "outputs": [
    {
     "data": {
      "text/html": [
       "<div>\n",
       "<style scoped>\n",
       "    .dataframe tbody tr th:only-of-type {\n",
       "        vertical-align: middle;\n",
       "    }\n",
       "\n",
       "    .dataframe tbody tr th {\n",
       "        vertical-align: top;\n",
       "    }\n",
       "\n",
       "    .dataframe thead th {\n",
       "        text-align: right;\n",
       "    }\n",
       "</style>\n",
       "<table border=\"1\" class=\"dataframe\">\n",
       "  <thead>\n",
       "    <tr style=\"text-align: right;\">\n",
       "      <th></th>\n",
       "      <th>research</th>\n",
       "      <th>admin</th>\n",
       "      <th>marketing</th>\n",
       "      <th>state</th>\n",
       "      <th>profit</th>\n",
       "    </tr>\n",
       "  </thead>\n",
       "  <tbody>\n",
       "    <tr>\n",
       "      <th>19</th>\n",
       "      <td>86419.70</td>\n",
       "      <td>153514.11</td>\n",
       "      <td>0.00</td>\n",
       "      <td>New York</td>\n",
       "      <td>122776.86</td>\n",
       "    </tr>\n",
       "    <tr>\n",
       "      <th>47</th>\n",
       "      <td>0.00</td>\n",
       "      <td>135426.92</td>\n",
       "      <td>0.00</td>\n",
       "      <td>California</td>\n",
       "      <td>42559.73</td>\n",
       "    </tr>\n",
       "    <tr>\n",
       "      <th>47</th>\n",
       "      <td>0.00</td>\n",
       "      <td>135426.92</td>\n",
       "      <td>0.00</td>\n",
       "      <td>California</td>\n",
       "      <td>42559.73</td>\n",
       "    </tr>\n",
       "    <tr>\n",
       "      <th>48</th>\n",
       "      <td>542.05</td>\n",
       "      <td>51743.15</td>\n",
       "      <td>0.00</td>\n",
       "      <td>New York</td>\n",
       "      <td>35673.41</td>\n",
       "    </tr>\n",
       "    <tr>\n",
       "      <th>49</th>\n",
       "      <td>0.00</td>\n",
       "      <td>116983.80</td>\n",
       "      <td>45173.06</td>\n",
       "      <td>California</td>\n",
       "      <td>14681.40</td>\n",
       "    </tr>\n",
       "  </tbody>\n",
       "</table>\n",
       "</div>"
      ],
      "text/plain": [
       "    research      admin  marketing       state     profit\n",
       "19  86419.70  153514.11       0.00    New York  122776.86\n",
       "47      0.00  135426.92       0.00  California   42559.73\n",
       "47      0.00  135426.92       0.00  California   42559.73\n",
       "48    542.05   51743.15       0.00    New York   35673.41\n",
       "49      0.00  116983.80   45173.06  California   14681.40"
      ]
     },
     "execution_count": 34,
     "metadata": {},
     "output_type": "execute_result"
    }
   ],
   "source": [
    "startup_data[startup_data.values==0.00]"
   ]
  },
  {
   "cell_type": "code",
   "execution_count": 35,
   "id": "95fd5ea5",
   "metadata": {},
   "outputs": [
    {
     "data": {
      "text/plain": [
       "(0, 5)"
      ]
     },
     "execution_count": 35,
     "metadata": {},
     "output_type": "execute_result"
    }
   ],
   "source": [
    "startup_data[startup_data.duplicated()].shape"
   ]
  },
  {
   "cell_type": "code",
   "execution_count": 36,
   "id": "dd3f5cba",
   "metadata": {},
   "outputs": [
    {
     "name": "stdout",
     "output_type": "stream",
     "text": [
      "Continuous Feature Count 4\n"
     ]
    }
   ],
   "source": [
    "continuous_feature = [feature for feature in startup_data.columns if startup_data[feature].dtype!='O']\n",
    "print('Continuous Feature Count {}'.format(len(continuous_feature)))"
   ]
  },
  {
   "cell_type": "code",
   "execution_count": 39,
   "id": "ca211b69",
   "metadata": {},
   "outputs": [
    {
     "data": {
      "image/png": "[encoded data removed]",
      "text/plain": [
       "<Figure size 640x480 with 1 Axes>"
      ]
     },
     "metadata": {},
     "output_type": "display_data"
    },
    {
     "data": {
      "image/png": "[encoded data removed]",
      "text/plain": [
       "<Figure size 640x480 with 1 Axes>"
      ]
     },
     "metadata": {},
     "output_type": "display_data"
    },
    {
     "data": {
      "image/png": "[encoded data removed]",
      "text/plain": [
       "<Figure size 640x480 with 1 Axes>"
      ]
     },
     "metadata": {},
     "output_type": "display_data"
    },
    {
     "data": {
      "image/png": "[encoded data removed]",
      "text/plain": [
       "<Figure size 640x480 with 1 Axes>"
      ]
     },
     "metadata": {},
     "output_type": "display_data"
    }
   ],
   "source": [
    "for feature in continuous_feature: \n",
    "    startup_data.boxplot(column=feature)\n",
    "    plt.title(feature)\n",
    "    plt.show()"
   ]
  },
  {
   "cell_type": "code",
   "execution_count": 40,
   "id": "648a33bb",
   "metadata": {},
   "outputs": [
    {
     "name": "stdout",
     "output_type": "stream",
     "text": [
      "The outlier in the boxplot: 49    14681.4\n",
      "Name: profit, dtype: float64\n"
     ]
    }
   ],
   "source": [
    "Outliers = startup_data.profit[(startup_data.profit <= lower_bound) | (startup_data.profit >= upper_bound)]\n",
    "print('The outlier in the boxplot:',Outliers)"
   ]
  },
  {
   "cell_type": "code",
   "execution_count": 41,
   "id": "a13ba8bc",
   "metadata": {},
   "outputs": [
    {
     "data": {
      "text/html": [
       "<div>\n",
       "<style scoped>\n",
       "    .dataframe tbody tr th:only-of-type {\n",
       "        vertical-align: middle;\n",
       "    }\n",
       "\n",
       "    .dataframe tbody tr th {\n",
       "        vertical-align: top;\n",
       "    }\n",
       "\n",
       "    .dataframe thead th {\n",
       "        text-align: right;\n",
       "    }\n",
       "</style>\n",
       "<table border=\"1\" class=\"dataframe\">\n",
       "  <thead>\n",
       "    <tr style=\"text-align: right;\">\n",
       "      <th></th>\n",
       "      <th>research</th>\n",
       "      <th>admin</th>\n",
       "      <th>marketing</th>\n",
       "      <th>state</th>\n",
       "      <th>profit</th>\n",
       "    </tr>\n",
       "  </thead>\n",
       "  <tbody>\n",
       "    <tr>\n",
       "      <th>49</th>\n",
       "      <td>0.0</td>\n",
       "      <td>116983.8</td>\n",
       "      <td>45173.06</td>\n",
       "      <td>California</td>\n",
       "      <td>14681.4</td>\n",
       "    </tr>\n",
       "  </tbody>\n",
       "</table>\n",
       "</div>"
      ],
      "text/plain": [
       "    research     admin  marketing       state   profit\n",
       "49       0.0  116983.8   45173.06  California  14681.4"
      ]
     },
     "metadata": {},
     "output_type": "display_data"
    }
   ],
   "source": [
    "\n",
    "display(startup_data[startup_data.index.isin([49])])"
   ]
  },
  {
   "cell_type": "code",
   "execution_count": 42,
   "id": "23b20da6",
   "metadata": {},
   "outputs": [
    {
     "name": "stderr",
     "output_type": "stream",
     "text": [
      "C:\\Users\\Lenovo\\AppData\\Local\\Temp\\ipykernel_1680\\3672332343.py:2: MatplotlibDeprecationWarning: Auto-removal of overlapping axes is deprecated since 3.6 and will be removed two minor releases later; explicitly call ax.remove() as needed.\n",
      "  plt.subplot(131)\n"
     ]
    },
    {
     "data": {
      "image/png": "[encoded data removed]",
      "text/plain": [
       "<Figure size 900x600 with 3 Axes>"
      ]
     },
     "metadata": {},
     "output_type": "display_data"
    }
   ],
   "source": [
    "plt.subplots(figsize = (9,6))\n",
    "plt.subplot(131)\n",
    "plt.boxplot(np.log(startup_data['profit']))\n",
    "plt.subplot(132)\n",
    "plt.boxplot(np.sqrt(startup_data['profit']))\n",
    "plt.subplot(133)\n",
    "plt.boxplot(np.cbrt(startup_data['profit']))\n",
    "plt.show()"
   ]
  },
  {
   "cell_type": "code",
   "execution_count": 44,
   "id": "d64f753f",
   "metadata": {},
   "outputs": [],
   "source": [
    "raw_model = smf.ols(\"profit ~ research + admin + marketing\", data = startup_data).fit()"
   ]
  },
  {
   "cell_type": "code",
   "execution_count": 45,
   "id": "d3f2c376",
   "metadata": {},
   "outputs": [
    {
     "name": "stdout",
     "output_type": "stream",
     "text": [
      "R-squared     : 0.951\n",
      "Adj.R-squared : 0.948\n"
     ]
    }
   ],
   "source": [
    "print('R-squared     :',raw_model.rsquared.round(3))\n",
    "print('Adj.R-squared :',raw_model.rsquared_adj.round(3))"
   ]
  },
  {
   "cell_type": "code",
   "execution_count": 46,
   "id": "90cb7eec",
   "metadata": {},
   "outputs": [
    {
     "data": {
      "text/plain": [
       "107978.19"
      ]
     },
     "execution_count": 46,
     "metadata": {},
     "output_type": "execute_result"
    }
   ],
   "source": [
    "startup_data.profit.median()"
   ]
  },
  {
   "cell_type": "code",
   "execution_count": 50,
   "id": "f72a924e",
   "metadata": {},
   "outputs": [],
   "source": [
    "median_imputation_model = smf.ols(\"profit ~ research + admin + marketing\", data = startup_data1).fit()"
   ]
  },
  {
   "cell_type": "code",
   "execution_count": 51,
   "id": "685963bc",
   "metadata": {},
   "outputs": [
    {
     "name": "stdout",
     "output_type": "stream",
     "text": [
      "R-squared     : 0.951\n",
      "Adj.R-squared : 0.948\n"
     ]
    }
   ],
   "source": [
    "print('R-squared     :',median_imputation_model.rsquared.round(3))\n",
    "print('Adj.R-squared :',median_imputation_model.rsquared_adj.round(3))"
   ]
  },
  {
   "cell_type": "code",
   "execution_count": 53,
   "id": "8f1f5001",
   "metadata": {},
   "outputs": [
    {
     "data": {
      "image/png": "[encoded data removed]",
      "text/plain": [
       "<Figure size 640x480 with 1 Axes>"
      ]
     },
     "metadata": {},
     "output_type": "display_data"
    }
   ],
   "source": [
    "startup_data3 = startup_data.copy()\n",
    "def drop_outliers(startup_data3, field_name):\n",
    "    iqr = 1.5*(np.percentile(startup_data3[field_name], 75) - np.percentile(startup_data3[field_name], 25))\n",
    "    startup_data3.drop(startup_data3[startup_data3[field_name] > (iqr + np.percentile(startup_data3[field_name], 75))].index, inplace=True)\n",
    "    startup_data3.drop(startup_data3[startup_data3[field_name] < (np.percentile(startup_data3[field_name], 25) - iqr)].index, inplace=True)\n",
    "drop_outliers(startup_data3, 'profit')\n",
    "sns.boxplot(startup_data3.profit)\n",
    "plt.title('Profit after removing outliers')\n",
    "plt.show()"
   ]
  },
  {
   "cell_type": "code",
   "execution_count": 54,
   "id": "19324648",
   "metadata": {},
   "outputs": [],
   "source": [
    "removed_outlier_model = smf.ols(\"profit ~ research + admin + marketing\", data = startup_data3).fit()"
   ]
  },
  {
   "cell_type": "code",
   "execution_count": 55,
   "id": "741c28ba",
   "metadata": {},
   "outputs": [
    {
     "name": "stdout",
     "output_type": "stream",
     "text": [
      "R-squared     : 0.961\n",
      "Adj.R-squared : 0.959\n"
     ]
    }
   ],
   "source": [
    "print('R-squared     :',removed_outlier_model.rsquared.round(3))\n",
    "print('Adj.R-squared :',removed_outlier_model.rsquared_adj.round(3))"
   ]
  },
  {
   "cell_type": "code",
   "execution_count": 56,
   "id": "e57f0abe",
   "metadata": {},
   "outputs": [
    {
     "data": {
      "text/plain": [
       "Index(['research', 'admin', 'marketing', 'state', 'profit'], dtype='object')"
      ]
     },
     "execution_count": 56,
     "metadata": {},
     "output_type": "execute_result"
    }
   ],
   "source": [
    "startup_data3.columns"
   ]
  },
  {
   "cell_type": "code",
   "execution_count": 58,
   "id": "fa2af937",
   "metadata": {},
   "outputs": [
    {
     "data": {
      "text/html": [
       "<div>\n",
       "<style scoped>\n",
       "    .dataframe tbody tr th:only-of-type {\n",
       "        vertical-align: middle;\n",
       "    }\n",
       "\n",
       "    .dataframe tbody tr th {\n",
       "        vertical-align: top;\n",
       "    }\n",
       "\n",
       "    .dataframe thead th {\n",
       "        text-align: right;\n",
       "    }\n",
       "</style>\n",
       "<table border=\"1\" class=\"dataframe\">\n",
       "  <thead>\n",
       "    <tr style=\"text-align: right;\">\n",
       "      <th></th>\n",
       "      <th>research</th>\n",
       "      <th>admin</th>\n",
       "      <th>marketing</th>\n",
       "      <th>profit</th>\n",
       "    </tr>\n",
       "  </thead>\n",
       "  <tbody>\n",
       "    <tr>\n",
       "      <th>0</th>\n",
       "      <td>165349.20</td>\n",
       "      <td>136897.80</td>\n",
       "      <td>471784.10</td>\n",
       "      <td>192261.83</td>\n",
       "    </tr>\n",
       "    <tr>\n",
       "      <th>1</th>\n",
       "      <td>162597.70</td>\n",
       "      <td>151377.59</td>\n",
       "      <td>443898.53</td>\n",
       "      <td>191792.06</td>\n",
       "    </tr>\n",
       "    <tr>\n",
       "      <th>2</th>\n",
       "      <td>153441.51</td>\n",
       "      <td>101145.55</td>\n",
       "      <td>407934.54</td>\n",
       "      <td>191050.39</td>\n",
       "    </tr>\n",
       "    <tr>\n",
       "      <th>3</th>\n",
       "      <td>144372.41</td>\n",
       "      <td>118671.85</td>\n",
       "      <td>383199.62</td>\n",
       "      <td>182901.99</td>\n",
       "    </tr>\n",
       "    <tr>\n",
       "      <th>4</th>\n",
       "      <td>142107.34</td>\n",
       "      <td>91391.77</td>\n",
       "      <td>366168.42</td>\n",
       "      <td>166187.94</td>\n",
       "    </tr>\n",
       "  </tbody>\n",
       "</table>\n",
       "</div>"
      ],
      "text/plain": [
       "    research      admin  marketing     profit\n",
       "0  165349.20  136897.80  471784.10  192261.83\n",
       "1  162597.70  151377.59  443898.53  191792.06\n",
       "2  153441.51  101145.55  407934.54  191050.39\n",
       "3  144372.41  118671.85  383199.62  182901.99\n",
       "4  142107.34   91391.77  366168.42  166187.94"
      ]
     },
     "execution_count": 58,
     "metadata": {},
     "output_type": "execute_result"
    }
   ],
   "source": [
    "startup_data4 = startup_data3.drop('state',axis=1)\n",
    "startup_data4.head()"
   ]
  },
  {
   "cell_type": "code",
   "execution_count": 59,
   "id": "d8c8d4df",
   "metadata": {},
   "outputs": [
    {
     "data": {
      "text/html": [
       "<div>\n",
       "<style scoped>\n",
       "    .dataframe tbody tr th:only-of-type {\n",
       "        vertical-align: middle;\n",
       "    }\n",
       "\n",
       "    .dataframe tbody tr th {\n",
       "        vertical-align: top;\n",
       "    }\n",
       "\n",
       "    .dataframe thead th {\n",
       "        text-align: right;\n",
       "    }\n",
       "</style>\n",
       "<table border=\"1\" class=\"dataframe\">\n",
       "  <thead>\n",
       "    <tr style=\"text-align: right;\">\n",
       "      <th></th>\n",
       "      <th>research</th>\n",
       "      <th>admin</th>\n",
       "      <th>marketing</th>\n",
       "      <th>profit</th>\n",
       "    </tr>\n",
       "  </thead>\n",
       "  <tbody>\n",
       "    <tr>\n",
       "      <th>research</th>\n",
       "      <td>1.000000</td>\n",
       "      <td>0.243438</td>\n",
       "      <td>0.711654</td>\n",
       "      <td>0.978437</td>\n",
       "    </tr>\n",
       "    <tr>\n",
       "      <th>admin</th>\n",
       "      <td>0.243438</td>\n",
       "      <td>1.000000</td>\n",
       "      <td>-0.037280</td>\n",
       "      <td>0.205841</td>\n",
       "    </tr>\n",
       "    <tr>\n",
       "      <th>marketing</th>\n",
       "      <td>0.711654</td>\n",
       "      <td>-0.037280</td>\n",
       "      <td>1.000000</td>\n",
       "      <td>0.739307</td>\n",
       "    </tr>\n",
       "    <tr>\n",
       "      <th>profit</th>\n",
       "      <td>0.978437</td>\n",
       "      <td>0.205841</td>\n",
       "      <td>0.739307</td>\n",
       "      <td>1.000000</td>\n",
       "    </tr>\n",
       "  </tbody>\n",
       "</table>\n",
       "</div>"
      ],
      "text/plain": [
       "           research     admin  marketing    profit\n",
       "research   1.000000  0.243438   0.711654  0.978437\n",
       "admin      0.243438  1.000000  -0.037280  0.205841\n",
       "marketing  0.711654 -0.037280   1.000000  0.739307\n",
       "profit     0.978437  0.205841   0.739307  1.000000"
      ]
     },
     "execution_count": 59,
     "metadata": {},
     "output_type": "execute_result"
    }
   ],
   "source": [
    "startup_data4.corr()"
   ]
  },
  {
   "cell_type": "code",
   "execution_count": 60,
   "id": "54889f5f",
   "metadata": {},
   "outputs": [],
   "source": [
    "data_standard_scaled = startup_data4.copy()\n",
    "features = data_standard_scaled[continuous_feature]"
   ]
  },
  {
   "cell_type": "code",
   "execution_count": 61,
   "id": "1bc6468a",
   "metadata": {},
   "outputs": [],
   "source": [
    "from sklearn.preprocessing import StandardScaler"
   ]
  },
  {
   "cell_type": "code",
   "execution_count": 62,
   "id": "a3f0a341",
   "metadata": {},
   "outputs": [],
   "source": [
    "scaler = StandardScaler()"
   ]
  },
  {
   "cell_type": "code",
   "execution_count": 63,
   "id": "61bfae1c",
   "metadata": {},
   "outputs": [
    {
     "data": {
      "text/html": [
       "<div>\n",
       "<style scoped>\n",
       "    .dataframe tbody tr th:only-of-type {\n",
       "        vertical-align: middle;\n",
       "    }\n",
       "\n",
       "    .dataframe tbody tr th {\n",
       "        vertical-align: top;\n",
       "    }\n",
       "\n",
       "    .dataframe thead th {\n",
       "        text-align: right;\n",
       "    }\n",
       "</style>\n",
       "<table border=\"1\" class=\"dataframe\">\n",
       "  <thead>\n",
       "    <tr style=\"text-align: right;\">\n",
       "      <th></th>\n",
       "      <th>research</th>\n",
       "      <th>admin</th>\n",
       "      <th>marketing</th>\n",
       "      <th>profit</th>\n",
       "    </tr>\n",
       "  </thead>\n",
       "  <tbody>\n",
       "    <tr>\n",
       "      <th>0</th>\n",
       "      <td>2.018325</td>\n",
       "      <td>0.552080</td>\n",
       "      <td>2.146120</td>\n",
       "      <td>2.071556</td>\n",
       "    </tr>\n",
       "    <tr>\n",
       "      <th>1</th>\n",
       "      <td>1.956704</td>\n",
       "      <td>1.069017</td>\n",
       "      <td>1.913596</td>\n",
       "      <td>2.059122</td>\n",
       "    </tr>\n",
       "    <tr>\n",
       "      <th>2</th>\n",
       "      <td>1.751650</td>\n",
       "      <td>-0.724297</td>\n",
       "      <td>1.613709</td>\n",
       "      <td>2.039490</td>\n",
       "    </tr>\n",
       "    <tr>\n",
       "      <th>3</th>\n",
       "      <td>1.548545</td>\n",
       "      <td>-0.098597</td>\n",
       "      <td>1.407457</td>\n",
       "      <td>1.823808</td>\n",
       "    </tr>\n",
       "    <tr>\n",
       "      <th>4</th>\n",
       "      <td>1.497818</td>\n",
       "      <td>-1.072513</td>\n",
       "      <td>1.265442</td>\n",
       "      <td>1.381401</td>\n",
       "    </tr>\n",
       "  </tbody>\n",
       "</table>\n",
       "</div>"
      ],
      "text/plain": [
       "   research     admin  marketing    profit\n",
       "0  2.018325  0.552080   2.146120  2.071556\n",
       "1  1.956704  1.069017   1.913596  2.059122\n",
       "2  1.751650 -0.724297   1.613709  2.039490\n",
       "3  1.548545 -0.098597   1.407457  1.823808\n",
       "4  1.497818 -1.072513   1.265442  1.381401"
      ]
     },
     "execution_count": 63,
     "metadata": {},
     "output_type": "execute_result"
    }
   ],
   "source": [
    "data_standard_scaled[continuous_feature] = scaler.fit_transform(features.values)\n",
    "data_standard_scaled.head()"
   ]
  },
  {
   "cell_type": "code",
   "execution_count": 64,
   "id": "2d7e1ba5",
   "metadata": {},
   "outputs": [
    {
     "name": "stdout",
     "output_type": "stream",
     "text": [
      "Mean\n",
      " research     0.0\n",
      "admin       -0.0\n",
      "marketing   -0.0\n",
      "profit      -0.0\n",
      "dtype: float64 \n",
      "Standard Devaition \n",
      " research     1.0\n",
      "admin        1.0\n",
      "marketing    1.0\n",
      "profit       1.0\n",
      "dtype: float64 1\n"
     ]
    }
   ],
   "source": [
    "print('Mean' '\\n',np.round(data_standard_scaled.mean(),1),'\\n' 'Standard Devaition','\\n',np.round(data_standard_scaled.std()),1)"
   ]
  },
  {
   "cell_type": "code",
   "execution_count": 65,
   "id": "c7b26739",
   "metadata": {},
   "outputs": [],
   "source": [
    "model = smf.ols(\"profit ~ research + admin + marketing\", data = data_standard_scaled).fit()"
   ]
  },
  {
   "cell_type": "code",
   "execution_count": 66,
   "id": "a2c041be",
   "metadata": {},
   "outputs": [
    {
     "name": "stdout",
     "output_type": "stream",
     "text": [
      "R-squared     : 0.961\n",
      "Adj.R-squared : 0.959\n"
     ]
    }
   ],
   "source": [
    "print('R-squared     :',removed_outlier_model.rsquared.round(3))\n",
    "print('Adj.R-squared :',removed_outlier_model.rsquared_adj.round(3))"
   ]
  },
  {
   "cell_type": "code",
   "execution_count": 67,
   "id": "220ecaaa",
   "metadata": {},
   "outputs": [
    {
     "data": {
      "text/plain": [
       "Intercept   -1.353084e-16\n",
       "research     9.254411e-01\n",
       "admin       -1.646059e-02\n",
       "marketing    8.009988e-02\n",
       "dtype: float64"
      ]
     },
     "execution_count": 67,
     "metadata": {},
     "output_type": "execute_result"
    }
   ],
   "source": [
    "model.params"
   ]
  },
  {
   "cell_type": "code",
   "execution_count": 68,
   "id": "8dfa52b0",
   "metadata": {},
   "outputs": [
    {
     "data": {
      "text/plain": [
       "Intercept    -0.000\n",
       "research     20.470\n",
       "admin        -0.518\n",
       "marketing     1.825\n",
       "dtype: float64"
      ]
     },
     "metadata": {},
     "output_type": "display_data"
    },
    {
     "data": {
      "text/plain": [
       "Intercept    1.000\n",
       "research     0.000\n",
       "admin        0.607\n",
       "marketing    0.075\n",
       "dtype: float64"
      ]
     },
     "metadata": {},
     "output_type": "display_data"
    }
   ],
   "source": [
    "display(np.round(model.tvalues,3), np.round(model.pvalues,3))"
   ]
  },
  {
   "cell_type": "code",
   "execution_count": 69,
   "id": "47cfff56",
   "metadata": {},
   "outputs": [],
   "source": [
    "admin_slr_model = smf.ols(\"profit ~ admin\", data = data_standard_scaled).fit()"
   ]
  },
  {
   "cell_type": "code",
   "execution_count": 70,
   "id": "3201f684",
   "metadata": {},
   "outputs": [
    {
     "name": "stdout",
     "output_type": "stream",
     "text": [
      "R-squared     : 0.042\n",
      "Adj.R-squared : 0.022\n"
     ]
    }
   ],
   "source": [
    "print('R-squared     :',admin_slr_model.rsquared.round(3))\n",
    "print('Adj.R-squared :',admin_slr_model.rsquared_adj.round(3))"
   ]
  },
  {
   "cell_type": "code",
   "execution_count": 71,
   "id": "da2dfe89",
   "metadata": {},
   "outputs": [
    {
     "data": {
      "text/plain": [
       "Intercept   -0.000\n",
       "admin        1.442\n",
       "dtype: float64"
      ]
     },
     "metadata": {},
     "output_type": "display_data"
    },
    {
     "data": {
      "text/plain": [
       "Intercept    1.000\n",
       "admin        0.156\n",
       "dtype: float64"
      ]
     },
     "metadata": {},
     "output_type": "display_data"
    }
   ],
   "source": [
    "display(np.round(admin_slr_model.tvalues,3), np.round(admin_slr_model.pvalues,3))"
   ]
  },
  {
   "cell_type": "code",
   "execution_count": 72,
   "id": "749ee17a",
   "metadata": {},
   "outputs": [],
   "source": [
    "marketing_slr_model = smf.ols(\"profit ~ marketing\", data = data_standard_scaled).fit()"
   ]
  },
  {
   "cell_type": "code",
   "execution_count": 75,
   "id": "20fa0f4f",
   "metadata": {},
   "outputs": [
    {
     "name": "stdout",
     "output_type": "stream",
     "text": [
      "R-squared     : 0.547\n",
      "Adj.R-squared : 0.537\n"
     ]
    }
   ],
   "source": [
    "print('R-squared     :',marketing_slr_model.rsquared.round(3))\n",
    "print('Adj.R-squared :',marketing_slr_model.rsquared_adj.round(3))"
   ]
  },
  {
   "cell_type": "code",
   "execution_count": 76,
   "id": "e0c9c10f",
   "metadata": {},
   "outputs": [
    {
     "data": {
      "text/plain": [
       "Intercept   -0.000\n",
       "marketing    7.527\n",
       "dtype: float64"
      ]
     },
     "metadata": {},
     "output_type": "display_data"
    },
    {
     "data": {
      "text/plain": [
       "Intercept    1.0\n",
       "marketing    0.0\n",
       "dtype: float64"
      ]
     },
     "metadata": {},
     "output_type": "display_data"
    }
   ],
   "source": [
    "display(np.round(marketing_slr_model.tvalues,3), np.round(marketing_slr_model.pvalues,3))"
   ]
  },
  {
   "cell_type": "code",
   "execution_count": 78,
   "id": "0d3d672b",
   "metadata": {},
   "outputs": [],
   "source": [
    "admin_plus_marketing = smf.ols('profit ~ admin + marketing', data =data_standard_scaled).fit()"
   ]
  },
  {
   "cell_type": "code",
   "execution_count": 79,
   "id": "416088ef",
   "metadata": {},
   "outputs": [
    {
     "name": "stdout",
     "output_type": "stream",
     "text": [
      "R-squared     : 0.601\n",
      "Adj.R-squared : 0.584\n"
     ]
    }
   ],
   "source": [
    "print('R-squared     :',admin_plus_marketing.rsquared.round(3))\n",
    "print('Adj.R-squared :',admin_plus_marketing.rsquared_adj.round(3))"
   ]
  },
  {
   "cell_type": "code",
   "execution_count": 83,
   "id": "92defa66",
   "metadata": {},
   "outputs": [],
   "source": [
    "from statsmodels.stats.outliers_influence import variance_inflation_factor as vif"
   ]
  },
  {
   "cell_type": "code",
   "execution_count": 84,
   "id": "994ca65e",
   "metadata": {},
   "outputs": [
    {
     "data": {
      "text/html": [
       "<div>\n",
       "<style scoped>\n",
       "    .dataframe tbody tr th:only-of-type {\n",
       "        vertical-align: middle;\n",
       "    }\n",
       "\n",
       "    .dataframe tbody tr th {\n",
       "        vertical-align: top;\n",
       "    }\n",
       "\n",
       "    .dataframe thead th {\n",
       "        text-align: right;\n",
       "    }\n",
       "</style>\n",
       "<table border=\"1\" class=\"dataframe\">\n",
       "  <thead>\n",
       "    <tr style=\"text-align: right;\">\n",
       "      <th></th>\n",
       "      <th>Features</th>\n",
       "      <th>VIF</th>\n",
       "    </tr>\n",
       "  </thead>\n",
       "  <tbody>\n",
       "    <tr>\n",
       "      <th>1</th>\n",
       "      <td>admin</td>\n",
       "      <td>4.218831</td>\n",
       "    </tr>\n",
       "    <tr>\n",
       "      <th>0</th>\n",
       "      <td>marketing</td>\n",
       "      <td>7.589312</td>\n",
       "    </tr>\n",
       "    <tr>\n",
       "      <th>2</th>\n",
       "      <td>research</td>\n",
       "      <td>8.602235</td>\n",
       "    </tr>\n",
       "  </tbody>\n",
       "</table>\n",
       "</div>"
      ],
      "text/plain": [
       "    Features       VIF\n",
       "1      admin  4.218831\n",
       "0  marketing  7.589312\n",
       "2   research  8.602235"
      ]
     },
     "execution_count": 84,
     "metadata": {},
     "output_type": "execute_result"
    }
   ],
   "source": [
    "x = startup_data4[['marketing','admin','research']]\n",
    "vif_data = pd.DataFrame()\n",
    "vif_data['Features'] = x.columns\n",
    "vif_data['VIF'] = [vif(x.values, i) for i in range(len(x.columns))]\n",
    "vif_data.sort_values(by = ['VIF'])"
   ]
  },
  {
   "cell_type": "code",
   "execution_count": 85,
   "id": "88f2dc56",
   "metadata": {},
   "outputs": [],
   "source": [
    "from statsmodels.stats.outliers_influence import variance_inflation_factor as vif"
   ]
  },
  {
   "cell_type": "code",
   "execution_count": 86,
   "id": "ad89d408",
   "metadata": {},
   "outputs": [
    {
     "data": {
      "text/html": [
       "<div>\n",
       "<style scoped>\n",
       "    .dataframe tbody tr th:only-of-type {\n",
       "        vertical-align: middle;\n",
       "    }\n",
       "\n",
       "    .dataframe tbody tr th {\n",
       "        vertical-align: top;\n",
       "    }\n",
       "\n",
       "    .dataframe thead th {\n",
       "        text-align: right;\n",
       "    }\n",
       "</style>\n",
       "<table border=\"1\" class=\"dataframe\">\n",
       "  <thead>\n",
       "    <tr style=\"text-align: right;\">\n",
       "      <th></th>\n",
       "      <th>Features</th>\n",
       "      <th>VIF</th>\n",
       "    </tr>\n",
       "  </thead>\n",
       "  <tbody>\n",
       "    <tr>\n",
       "      <th>0</th>\n",
       "      <td>marketing</td>\n",
       "      <td>7.186744</td>\n",
       "    </tr>\n",
       "    <tr>\n",
       "      <th>1</th>\n",
       "      <td>research</td>\n",
       "      <td>7.186744</td>\n",
       "    </tr>\n",
       "  </tbody>\n",
       "</table>\n",
       "</div>"
      ],
      "text/plain": [
       "    Features       VIF\n",
       "0  marketing  7.186744\n",
       "1   research  7.186744"
      ]
     },
     "execution_count": 86,
     "metadata": {},
     "output_type": "execute_result"
    }
   ],
   "source": [
    "x = startup_data4[['marketing','research']]\n",
    "vif_data = pd.DataFrame()\n",
    "vif_data['Features'] = x.columns\n",
    "vif_data['VIF'] = [vif(x.values, i) for i in range(len(x.columns))]\n",
    "vif_data.sort_values(by = ['VIF'])"
   ]
  },
  {
   "cell_type": "code",
   "execution_count": 87,
   "id": "84e416a2",
   "metadata": {},
   "outputs": [
    {
     "data": {
      "text/html": [
       "<div>\n",
       "<style scoped>\n",
       "    .dataframe tbody tr th:only-of-type {\n",
       "        vertical-align: middle;\n",
       "    }\n",
       "\n",
       "    .dataframe tbody tr th {\n",
       "        vertical-align: top;\n",
       "    }\n",
       "\n",
       "    .dataframe thead th {\n",
       "        text-align: right;\n",
       "    }\n",
       "</style>\n",
       "<table border=\"1\" class=\"dataframe\">\n",
       "  <thead>\n",
       "    <tr style=\"text-align: right;\">\n",
       "      <th></th>\n",
       "      <th>research</th>\n",
       "      <th>admin</th>\n",
       "      <th>marketing</th>\n",
       "      <th>profit</th>\n",
       "    </tr>\n",
       "  </thead>\n",
       "  <tbody>\n",
       "    <tr>\n",
       "      <th>0</th>\n",
       "      <td>165349.2</td>\n",
       "      <td>136897.8</td>\n",
       "      <td>471784.1</td>\n",
       "      <td>192261.83</td>\n",
       "    </tr>\n",
       "  </tbody>\n",
       "</table>\n",
       "</div>"
      ],
      "text/plain": [
       "   research     admin  marketing     profit\n",
       "0  165349.2  136897.8   471784.1  192261.83"
      ]
     },
     "execution_count": 87,
     "metadata": {},
     "output_type": "execute_result"
    }
   ],
   "source": [
    "startup_data4.head(1)"
   ]
  },
  {
   "cell_type": "code",
   "execution_count": 88,
   "id": "4daea9bf",
   "metadata": {},
   "outputs": [
    {
     "name": "stdout",
     "output_type": "stream",
     "text": [
      "R-squared     : 0.958\n",
      "Adj.R-squared : 0.957\n",
      "AIC Value     : -10.808\n",
      "BIC Value     : -5.133\n",
      "P-Value       :\n",
      " Intercept    1.000000e+00\n",
      "research     5.451979e-33\n",
      "admin        2.728844e-01\n",
      "dtype: float64\n"
     ]
    }
   ],
   "source": [
    "admin_present_model = smf.ols('profit ~ research + admin', data= data_standard_scaled).fit()\n",
    "print('R-squared     :',admin_present_model.rsquared.round(3))\n",
    "print('Adj.R-squared :',admin_present_model.rsquared_adj.round(3))\n",
    "print('AIC Value     :',admin_present_model.aic.round(3))\n",
    "print('BIC Value     :',admin_present_model.bic.round(3))\n",
    "print('P-Value       :\\n',admin_present_model.pvalues)"
   ]
  },
  {
   "cell_type": "code",
   "execution_count": 89,
   "id": "43403c37",
   "metadata": {},
   "outputs": [
    {
     "name": "stdout",
     "output_type": "stream",
     "text": [
      "R-squared     : 0.961\n",
      "Adj.R-squared : 0.959\n",
      "AIC Value     : -14.017\n",
      "BIC Value     : -8.342\n",
      "P-Value       :\n",
      " Intercept    1.000000e+00\n",
      "research     3.628510e-26\n",
      "marketing    4.084443e-02\n",
      "dtype: float64\n"
     ]
    }
   ],
   "source": [
    "marketing_present_model = smf.ols('profit ~ research + marketing', data= data_standard_scaled).fit()\n",
    "print('R-squared     :',marketing_present_model.rsquared.round(3))\n",
    "print('Adj.R-squared :',marketing_present_model.rsquared_adj.round(3))\n",
    "print('AIC Value     :',marketing_present_model.aic.round(3))\n",
    "print('BIC Value     :',marketing_present_model.bic.round(3))\n",
    "print('P-Value       :\\n',marketing_present_model.pvalues)"
   ]
  },
  {
   "cell_type": "code",
   "execution_count": 90,
   "id": "29998a8a",
   "metadata": {},
   "outputs": [
    {
     "data": {
      "text/plain": [
       "Index(['research', 'admin', 'marketing', 'state', 'profit'], dtype='object')"
      ]
     },
     "execution_count": 90,
     "metadata": {},
     "output_type": "execute_result"
    }
   ],
   "source": [
    "startup_data.columns"
   ]
  },
  {
   "cell_type": "code",
   "execution_count": 104,
   "id": "b6cebd6a",
   "metadata": {},
   "outputs": [],
   "source": [
    "features = startup_data4.drop('profit', axis = 1).values"
   ]
  },
  {
   "cell_type": "code",
   "execution_count": 105,
   "id": "d5f939d2",
   "metadata": {},
   "outputs": [],
   "source": [
    "target= startup_data4.iloc[:,3:].values.reshape(-1,1)"
   ]
  },
  {
   "cell_type": "code",
   "execution_count": 106,
   "id": "d0e58953",
   "metadata": {},
   "outputs": [
    {
     "name": "stdout",
     "output_type": "stream",
     "text": [
      "The shape of fatures (49, 3)\n",
      "The shpe of target (49, 1)\n"
     ]
    }
   ],
   "source": [
    "print('The shape of fatures',features.shape)\n",
    "print('The shpe of target',target.shape)"
   ]
  },
  {
   "cell_type": "code",
   "execution_count": 107,
   "id": "4c96d502",
   "metadata": {},
   "outputs": [
    {
     "name": "stdout",
     "output_type": "stream",
     "text": [
      "Shape of X_train :  (39, 3)\n",
      "Shape of X_test  :  (10, 3)\n",
      "Shape of y_train :  (39, 1)\n",
      "Shape of y_test  :  (10, 1)\n"
     ]
    }
   ],
   "source": [
    "x_train, x_test, y_train, y_test = train_test_split(features, target, test_size = 0.20, random_state = 13)\n",
    "print(\"Shape of X_train : \",x_train.shape)\n",
    "print(\"Shape of X_test  : \", x_test.shape)\n",
    "print(\"Shape of y_train : \",y_train.shape)\n",
    "print(\"Shape of y_test  : \",y_test.shape)"
   ]
  },
  {
   "cell_type": "code",
   "execution_count": 108,
   "id": "83c31c68",
   "metadata": {},
   "outputs": [],
   "source": [
    "transformer_x = StandardScaler().fit(x_train)\n",
    "transformer_y = StandardScaler().fit(y_train) "
   ]
  },
  {
   "cell_type": "code",
   "execution_count": 109,
   "id": "8624ecfe",
   "metadata": {},
   "outputs": [],
   "source": [
    "x_train_scal = transformer_x.transform(x_train)\n",
    "x_test_scal = transformer_x.transform(x_test)"
   ]
  },
  {
   "cell_type": "code",
   "execution_count": 110,
   "id": "a657b883",
   "metadata": {},
   "outputs": [],
   "source": [
    "y_train_scal = transformer_y.transform(y_train)\n",
    "y_test_scal = transformer_y.transform(y_test)"
   ]
  },
  {
   "cell_type": "code",
   "execution_count": 111,
   "id": "ad126a1a",
   "metadata": {},
   "outputs": [],
   "source": [
    "lin_model=LinearRegression()"
   ]
  },
  {
   "cell_type": "code",
   "execution_count": 112,
   "id": "05f47efb",
   "metadata": {},
   "outputs": [
    {
     "data": {
      "text/html": [
       "<style>#sk-container-id-1 {color: black;background-color: white;}#sk-container-id-1 pre{padding: 0;}#sk-container-id-1 div.sk-toggleable {background-color: white;}#sk-container-id-1 label.sk-toggleable__label {cursor: pointer;display: block;width: 100%;margin-bottom: 0;padding: 0.3em;box-sizing: border-box;text-align: center;}#sk-container-id-1 label.sk-toggleable__label-arrow:before {content: \"▸\";float: left;margin-right: 0.25em;color: #696969;}#sk-container-id-1 label.sk-toggleable__label-arrow:hover:before {color: black;}#sk-container-id-1 div.sk-estimator:hover label.sk-toggleable__label-arrow:before {color: black;}#sk-container-id-1 div.sk-toggleable__content {max-height: 0;max-width: 0;overflow: hidden;text-align: left;background-color: #f0f8ff;}#sk-container-id-1 div.sk-toggleable__content pre {margin: 0.2em;color: black;border-radius: 0.25em;background-color: #f0f8ff;}#sk-container-id-1 input.sk-toggleable__control:checked~div.sk-toggleable__content {max-height: 200px;max-width: 100%;overflow: auto;}#sk-container-id-1 input.sk-toggleable__control:checked~label.sk-toggleable__label-arrow:before {content: \"▾\";}#sk-container-id-1 div.sk-estimator input.sk-toggleable__control:checked~label.sk-toggleable__label {background-color: #d4ebff;}#sk-container-id-1 div.sk-label input.sk-toggleable__control:checked~label.sk-toggleable__label {background-color: #d4ebff;}#sk-container-id-1 input.sk-hidden--visually {border: 0;clip: rect(1px 1px 1px 1px);clip: rect(1px, 1px, 1px, 1px);height: 1px;margin: -1px;overflow: hidden;padding: 0;position: absolute;width: 1px;}#sk-container-id-1 div.sk-estimator {font-family: monospace;background-color: #f0f8ff;border: 1px dotted black;border-radius: 0.25em;box-sizing: border-box;margin-bottom: 0.5em;}#sk-container-id-1 div.sk-estimator:hover {background-color: #d4ebff;}#sk-container-id-1 div.sk-parallel-item::after {content: \"\";width: 100%;border-bottom: 1px solid gray;flex-grow: 1;}#sk-container-id-1 div.sk-label:hover label.sk-toggleable__label {background-color: #d4ebff;}#sk-container-id-1 div.sk-serial::before {content: \"\";position: absolute;border-left: 1px solid gray;box-sizing: border-box;top: 0;bottom: 0;left: 50%;z-index: 0;}#sk-container-id-1 div.sk-serial {display: flex;flex-direction: column;align-items: center;background-color: white;padding-right: 0.2em;padding-left: 0.2em;position: relative;}#sk-container-id-1 div.sk-item {position: relative;z-index: 1;}#sk-container-id-1 div.sk-parallel {display: flex;align-items: stretch;justify-content: center;background-color: white;position: relative;}#sk-container-id-1 div.sk-item::before, #sk-container-id-1 div.sk-parallel-item::before {content: \"\";position: absolute;border-left: 1px solid gray;box-sizing: border-box;top: 0;bottom: 0;left: 50%;z-index: -1;}#sk-container-id-1 div.sk-parallel-item {display: flex;flex-direction: column;z-index: 1;position: relative;background-color: white;}#sk-container-id-1 div.sk-parallel-item:first-child::after {align-self: flex-end;width: 50%;}#sk-container-id-1 div.sk-parallel-item:last-child::after {align-self: flex-start;width: 50%;}#sk-container-id-1 div.sk-parallel-item:only-child::after {width: 0;}#sk-container-id-1 div.sk-dashed-wrapped {border: 1px dashed gray;margin: 0 0.4em 0.5em 0.4em;box-sizing: border-box;padding-bottom: 0.4em;background-color: white;}#sk-container-id-1 div.sk-label label {font-family: monospace;font-weight: bold;display: inline-block;line-height: 1.2em;}#sk-container-id-1 div.sk-label-container {text-align: center;}#sk-container-id-1 div.sk-container {/* jupyter's `normalize.less` sets `[hidden] { display: none; }` but bootstrap.min.css set `[hidden] { display: none !important; }` so we also need the `!important` here to be able to override the default hidden behavior on the sphinx rendered scikit-learn.org. See: https://github.com/scikit-learn/scikit-learn/issues/21755 */display: inline-block !important;position: relative;}#sk-container-id-1 div.sk-text-repr-fallback {display: none;}</style><div id=\"sk-container-id-1\" class=\"sk-top-container\"><div class=\"sk-text-repr-fallback\"><pre>LinearRegression()</pre><b>In a Jupyter environment, please rerun this cell to show the HTML representation or trust the notebook. <br />On GitHub, the HTML representation is unable to render, please try loading this page with nbviewer.org.</b></div><div class=\"sk-container\" hidden><div class=\"sk-item\"><div class=\"sk-estimator sk-toggleable\"><input class=\"sk-toggleable__control sk-hidden--visually\" id=\"sk-estimator-id-1\" type=\"checkbox\" checked><label for=\"sk-estimator-id-1\" class=\"sk-toggleable__label sk-toggleable__label-arrow\">LinearRegression</label><div class=\"sk-toggleable__content\"><pre>LinearRegression()</pre></div></div></div></div></div>"
      ],
      "text/plain": [
       "LinearRegression()"
      ]
     },
     "execution_count": 112,
     "metadata": {},
     "output_type": "execute_result"
    }
   ],
   "source": [
    "lin_model.fit(x_train,y_train)"
   ]
  },
  {
   "cell_type": "code",
   "execution_count": 115,
   "id": "a6e25055",
   "metadata": {},
   "outputs": [],
   "source": [
    "lin_reg_model = LinearRegression().fit(x_train, y_train)"
   ]
  },
  {
   "cell_type": "code",
   "execution_count": 116,
   "id": "eb068aff",
   "metadata": {},
   "outputs": [
    {
     "name": "stdout",
     "output_type": "stream",
     "text": [
      "0.9613369174842474 0.9571118909104591\n"
     ]
    }
   ],
   "source": [
    "print(lin_reg_model.score(x_train, y_train),lin_reg_model.score(x_test, y_test))"
   ]
  },
  {
   "cell_type": "code",
   "execution_count": 117,
   "id": "6fc8944c",
   "metadata": {},
   "outputs": [],
   "source": [
    "X_test_scaled = transformer_x.transform(x_test)"
   ]
  },
  {
   "cell_type": "code",
   "execution_count": 120,
   "id": "f499444b",
   "metadata": {},
   "outputs": [],
   "source": [
    "prediction = lin_model.predict(X_test_scaled)"
   ]
  },
  {
   "cell_type": "code",
   "execution_count": 121,
   "id": "63fc9d80",
   "metadata": {},
   "outputs": [],
   "source": [
    "prediction_unscaled = transformer_y.inverse_transform(prediction)"
   ]
  },
  {
   "cell_type": "code",
   "execution_count": 128,
   "id": "045451b1",
   "metadata": {},
   "outputs": [],
   "source": [
    "cv_linear = cross_val_score(estimator = lin_model, X = x_train_scal, y = y_train_scal, cv = 10)"
   ]
  },
  {
   "cell_type": "code",
   "execution_count": 134,
   "id": "b801a98c",
   "metadata": {},
   "outputs": [],
   "source": [
    "y_pred_linear_train = lin_model.predict(x_train_scal)\n",
    "r2_score_all_feature_train = r2_score(y_train_scal, y_pred_linear_train)"
   ]
  },
  {
   "cell_type": "code",
   "execution_count": 136,
   "id": "41f38bf2",
   "metadata": {},
   "outputs": [],
   "source": [
    "y_pred_linear_test = lin_model.predict(x_test_scal)\n",
    "r2_score_all_feature_test = r2_score(y_test_scal, y_pred_linear_test)"
   ]
  },
  {
   "cell_type": "code",
   "execution_count": 141,
   "id": "6a142c76",
   "metadata": {},
   "outputs": [
    {
     "name": "stdout",
     "output_type": "stream",
     "text": [
      "CV                      : 0.7452761878241341\n",
      "R2_score (train)        : -2705279413.419598\n",
      "R2_score (test)         : -2056385213.591524\n",
      "RMSE using all features : 1900784480.4586997\n"
     ]
    }
   ],
   "source": [
    "rmse_linear_using_all_features = (np.sqrt(mean_squared_error(y_test, prediction_unscaled)))\n",
    "print(\"CV                      :\", cv_linear.mean())\n",
    "print(\"R2_score (train)        :\", r2_score_all_feature_train)\n",
    "print(\"R2_score (test)         :\" , r2_score_all_feature_test)\n",
    "print(\"RMSE using all features :\", rmse_linear_using_all_features)"
   ]
  },
  {
   "cell_type": "code",
   "execution_count": 143,
   "id": "1f0d8e5f",
   "metadata": {},
   "outputs": [
    {
     "name": "stdout",
     "output_type": "stream",
     "text": [
      "R-squared     : 0.957\n",
      "Adj.R-squared : 0.956\n",
      "AIC Value     : -11.514\n",
      "BIC Value     : -7.73\n",
      "P-Value       :\n",
      " Intercept    1.000000e+00\n",
      "research     7.555104e-34\n",
      "dtype: float64\n"
     ]
    }
   ],
   "source": [
    "final_model = smf.ols('profit ~ research', data= data_standard_scaled).fit()\n",
    "print('R-squared     :',final_model.rsquared.round(3))\n",
    "print('Adj.R-squared :',final_model.rsquared_adj.round(3))\n",
    "print('AIC Value     :',final_model.aic.round(3))\n",
    "print('BIC Value     :',final_model.bic.round(3))\n",
    "print('P-Value       :\\n',final_model.pvalues)"
   ]
  },
  {
   "cell_type": "code",
   "execution_count": 144,
   "id": "1d6d2260",
   "metadata": {},
   "outputs": [],
   "source": [
    "def get_standardized_values( vals ):\n",
    "    return (vals - vals.mean())/vals.std()"
   ]
  },
  {
   "cell_type": "code",
   "execution_count": 145,
   "id": "d9fb5033",
   "metadata": {},
   "outputs": [
    {
     "data": {
      "image/png": "[encoded data removed]",
      "text/plain": [
       "<Figure size 640x480 with 1 Axes>"
      ]
     },
     "metadata": {},
     "output_type": "display_data"
    }
   ],
   "source": [
    "plt.scatter(get_standardized_values(final_model.fittedvalues), get_standardized_values(final_model.resid))\n",
    "plt.title('Residual Plot')\n",
    "plt.xlabel('Standardized Fitted Values')\n",
    "plt.ylabel('Standardized Residual Values')\n",
    "plt.show()"
   ]
  },
  {
   "cell_type": "code",
   "execution_count": 146,
   "id": "b4fa717f",
   "metadata": {},
   "outputs": [],
   "source": [
    "influence_points = final_model.get_influence()\n",
    "c, p_value = influence_points.cooks_distance"
   ]
  },
  {
   "cell_type": "code",
   "execution_count": 147,
   "id": "9006559a",
   "metadata": {},
   "outputs": [
    {
     "name": "stdout",
     "output_type": "stream",
     "text": [
      "Cut-off line at 0.31\n"
     ]
    }
   ],
   "source": [
    "k = startup_data4.shape[1]\n",
    "n = startup_data4.shape[0]\n",
    "leverage_cutoff = (3*(k+1))/n\n",
    "print('Cut-off line at',np.round(leverage_cutoff,2))"
   ]
  },
  {
   "cell_type": "code",
   "execution_count": 150,
   "id": "a5bb64f6",
   "metadata": {},
   "outputs": [
    {
     "data": {
      "image/png": "[encoded data removed]",
      "text/plain": [
       "<Figure size 800x500 with 1 Axes>"
      ]
     },
     "metadata": {},
     "output_type": "display_data"
    }
   ],
   "source": [
    "fig = plt.figure(figsize = (8,5))\n",
    "x = [0,48]\n",
    "y = [0.5,0.5]\n",
    "plt.plot(x, y, color = 'darkred', linewidth = 2)\n",
    "y1 = [0.31,0.31]\n",
    "plt.plot(x , y1, color = 'red', linewidth = 2)\n",
    "plt.stem(np.arange(len(startup_data4)), np.round(c,3))\n",
    "plt.xlabel('Row index')\n",
    "plt.ylabel(\"Cook's Distance\")\n",
    "plt.show()"
   ]
  },
  {
   "cell_type": "code",
   "execution_count": 166,
   "id": "96c29cc7",
   "metadata": {},
   "outputs": [
    {
     "data": {
      "text/html": [
       "<div>\n",
       "<style scoped>\n",
       "    .dataframe tbody tr th:only-of-type {\n",
       "        vertical-align: middle;\n",
       "    }\n",
       "\n",
       "    .dataframe tbody tr th {\n",
       "        vertical-align: top;\n",
       "    }\n",
       "\n",
       "    .dataframe thead th {\n",
       "        text-align: right;\n",
       "    }\n",
       "</style>\n",
       "<table border=\"1\" class=\"dataframe\">\n",
       "  <thead>\n",
       "    <tr style=\"text-align: right;\">\n",
       "      <th></th>\n",
       "      <th>Predicted_Profit</th>\n",
       "      <th>Profit</th>\n",
       "      <th>RnD</th>\n",
       "    </tr>\n",
       "  </thead>\n",
       "  <tbody>\n",
       "    <tr>\n",
       "      <th>0</th>\n",
       "      <td>1.900854e+09</td>\n",
       "      <td>192261.83</td>\n",
       "      <td>165349.20</td>\n",
       "    </tr>\n",
       "    <tr>\n",
       "      <th>1</th>\n",
       "      <td>1.900948e+09</td>\n",
       "      <td>191792.06</td>\n",
       "      <td>162597.70</td>\n",
       "    </tr>\n",
       "    <tr>\n",
       "      <th>2</th>\n",
       "      <td>1.900900e+09</td>\n",
       "      <td>191050.39</td>\n",
       "      <td>153441.51</td>\n",
       "    </tr>\n",
       "    <tr>\n",
       "      <th>3</th>\n",
       "      <td>1.900846e+09</td>\n",
       "      <td>182901.99</td>\n",
       "      <td>144372.41</td>\n",
       "    </tr>\n",
       "    <tr>\n",
       "      <th>4</th>\n",
       "      <td>1.900963e+09</td>\n",
       "      <td>166187.94</td>\n",
       "      <td>142107.34</td>\n",
       "    </tr>\n",
       "    <tr>\n",
       "      <th>5</th>\n",
       "      <td>1.900929e+09</td>\n",
       "      <td>156991.12</td>\n",
       "      <td>131876.90</td>\n",
       "    </tr>\n",
       "    <tr>\n",
       "      <th>6</th>\n",
       "      <td>1.900865e+09</td>\n",
       "      <td>156122.51</td>\n",
       "      <td>134615.46</td>\n",
       "    </tr>\n",
       "    <tr>\n",
       "      <th>7</th>\n",
       "      <td>1.900889e+09</td>\n",
       "      <td>155752.60</td>\n",
       "      <td>130298.13</td>\n",
       "    </tr>\n",
       "    <tr>\n",
       "      <th>8</th>\n",
       "      <td>1.900900e+09</td>\n",
       "      <td>152211.77</td>\n",
       "      <td>120542.52</td>\n",
       "    </tr>\n",
       "    <tr>\n",
       "      <th>9</th>\n",
       "      <td>1.900939e+09</td>\n",
       "      <td>149759.96</td>\n",
       "      <td>123334.88</td>\n",
       "    </tr>\n",
       "  </tbody>\n",
       "</table>\n",
       "</div>"
      ],
      "text/plain": [
       "   Predicted_Profit     Profit        RnD\n",
       "0      1.900854e+09  192261.83  165349.20\n",
       "1      1.900948e+09  191792.06  162597.70\n",
       "2      1.900900e+09  191050.39  153441.51\n",
       "3      1.900846e+09  182901.99  144372.41\n",
       "4      1.900963e+09  166187.94  142107.34\n",
       "5      1.900929e+09  156991.12  131876.90\n",
       "6      1.900865e+09  156122.51  134615.46\n",
       "7      1.900889e+09  155752.60  130298.13\n",
       "8      1.900900e+09  152211.77  120542.52\n",
       "9      1.900939e+09  149759.96  123334.88"
      ]
     },
     "execution_count": 166,
     "metadata": {},
     "output_type": "execute_result"
    }
   ],
   "source": [
    "predicted = pd.DataFrame(prediction_unscaled, columns=['Predicted_Profit'])\n",
    "predicted['Profit'] = startup_data4.profit\n",
    "predicted['RnD'] = startup_data4.research\n",
    "predicted\n"
   ]
  },
  {
   "cell_type": "code",
   "execution_count": null,
   "id": "b992bec3",
   "metadata": {},
   "outputs": [],
   "source": []
  }
 ],
 "metadata": {
  "kernelspec": {
   "display_name": "Python 3 (ipykernel)",
   "language": "python",
   "name": "python3"
  },
  "language_info": {
   "codemirror_mode": {
    "name": "ipython",
    "version": 3
   },
   "file_extension": ".py",
   "mimetype": "text/x-python",
   "name": "python",
   "nbconvert_exporter": "python",
   "pygments_lexer": "ipython3",
   "version": "3.11.5"
  }
 },
 "nbformat": 4,
 "nbformat_minor": 5
}
