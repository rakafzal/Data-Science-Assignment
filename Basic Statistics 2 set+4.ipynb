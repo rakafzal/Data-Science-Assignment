{
 "cells": [
  {
   "cell_type": "code",
   "execution_count": 1,
   "id": "2b7702b5",
   "metadata": {},
   "outputs": [],
   "source": [
    "import pandas as pd\n",
    "import numpy as np\n",
    "import matplotlib.pyplot as plt\n",
    "import seaborn as sns\n",
    "import scipy.stats as stats\n",
    "import statsmodels.api as smf"
   ]
  },
  {
   "cell_type": "markdown",
   "id": "e81c7b1c",
   "metadata": {},
   "source": [
    "### Question  3"
   ]
  },
  {
   "cell_type": "markdown",
   "id": "c553c523",
   "metadata": {},
   "source": [
    "Auditors at a small community bank randomly sample 100 withdrawal transactions made during the week at an ATM machine located near the bank’s main branch. Over the past 2 years, the average withdrawal amount has been $50 with a standard deviation of $40. Since audit investigations are typically expensive, the auditors decide to not initiate further investigations if the mean transaction amount of the sample is between $45 and $55. What is the probability that in any given week, there will be an investigation?\n",
    "\n",
    "A.\t1.25%\n",
    "B.\t2.5%\n",
    "C.\t10.55%\n",
    "D.\t21.1%\n",
    "E.\t50%\n"
   ]
  },
  {
   "cell_type": "code",
   "execution_count": 2,
   "id": "dd70b4f4",
   "metadata": {},
   "outputs": [],
   "source": [
    "mean = 50\n",
    "std = 40\n",
    "n = 100\n",
    "d_f = 100"
   ]
  },
  {
   "cell_type": "code",
   "execution_count": 4,
   "id": "a106138b",
   "metadata": {},
   "outputs": [],
   "source": [
    "t_forty_five = (45-50)/(40/np.sqrt(100))\n",
    "t_fifty_five = (55-50)/(40/np.sqrt(100))"
   ]
  },
  {
   "cell_type": "code",
   "execution_count": 5,
   "id": "e5400eb7",
   "metadata": {},
   "outputs": [],
   "source": [
    "forty_five = stats.t.cdf(t_forty_five, df = d_f)\n",
    "fifty_five = stats.t.cdf(t_fifty_five, d_f)\n",
    "prob = fifty_five - forty_five"
   ]
  },
  {
   "cell_type": "code",
   "execution_count": 6,
   "id": "6aea4af5",
   "metadata": {},
   "outputs": [
    {
     "name": "stderr",
     "output_type": "stream",
     "text": [
      "C:\\Users\\Lenovo\\AppData\\Local\\Temp\\ipykernel_7020\\3620460200.py:1: DeprecationWarning: Use of keyword argument 'alpha' for method 'interval' is deprecated and wil be removed in SciPy 1.11.0. Use first positional argument or keyword argument 'confidence' instead.\n",
      "  np.round(stats.t.interval(alpha = prob, df = d_f, loc = mean, scale = std/np.sqrt(n)),)\n"
     ]
    },
    {
     "data": {
      "text/plain": [
       "array([45., 55.])"
      ]
     },
     "execution_count": 6,
     "metadata": {},
     "output_type": "execute_result"
    }
   ],
   "source": [
    "np.round(stats.t.interval(alpha = prob, df = d_f, loc = mean, scale = std/np.sqrt(n)),)"
   ]
  },
  {
   "cell_type": "code",
   "execution_count": 7,
   "id": "f43363ab",
   "metadata": {},
   "outputs": [
    {
     "name": "stdout",
     "output_type": "stream",
     "text": [
      "The probability that in any given week, there will be an investigation is 21.4 %\n"
     ]
    }
   ],
   "source": [
    "print('The probability that in any given week, there will be an investigation is',np.round((1-prob)*100,1),'%')"
   ]
  },
  {
   "cell_type": "markdown",
   "id": "d94ec54e",
   "metadata": {},
   "source": [
    "### Question 4"
   ]
  },
  {
   "cell_type": "markdown",
   "id": "5b2c924a",
   "metadata": {},
   "source": [
    "4.\tThe auditors from the above example would like to maintain the probability of investigation to 5%. Which of the following represents the minimum number transactions that they should sample if they do not want to change the thresholds of 45 and 55? Assume that the sample statistics remain unchanged.\n",
    "\n",
    "A.\t144\n",
    "B.\t150\n",
    "C.\t196\n",
    "D.\t250\n",
    "E.\tNot enough information\n"
   ]
  },
  {
   "cell_type": "code",
   "execution_count": 8,
   "id": "29ba1d33",
   "metadata": {},
   "outputs": [],
   "source": [
    "x_bar = 45\n",
    "s_std = 40\n",
    "mew = 50"
   ]
  },
  {
   "cell_type": "code",
   "execution_count": 9,
   "id": "3e1d066f",
   "metadata": {},
   "outputs": [
    {
     "data": {
      "text/plain": [
       "-1.97"
      ]
     },
     "execution_count": 9,
     "metadata": {},
     "output_type": "execute_result"
    }
   ],
   "source": [
    "t = np.round(stats.t.ppf(0.025, df = 249),2)\n",
    "t"
   ]
  },
  {
   "cell_type": "code",
   "execution_count": 10,
   "id": "0bf70f51",
   "metadata": {},
   "outputs": [],
   "source": [
    "n = ((s_std*abs(t)) / (5))**2"
   ]
  },
  {
   "cell_type": "code",
   "execution_count": 11,
   "id": "d7e743b8",
   "metadata": {},
   "outputs": [
    {
     "name": "stdout",
     "output_type": "stream",
     "text": [
      "The Auditors would like to maintain the probability of investigation to 5%, they should sample 248.0 transactions if they do not want to change the thresholds of 45 to 55\n",
      "248.3776 247.3776\n"
     ]
    },
    {
     "name": "stderr",
     "output_type": "stream",
     "text": [
      "C:\\Users\\Lenovo\\AppData\\Local\\Temp\\ipykernel_7020\\2646466090.py:6: DeprecationWarning: Use of keyword argument 'alpha' for method 'interval' is deprecated and wil be removed in SciPy 1.11.0. Use first positional argument or keyword argument 'confidence' instead.\n",
      "  np.round(stats.t.interval(alpha = 0.95, df = df, loc = mew, scale = s_std/np.sqrt(n)),)\n"
     ]
    },
    {
     "data": {
      "text/plain": [
       "array([45., 55.])"
      ]
     },
     "execution_count": 11,
     "metadata": {},
     "output_type": "execute_result"
    }
   ],
   "source": [
    "print('The Auditors would like to maintain the probability of investigation to 5%, they should sample',np.round(n,),'transactions if they do not want to change the thresholds of 45 to 55')\n",
    "\n",
    "df= n-1\n",
    "print(n, df)\n",
    "\n",
    "np.round(stats.t.interval(alpha = 0.95, df = df, loc = mew, scale = s_std/np.sqrt(n)),)"
   ]
  },
  {
   "cell_type": "code",
   "execution_count": null,
   "id": "3830b773",
   "metadata": {},
   "outputs": [],
   "source": []
  }
 ],
 "metadata": {
  "kernelspec": {
   "display_name": "Python 3 (ipykernel)",
   "language": "python",
   "name": "python3"
  },
  "language_info": {
   "codemirror_mode": {
    "name": "ipython",
    "version": 3
   },
   "file_extension": ".py",
   "mimetype": "text/x-python",
   "name": "python",
   "nbconvert_exporter": "python",
   "pygments_lexer": "ipython3",
   "version": "3.11.5"
  }
 },
 "nbformat": 4,
 "nbformat_minor": 5
}
